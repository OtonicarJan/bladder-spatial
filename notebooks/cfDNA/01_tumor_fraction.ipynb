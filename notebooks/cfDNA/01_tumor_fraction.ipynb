{
 "cells": [
  {
   "cell_type": "markdown",
   "id": "d46ae6bb-bee4-46a6-8620-75f19374ba5f",
   "metadata": {},
   "source": [
    "# 1. Analysis of results from ichorCNA"
   ]
  },
  {
   "cell_type": "markdown",
   "id": "b4de7b76-5418-46d7-94d0-d69d1fa4062f",
   "metadata": {},
   "source": [
    "Before running this notebook, you need to run all the scripts in `../../scripts/cfDNA/*.sh`."
   ]
  },
  {
   "cell_type": "markdown",
   "id": "16013782-336a-4249-880f-77a12ec6e57e",
   "metadata": {},
   "source": [
    "In order to generate figures 2A and 2B, run `../../scripts/plotting_cfDNA_ONT_fig2.R`."
   ]
  },
  {
   "cell_type": "markdown",
   "id": "2f31285e-7c28-418f-b5ea-5e77755c296f",
   "metadata": {},
   "source": [
    "In order to generate supplementary figure 3A, run `../../scripts/plotting_cfDNA_ONT_suppfig3A.R`."
   ]
  },
  {
   "cell_type": "code",
   "execution_count": null,
   "id": "cf686adc-cd56-4340-a09d-bcd8684531d1",
   "metadata": {},
   "outputs": [],
   "source": [
    "import os\n",
    "import sys\n",
    "import warnings\n",
    "\n",
    "import matplotlib.pyplot as plt\n",
    "import numpy as np\n",
    "import pandas as pd\n",
    "import seaborn as sns\n",
    "from plotting_settings import PLOTTING_PARAMS\n",
    "from scipy.stats import fisher_exact, mannwhitneyu\n",
    "\n",
    "warnings.filterwarnings(\"ignore\")\n",
    "sys.path.insert(1, \"../../helper_functions\")"
   ]
  },
  {
   "cell_type": "code",
   "execution_count": null,
   "id": "1e234654-2cf7-4be5-8a64-03a8abd3b934",
   "metadata": {},
   "outputs": [],
   "source": [
    "df = pd.read_csv(\"../../bladder_metadata.csv\", index_col=0)\n",
    "samples = df.index.to_list()\n",
    "samples = [sample.replace(\" \", \"\") for sample in samples]\n",
    "df.index = df.index.str.rstrip()"
   ]
  },
  {
   "cell_type": "code",
   "execution_count": null,
   "id": "45e3b733-37ba-4ee6-bd76-378349f677a5",
   "metadata": {},
   "outputs": [],
   "source": [
    "alternative_ids = {\"B3\": \"F10\", \"B1\": \"C1\", \"B17\": \"H11\"}"
   ]
  },
  {
   "cell_type": "code",
   "execution_count": null,
   "id": "514a2b1e-ea34-47f5-aa62-dffb4f6f7240",
   "metadata": {},
   "outputs": [],
   "source": [
    "fraction = {}\n",
    "for sample in samples:\n",
    "    if sample in alternative_ids:\n",
    "        sample = alternative_ids[sample]\n",
    "    param = f\"chromothripsis/bladder_cancer/liquid_biopsy/bam_files/{sample}/ichorCNA_{sample}.params.txt\"\n",
    "    if not os.path.isfile(param):\n",
    "        print(f\"{sample} doesnt exist\")\n",
    "        continue\n",
    "    with open(param) as fin:\n",
    "        sample = param.split(\"/\")[-2]\n",
    "        for line in fin:\n",
    "            if line.startswith(\"Tumor Fraction:\"):\n",
    "                fraction[sample] = line.split(\":\\t\")[-1].rstrip()\n",
    "full = pd.DataFrame.from_dict(fraction, orient=\"index\").sort_values(\n",
    "    by=0, ascending=False\n",
    ")"
   ]
  },
  {
   "cell_type": "code",
   "execution_count": null,
   "id": "8239dc4d-c45f-40a2-9596-a6c541a51168",
   "metadata": {},
   "outputs": [],
   "source": [
    "mapping = {}\n",
    "for k, v in alternative_ids.items():\n",
    "    mapping[v] = k"
   ]
  },
  {
   "cell_type": "code",
   "execution_count": null,
   "id": "ea1a217c-544f-4deb-9734-5a04f2ed7f87",
   "metadata": {},
   "outputs": [],
   "source": [
    "full.rename(index=mapping, columns={0: \"cfDNA\"}, inplace=True)"
   ]
  },
  {
   "cell_type": "code",
   "execution_count": null,
   "id": "aff8445b-bc32-46f4-abe7-8b42fd11cd74",
   "metadata": {},
   "outputs": [],
   "source": [
    "df = df.join(full)\n",
    "# Tumor fraction needs to be more than 3% in order to classify a sample as tumor positive\n",
    "df[\"cfDNA_detection\"] = np.where(df[\"cfDNA\"].astype(float) > 0.03, True, False)"
   ]
  },
  {
   "cell_type": "code",
   "execution_count": null,
   "id": "ee3280fe-c558-43b2-bddd-14b5a746ee20",
   "metadata": {},
   "outputs": [],
   "source": [
    "detected = (\n",
    "    df.groupby(\"Grade\")[\"cfDNA_detection\"]\n",
    "    .value_counts()\n",
    "    .unstack(fill_value=0)\n",
    "    .reindex([\"Benign\", \"Low Grade\", \"High Grade\"])\n",
    ")\n",
    "detected = detected.drop(\"Benign\", axis=0)"
   ]
  },
  {
   "cell_type": "code",
   "execution_count": null,
   "id": "847c6666-6a82-4d95-9623-3d0ceb8709f6",
   "metadata": {},
   "outputs": [],
   "source": [
    "sns.set_theme(style=\"white\", rc=PLOTTING_PARAMS)\n",
    "ax = detected.plot(kind=\"bar\", stacked=False, figsize=(8, 6))\n",
    "ax.spines[\"top\"].set_visible(False)\n",
    "ax.spines[\"right\"].set_visible(False)\n",
    "for container in ax.containers:\n",
    "    ax.bar_label(container, label_type=\"edge\", size=12)\n",
    "\n",
    "plt.ylabel(\"Number of samples\")\n",
    "plt.xticks(rotation=0)\n",
    "plt.legend(title=\"Detected tumor DNA\", loc=\"center left\", bbox_to_anchor=(1, 0.5))\n",
    "plt.savefig(\"suppfig_3B_detected_tumor_cfDNA.svg\", dpi=300, bbox_inches=\"tight\")\n",
    "plt.show()\n",
    "plt.close()"
   ]
  },
  {
   "cell_type": "code",
   "execution_count": null,
   "id": "8352158a-3133-410e-add9-e6af223fb2e3",
   "metadata": {},
   "outputs": [],
   "source": [
    "detected"
   ]
  },
  {
   "cell_type": "code",
   "execution_count": null,
   "id": "595e9379-558b-42eb-a118-3cbfdad5542a",
   "metadata": {},
   "outputs": [],
   "source": [
    "fisher_exact(detected.to_numpy(), alternative=\"greater\")"
   ]
  },
  {
   "cell_type": "code",
   "execution_count": null,
   "id": "100ebeb4-c56b-4737-8aea-4728e4e6d332",
   "metadata": {},
   "outputs": [],
   "source": [
    "df[\"cfDNA\"] = df[\"cfDNA\"].astype(float)\n",
    "df[\"Grade\"] = pd.Categorical(\n",
    "    df[\"Grade\"], categories=[\"Low Grade\", \"High Grade\"], ordered=True\n",
    ")"
   ]
  },
  {
   "cell_type": "code",
   "execution_count": null,
   "id": "a9a7bd83-5308-4dbe-b725-2f81568d9392",
   "metadata": {},
   "outputs": [],
   "source": [
    "sns.boxplot(\n",
    "    df[df[\"Grade\"] != \"Benign\"],\n",
    "    y=\"cfDNA\",\n",
    "    x=\"Grade\",\n",
    "    hue=\"Grade\",\n",
    "    palette=[\"#7C5E87\", \"#F392DA\"],\n",
    "    legend=False,\n",
    ")\n",
    "sns.stripplot(df[df[\"Grade\"] != \"Benign\"], y=\"cfDNA\", x=\"Grade\", color=\"black\")\n",
    "sns.despine(top=True, right=True, left=False, bottom=False)\n",
    "plt.ylabel(\"Estimated tumor fraction\")\n",
    "\n",
    "plt.xlabel(\"Grade\")\n",
    "\n",
    "\n",
    "plt.savefig(\"suppfig_3C_cfDNA_tumor_fraction.svg\", dpi=300, bbox_inches=\"tight\")\n",
    "plt.show()\n",
    "plt.close()"
   ]
  },
  {
   "cell_type": "code",
   "execution_count": null,
   "id": "93ac817f-21f9-4adf-8f56-437ed5ec02c0",
   "metadata": {},
   "outputs": [],
   "source": [
    "mannwhitneyu(\n",
    "    df[df[\"Grade\"] == \"High Grade\"][\"cfDNA\"], df[df[\"Grade\"] == \"Low Grade\"][\"cfDNA\"]\n",
    ")"
   ]
  }
 ],
 "metadata": {
  "kernelspec": {
   "display_name": "muon",
   "language": "python",
   "name": "muon"
  },
  "language_info": {
   "codemirror_mode": {
    "name": "ipython",
    "version": 3
   },
   "file_extension": ".py",
   "mimetype": "text/x-python",
   "name": "python",
   "nbconvert_exporter": "python",
   "pygments_lexer": "ipython3",
   "version": "3.10.16"
  }
 },
 "nbformat": 4,
 "nbformat_minor": 5
}
