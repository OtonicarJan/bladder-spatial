{
 "cells": [
  {
   "cell_type": "markdown",
   "id": "38fe3856-6049-4466-85a7-688cf318cfe5",
   "metadata": {},
   "source": [
    "# 0. Basic processing and QC for Visium"
   ]
  },
  {
   "cell_type": "code",
   "execution_count": null,
   "id": "f4740fa8-7029-49b5-b48f-1f596f846793",
   "metadata": {},
   "outputs": [],
   "source": [
    "import sys\n",
    "import warnings\n",
    "\n",
    "import anndata as ad\n",
    "import matplotlib.pyplot as plt\n",
    "import pandas as pd\n",
    "import scanpy as sc\n",
    "from helper_functions import select_slide\n",
    "\n",
    "warnings.filterwarnings(\"ignore\")\n",
    "\n",
    "sys.path.insert(1, \"../../helper_functions\")"
   ]
  },
  {
   "cell_type": "code",
   "execution_count": null,
   "id": "97ee4d3f-a3f6-419e-8bc4-93088853e271",
   "metadata": {},
   "outputs": [],
   "source": [
    "samples = {\n",
    "    \"B123\": None,\n",
    "    \"B154\": None,\n",
    "    \"B156\": None,\n",
    "    \"B175\": None,\n",
    "    \"B178\": None,\n",
    "    \"B183\": None,\n",
    "    \"B22\": None,\n",
    "    \"B24\": None,\n",
    "    \"B32\": None,\n",
    "    \"B4\": None,\n",
    "    \"B42\": None,\n",
    "    \"B60\": None,\n",
    "}"
   ]
  },
  {
   "cell_type": "code",
   "execution_count": null,
   "id": "49a87d60-3b58-4bda-a2dc-94c70f80b9da",
   "metadata": {},
   "outputs": [],
   "source": [
    "sc.__version__"
   ]
  },
  {
   "cell_type": "code",
   "execution_count": null,
   "id": "511973be-5ebf-4265-9203-607953ffcad2",
   "metadata": {},
   "outputs": [],
   "source": [
    "for name in samples:\n",
    "    sample = sc.read_visium(\n",
    "        f\"chromothripsis/j462r/spatial_transcriptomics/spaceranger_results/{name}/outs/\",\n",
    "        library_id=name,\n",
    "    )\n",
    "    sample.var_names_make_unique()\n",
    "    samples[name] = sample"
   ]
  },
  {
   "cell_type": "code",
   "execution_count": null,
   "id": "783b03b3-d9a6-4886-b51f-49b7622eff83",
   "metadata": {},
   "outputs": [],
   "source": [
    "for sample in samples.values():\n",
    "    sc.pp.calculate_qc_metrics(sample, inplace=True)"
   ]
  },
  {
   "cell_type": "code",
   "execution_count": null,
   "id": "bcba6d8e-12a5-4bc3-93ec-c908c4651f35",
   "metadata": {},
   "outputs": [],
   "source": [
    "def make_qc_df(samples):\n",
    "    df = []\n",
    "    for sname, sample in samples.items():\n",
    "        cdf = {\"sample\": sname, \"spots\": sample.n_obs}\n",
    "        for stat, name in (\n",
    "            (\"total_counts\", \"total counts\"),\n",
    "            (\"n_genes_by_counts\", \"detected genes\"),\n",
    "        ):\n",
    "            cdf[f\"median {name}\"] = sample.obs[stat].median()\n",
    "            cdf[f\"mean {name}\"] = sample.obs[stat].mean()\n",
    "            cdf[f\"stddev {name}\"] = sample.obs[stat].std()\n",
    "        df.append(pd.DataFrame(cdf, index=[0]))\n",
    "    return pd.concat(df, axis=0).sort_values(\"sample\").reset_index(drop=True)"
   ]
  },
  {
   "cell_type": "code",
   "execution_count": null,
   "id": "7d225c0f-d003-472e-bae6-b44da0f9a3f0",
   "metadata": {},
   "outputs": [],
   "source": [
    "make_qc_df(samples).to_csv(\"../../data/QC_raw.tsv\", sep=\"\\t\", index=False)"
   ]
  },
  {
   "cell_type": "code",
   "execution_count": null,
   "id": "aef7bb77-54c1-424e-b764-4f3ba3edecc2",
   "metadata": {},
   "outputs": [],
   "source": [
    "for i, sample in samples.items():\n",
    "    fig, axs = plt.subplots(1, 4, figsize=(20, 4))\n",
    "    axs[0].hist(sample.obs[\"total_counts\"], bins=100)\n",
    "    axs[0].set_title(\"total counts\")\n",
    "    axs[1].hist(sample.obs[\"total_counts\"][sample.obs[\"total_counts\"] < 15000], bins=50)\n",
    "    axs[1].set_title(\"total_counts\")\n",
    "    axs[2].hist(sample.obs[\"n_genes_by_counts\"], bins=100)\n",
    "    axs[2].set_title(\"detected genes\")\n",
    "    axs[3].hist(\n",
    "        sample.obs[\"n_genes_by_counts\"][sample.obs[\"n_genes_by_counts\"] < 6000], bins=50\n",
    "    )\n",
    "    axs[3].set_title(\"detected genes\")\n",
    "\n",
    "    fig.suptitle(f\"sample {i}\")"
   ]
  },
  {
   "cell_type": "code",
   "execution_count": null,
   "id": "bed98922-3296-41ec-9f2e-067fe1697ca8",
   "metadata": {
    "tags": []
   },
   "outputs": [],
   "source": [
    "for i, sample in samples.items():\n",
    "    plt.figure(figsize=(12, 6))\n",
    "    sc.pl.spatial(\n",
    "        sample,\n",
    "        color=[\"total_counts\", \"log1p_total_counts\", \"n_genes_by_counts\"],\n",
    "        title=[\n",
    "            f\"sample {i}: total counts\",\n",
    "            f\"sample {i}: log1p(total counts)\",\n",
    "            f\"sample {i}: detected genes\",\n",
    "        ],\n",
    "        size=1.5,\n",
    "        img_key=None,\n",
    "        vmax=\"p99\",\n",
    "    )"
   ]
  },
  {
   "cell_type": "code",
   "execution_count": null,
   "id": "7b3d6552-369c-4a0d-a4ff-1c2d577b7d70",
   "metadata": {},
   "outputs": [],
   "source": [
    "del samples[\"B183\"]\n",
    "del samples[\"B32\"]"
   ]
  },
  {
   "cell_type": "code",
   "execution_count": null,
   "id": "0b4469ba-ac0c-42e3-ab8b-3df5baff9ac5",
   "metadata": {},
   "outputs": [],
   "source": [
    "sc.pp.filter_cells(samples[\"B123\"], min_counts=5000)\n",
    "sc.pp.filter_cells(samples[\"B154\"], min_counts=2500)\n",
    "sc.pp.filter_cells(samples[\"B156\"], min_counts=4000)\n",
    "sc.pp.filter_cells(samples[\"B175\"], min_counts=4000)\n",
    "sc.pp.filter_cells(samples[\"B178\"], min_counts=2500)\n",
    "sc.pp.filter_cells(samples[\"B22\"], min_counts=2000)\n",
    "sc.pp.filter_cells(samples[\"B24\"], min_counts=2000)\n",
    "sc.pp.filter_cells(samples[\"B4\"], min_counts=6000)\n",
    "sc.pp.filter_cells(samples[\"B42\"], min_counts=5000)\n",
    "sc.pp.filter_cells(samples[\"B60\"], min_counts=2500)"
   ]
  },
  {
   "cell_type": "code",
   "execution_count": null,
   "id": "a5cf4825-fb7e-4d97-bb5a-8e5da6731496",
   "metadata": {},
   "outputs": [],
   "source": [
    "# Trying to keep as many genes as possible\n",
    "for sample in samples.values():\n",
    "    sc.pp.filter_genes(sample, min_cells=10)"
   ]
  },
  {
   "cell_type": "code",
   "execution_count": null,
   "id": "6ac26f97-0a9b-4720-be4b-c8b8315b38e2",
   "metadata": {},
   "outputs": [],
   "source": [
    "make_qc_df(samples).to_csv(\"../../data/QC_filtered.tsv\", sep=\"\\t\", index=False)"
   ]
  },
  {
   "cell_type": "code",
   "execution_count": null,
   "id": "1c089c3f-83c6-4f82-a28c-4e4bbc4ff190",
   "metadata": {},
   "outputs": [],
   "source": [
    "for i, sample in samples.items():\n",
    "    sc.pl.spatial(\n",
    "        sample,\n",
    "        color=[\"log1p_total_counts\", \"n_genes_by_counts\"],\n",
    "        title=[f\"sample {i}: log1p(total counts)\", f\"sample {i}: detected genes\"],\n",
    "        size=1.5,\n",
    "        img_key=None,\n",
    "    )"
   ]
  },
  {
   "cell_type": "code",
   "execution_count": null,
   "id": "14b62918-0229-4e21-8b7e-642afe1e81aa",
   "metadata": {},
   "outputs": [],
   "source": [
    "for sample in samples.values():\n",
    "    sample.layers[\"counts\"] = sample.X.copy()"
   ]
  },
  {
   "cell_type": "code",
   "execution_count": null,
   "id": "d712e3e6-2a2c-42fb-b9b7-bfebbc09aeda",
   "metadata": {},
   "outputs": [],
   "source": [
    "for sample in samples.values():\n",
    "    sc.pp.normalize_total(sample, target_sum=1e4, inplace=True)\n",
    "    sc.pp.log1p(sample)\n",
    "    sample.layers[\"log_counts\"] = sample.X.copy()\n",
    "    sample.raw = sample"
   ]
  },
  {
   "cell_type": "code",
   "execution_count": null,
   "id": "bbdeeb4e-5e2f-48f3-a330-c6a51f6bf266",
   "metadata": {},
   "outputs": [],
   "source": [
    "adata_vis = ad.concat(\n",
    "    samples, label=\"sample\", merge=\"same\", uns_merge=\"unique\", index_unique=\"_\"\n",
    ")"
   ]
  },
  {
   "cell_type": "code",
   "execution_count": null,
   "id": "7cb3f77a-a2e3-4992-a2c6-7fd4683c4005",
   "metadata": {},
   "outputs": [],
   "source": [
    "for sample in samples:\n",
    "    print(sample)\n",
    "    sub_adata = select_slide(adata_vis, sample)\n",
    "    sub_adata.write_h5ad(\n",
    "        f\"../../data/{sample}.h5ad\", compression=\"gzip\", compression_opts=9\n",
    "    )\n",
    "\n",
    "print(\"Saving merged adata object\")\n",
    "adata_vis.write_h5ad(\n",
    "    \"../../data/merged_samples.h5ad\", compression=\"gzip\", compression_opts=9\n",
    ")"
   ]
  }
 ],
 "metadata": {
  "kernelspec": {
   "display_name": "muon",
   "language": "python",
   "name": "muon"
  },
  "language_info": {
   "codemirror_mode": {
    "name": "ipython",
    "version": 3
   },
   "file_extension": ".py",
   "mimetype": "text/x-python",
   "name": "python",
   "nbconvert_exporter": "python",
   "pygments_lexer": "ipython3",
   "version": "3.10.16"
  }
 },
 "nbformat": 4,
 "nbformat_minor": 5
}
