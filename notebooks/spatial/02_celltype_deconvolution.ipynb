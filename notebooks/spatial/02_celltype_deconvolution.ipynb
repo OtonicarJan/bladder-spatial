{
 "cells": [
  {
   "cell_type": "markdown",
   "id": "291b83b0-6bf2-41f2-bfcd-2c002ab0e28b",
   "metadata": {},
   "source": [
    "# 2. Celltype deconvolution by cell2location"
   ]
  },
  {
   "cell_type": "code",
   "execution_count": null,
   "id": "ad8823ab-d058-4538-8b46-fcb9f00f33b0",
   "metadata": {},
   "outputs": [],
   "source": [
    "import sys\n",
    "\n",
    "import cell2location\n",
    "import matplotlib.pyplot as plt\n",
    "import pandas as pd\n",
    "import scanpy as sc\n",
    "import seaborn as sns\n",
    "from cell2location.utils import select_slide\n",
    "from helper_functions import select_slide\n",
    "from matplotlib import rcParams\n",
    "\n",
    "warnings.filterwarnings(\"ignore\")\n",
    "sys.path.insert(1, \"../../helper_functions\")\n",
    "\n",
    "\n",
    "rcParams[\"pdf.fonttype\"] = 42"
   ]
  },
  {
   "cell_type": "markdown",
   "id": "26b584b7-29b1-4d25-b1f0-8e7492e20e2e",
   "metadata": {},
   "source": [
    "### Preparing reference signature"
   ]
  },
  {
   "cell_type": "markdown",
   "id": "5876b68c-0682-4c89-bfa0-15224752b36c",
   "metadata": {},
   "source": [
    "We have two options for a reference: Gouin paper and Chen paper. We don't want to merge them because they have a different reference and a different annotation."
   ]
  },
  {
   "cell_type": "markdown",
   "id": "1f3f1444-55d4-4883-8615-604438a4ae22",
   "metadata": {},
   "source": [
    "To infer signatures, run: \n",
    "\n",
    "1. `../../scripts/submit_cell2location_reference_Gouin.sh`\n",
    "2. `../../scripts/submit_cell2location_reference_Chen.sh`"
   ]
  },
  {
   "cell_type": "markdown",
   "id": "d56d920f-241e-4bcf-8b42-34d26abd7ff8",
   "metadata": {},
   "source": [
    "## QC of the Gouin reference model"
   ]
  },
  {
   "cell_type": "code",
   "execution_count": null,
   "id": "0cf603e9-2f20-4b9f-9e95-346a0831fbb4",
   "metadata": {},
   "outputs": [],
   "source": [
    "samples = [\"B22\", \"B24\", \"B60\", \"B154\", \"B156\", \"B175\", \"B178\", \"B4\", \"B42\", \"B123\"]"
   ]
  },
  {
   "cell_type": "code",
   "execution_count": null,
   "id": "53a338a5-620e-4b09-bb53-361f296283d1",
   "metadata": {},
   "outputs": [],
   "source": [
    "mod_ref = cell2location.models.RegressionModel.load(\n",
    "    \"../Gouin_muscle_reference_model_subtype/\"\n",
    ")"
   ]
  },
  {
   "cell_type": "code",
   "execution_count": null,
   "id": "ebd66911-256f-4b2a-b5e7-7dc11c8c8e76",
   "metadata": {},
   "outputs": [],
   "source": [
    "adata_ref = mod_ref.export_posterior(\n",
    "    mod_ref.adata, sample_kwargs={\"num_samples\": 1000, \"batch_size\": 2500}\n",
    ")"
   ]
  },
  {
   "cell_type": "code",
   "execution_count": null,
   "id": "49691238-8916-48ef-8c16-b60ef562b8e1",
   "metadata": {},
   "outputs": [],
   "source": [
    "adata_ref.obs[\"subtype\"].value_counts()"
   ]
  },
  {
   "cell_type": "code",
   "execution_count": null,
   "id": "3a762985-43fe-409e-9956-4f237952ac6b",
   "metadata": {},
   "outputs": [],
   "source": [
    "mod_ref.plot_QC()"
   ]
  },
  {
   "cell_type": "code",
   "execution_count": null,
   "id": "8c123154-2f2c-461b-aa78-b5d42c6487d5",
   "metadata": {},
   "outputs": [],
   "source": [
    "del mod_ref\n",
    "del adata_ref"
   ]
  },
  {
   "cell_type": "markdown",
   "id": "c4b91baf-985c-4a52-8dd5-9d7da9f35c8f",
   "metadata": {},
   "source": [
    "### Mapping signatures to spots"
   ]
  },
  {
   "cell_type": "markdown",
   "id": "b7ceacbc-dd9c-4095-995e-992469b0a5d4",
   "metadata": {},
   "source": [
    "To get an estimation of number of cells per spot, Visium samples were manually inspected in Loupe browser. In the end, we decided for an estimation of 20 cells per spot.\n",
    "\n",
    "However, we wanted to test multiple alpha values (regularization). Thus we ran the mapping for alphas 2, 20 or 200."
   ]
  },
  {
   "cell_type": "markdown",
   "id": "eca3ccbf-6d95-424e-ad1d-eb30d128e76a",
   "metadata": {},
   "source": [
    "Mapping was performed with:\n",
    "1. `../../scripts/submit_cell2location_visium_celltypes_N20_alpha20_chen.sh`\n",
    "2. `../../scripts/ubmit_cell2location_visium_celltypes_N20_alpha20_gouin.sh`\n",
    "\n",
    "For alpha values 2, 20 and 200"
   ]
  },
  {
   "cell_type": "markdown",
   "id": "2c9cf3a6-4213-478c-bec0-215ae80e011b",
   "metadata": {},
   "source": [
    "### Plot cell type abundances"
   ]
  },
  {
   "cell_type": "code",
   "execution_count": null,
   "id": "8317dbfd-1597-4bda-a264-b61436436e6b",
   "metadata": {},
   "outputs": [],
   "source": [
    "column_order = [\n",
    "    \"CDH12_Epithelial\",\n",
    "    \"Cycling_Epithelial\",\n",
    "    \"KRT6A_Epithelial\",\n",
    "    \"KRT13_Epithelial\",\n",
    "    \"UPK_Epithelial\",\n",
    "    \"ACTA2_Fibroblast\",\n",
    "    \"FAP_Fibroblast\",\n",
    "    \"PDGFRB_Fibroblast\",\n",
    "    \"PDPN_Fibroblast\",\n",
    "    \"Endothelial\",\n",
    "    \"Inflam_Macrophage\",\n",
    "    \"MHCII_Macrophage\",\n",
    "    \"Dendritic_cell\",\n",
    "    \"CD20_Bcell\",\n",
    "    \"Plasma_Bcell\",\n",
    "    \"CD8T\",\n",
    "    \"Naive_Tcell\",\n",
    "    \"Treg\",\n",
    "    \"Normal_Smooth_muscle\",\n",
    "]"
   ]
  },
  {
   "cell_type": "code",
   "execution_count": null,
   "id": "6304b432-2404-415c-8230-dea72cc38257",
   "metadata": {},
   "outputs": [],
   "source": [
    "cellt_newnames = {\n",
    "    \"CDH12_Epithelial\": \"Immune-inflitrated epithelial\",\n",
    "    \"Cycling_Epithelial\": \"Cycling epithelial\",\n",
    "    \"KRT6A_Epithelial\": \"Basal epithelial\",\n",
    "    \"KRT13_Epithelial\": \"Luminal epithelial (KRT13+)\",\n",
    "    \"UPK_Epithelial\": \"Luminal epithelial (UPK)\",\n",
    "    \"ACTA2_Fibroblast\": \"mCAF\",\n",
    "    \"FAP_Fibroblast\": \"iCAF (FAP+)\",\n",
    "    \"PDGFRB_Fibroblast\": \"General CAF\",\n",
    "    \"PDPN_Fibroblast\": \"iCAF (PDPN+)\",\n",
    "    \"Endothelial\": \"Endothelial\",\n",
    "    \"Inflam_Macrophage\": \"Inflammatory macrophage\",\n",
    "    \"MHCII_Macrophage\": \"Antigen-presenting macrophage\",\n",
    "    \"Dendritic_cell\": \"Dendritic cell\",\n",
    "    \"CD20_Bcell\": \"B cell\",\n",
    "    \"Plasma_Bcell\": \"Plasma cell\",\n",
    "    \"CD8T\": \"CD8+ T cell\",\n",
    "    \"Naive_Tcell\": \"Naive T cell\",\n",
    "    \"Treg\": \"Regulatory T cell\",\n",
    "    \"Normal_Smooth_muscle\": \"Normal smooth muscle\",\n",
    "}"
   ]
  },
  {
   "cell_type": "code",
   "execution_count": null,
   "id": "b2fbca7d-1d01-4c0b-b11b-5d1db6607d69",
   "metadata": {},
   "outputs": [],
   "source": [
    "color_order = [\n",
    "    \"#a03704\",\n",
    "    \"#d55607\",\n",
    "    \"#f4811d\",\n",
    "    \"#feb23f\",\n",
    "    \"#feda7e\",\n",
    "    \"#9f0245\",\n",
    "    \"#d51965\",\n",
    "    \"#e4429a\",\n",
    "    \"#d280bd\",\n",
    "    \"#11859a\",\n",
    "    \"#95d6bb\",\n",
    "    \"#c2e7c0\",\n",
    "    \"#fedbcc\",\n",
    "    \"#539ecd\",\n",
    "    \"#dbe9f6\",\n",
    "    \"#828282\",\n",
    "    \"#adadad\",\n",
    "    \"#d1d1d1\",\n",
    "    \"#05712f\",\n",
    "]"
   ]
  },
  {
   "cell_type": "markdown",
   "id": "ba499ef9-0385-4f41-9020-8026fe4abc10",
   "metadata": {},
   "source": [
    "### First for Gouin III reference"
   ]
  },
  {
   "cell_type": "code",
   "execution_count": null,
   "id": "3c399dd3-b611-4694-b042-2164431c5984",
   "metadata": {},
   "outputs": [],
   "source": [
    "sns.reset_defaults()\n",
    "for alpha in [20]:\n",
    "    print(f\"Working on alpha {alpha}\")\n",
    "    adata_celltypes = sc.read_h5ad(\n",
    "        f\"../visium_model_alpha{alpha}_N20_Gouin_muscle_merged/posteriors_adata.h5ad\"\n",
    "    )\n",
    "    for sample in [\n",
    "        \"B22\",\n",
    "        \"B24\",\n",
    "        \"B60\",\n",
    "        \"B154\",\n",
    "        \"B156\",\n",
    "        \"B175\",\n",
    "        \"B178\",\n",
    "        \"B4\",\n",
    "        \"B42\",\n",
    "        \"B123\",\n",
    "    ]:\n",
    "        slide = select_slide(adata_celltypes, sample)\n",
    "        sc.pl.spatial(\n",
    "            slide,\n",
    "            cmap=\"magma\",\n",
    "            color=slide.uns[\"mod\"][\"factor_names\"],\n",
    "            ncols=3,\n",
    "            size=1.5,\n",
    "            vmin=0,\n",
    "            wspace=0.3,\n",
    "            img_key=None,\n",
    "            show=False,\n",
    "        )\n",
    "        plt.savefig(\n",
    "            f\"../figures/{sample}_alpha{alpha}_N20_Gouin_muscle_merged_celltypes.svg\",\n",
    "            dpi=300,\n",
    "        )\n",
    "        plt.close()\n",
    "\n",
    "    master = pd.DataFrame()\n",
    "    for sample in samples:\n",
    "        adata = select_slide(adata_celltypes, s=sample)\n",
    "\n",
    "        df = adata.obs.loc[:, adata.uns[\"mod\"][\"factor_names\"]]\n",
    "        df = pd.DataFrame(df.sum() / df.values.sum()).T\n",
    "        df.index = [sample]\n",
    "\n",
    "        master = pd.concat([master, df])\n",
    "\n",
    "    master = master[column_order]\n",
    "    master.rename(columns=cellt_newnames, inplace=True)\n",
    "\n",
    "    ax = master.plot.bar(stacked=True, width=0.9, color=color_order, figsize=(8, 6))\n",
    "    ax.spines[\"top\"].set_visible(False)\n",
    "    ax.spines[\"right\"].set_visible(False)\n",
    "    plt.legend(\n",
    "        title=\"Cell type\",\n",
    "        bbox_to_anchor=(1.05, 1),\n",
    "        loc=\"upper left\",\n",
    "        title_fontsize=19,\n",
    "        fontsize=12,\n",
    "    )\n",
    "    plt.xlabel(\"Sample\", size=19)\n",
    "    plt.ylabel(\"Relative cell type abundance\", size=19)\n",
    "    plt.xticks(size=12, rotation=45)\n",
    "    plt.yticks(size=12)\n",
    "    plt.tight_layout()\n",
    "    plt.savefig(\n",
    "        f\"suppfig_6E_celltypes_barplot_alpha{alpha}_N20_Gouin_muscle_merged.svg\",\n",
    "        dpi=300,\n",
    "        bbox_inches=\"tight\",\n",
    "    )\n",
    "    plt.show()\n",
    "    plt.close()\n",
    "\n",
    "    del adata_celltypes"
   ]
  },
  {
   "cell_type": "markdown",
   "id": "3e2dcd62-a35c-44da-b992-44c2df8bd916",
   "metadata": {},
   "source": [
    "### Chen reference"
   ]
  },
  {
   "cell_type": "code",
   "execution_count": null,
   "id": "18151058-ed89-4d15-b139-b8ea440ff746",
   "metadata": {},
   "outputs": [],
   "source": [
    "for alpha in [20]:\n",
    "    print(f\"Working on alpha {alpha}\")\n",
    "    adata_celltypes = sc.read_h5ad(\n",
    "        f\"../visium_model_alpha{alpha}_N20_Chen_merged/posteriors_adata.h5ad\"\n",
    "    )\n",
    "    for sample in [\n",
    "        \"B22\",\n",
    "        \"B24\",\n",
    "        \"B60\",\n",
    "        \"B154\",\n",
    "        \"B156\",\n",
    "        \"B175\",\n",
    "        \"B178\",\n",
    "        \"B4\",\n",
    "        \"B42\",\n",
    "        \"B123\",\n",
    "    ]:\n",
    "        slide = select_slide(adata_celltypes, sample)\n",
    "        sc.pl.spatial(\n",
    "            slide,\n",
    "            cmap=\"magma\",\n",
    "            color=slide.uns[\"mod\"][\"factor_names\"],\n",
    "            ncols=3,\n",
    "            size=1.5,\n",
    "            vmin=0,\n",
    "            wspace=0.3,\n",
    "            img_key=None,\n",
    "            show=False,\n",
    "        )\n",
    "        plt.savefig(\n",
    "            f\"../figures/{sample}_alpha{alpha}_N20_Chen_merged_celltypes.svg\", dpi=300\n",
    "        )\n",
    "        plt.close()\n",
    "\n",
    "    master = pd.DataFrame()\n",
    "    for sample in [\n",
    "        \"B22\",\n",
    "        \"B24\",\n",
    "        \"B60\",\n",
    "        \"B154\",\n",
    "        \"B156\",\n",
    "        \"B175\",\n",
    "        \"B178\",\n",
    "        \"B4\",\n",
    "        \"B42\",\n",
    "        \"B123\",\n",
    "    ]:\n",
    "        adata = select_slide(adata_celltypes, s=sample)\n",
    "\n",
    "        df = adata.obs.loc[\n",
    "            :,\n",
    "            [\n",
    "                \"Epithelial cells\",\n",
    "                \"iCAF\",\n",
    "                \"mCAF\",\n",
    "                \"Endothelial cells\",\n",
    "                \"Myeloid cells\",\n",
    "                \"Mast cells\",\n",
    "                \"B cells\",\n",
    "                \"T cells\",\n",
    "            ],\n",
    "        ]\n",
    "        df = pd.DataFrame(df.sum() / df.values.sum()).T\n",
    "        df.index = [sample]\n",
    "\n",
    "        master = pd.concat([master, df])\n",
    "\n",
    "    ax = master.plot.bar(\n",
    "        stacked=True,\n",
    "        width=0.9,\n",
    "        color=[\n",
    "            \"#d55607\",\n",
    "            \"#d51965\",\n",
    "            \"#9f0245\",\n",
    "            \"#11859a\",\n",
    "            \"#95d6bb\",\n",
    "            \"#c2e7c0\",\n",
    "            \"#539ecd\",\n",
    "            \"#adadad\",\n",
    "        ],\n",
    "        figsize=(8, 6),\n",
    "    )\n",
    "    ax.spines[\"top\"].set_visible(False)\n",
    "    ax.spines[\"right\"].set_visible(False)\n",
    "    plt.legend(\n",
    "        title=\"Cell type\",\n",
    "        bbox_to_anchor=(1.05, 1),\n",
    "        loc=\"upper left\",\n",
    "        title_fontsize=19,\n",
    "        fontsize=12,\n",
    "    )\n",
    "    plt.xlabel(\"Sample\", size=19)\n",
    "    plt.ylabel(\"Relative cell type abundance\", size=19)\n",
    "    plt.xticks(size=12, rotation=45)\n",
    "    plt.yticks(size=12)\n",
    "    plt.tight_layout()\n",
    "    plt.savefig(\n",
    "        f\"suppfig_6F_celltypes_barplot_alpha{alpha}_N20_Chen_merged.svg\", dpi=300\n",
    "    )\n",
    "    plt.show()\n",
    "    plt.close()"
   ]
  }
 ],
 "metadata": {
  "kernelspec": {
   "display_name": "cell2location",
   "language": "python",
   "name": "cell2location"
  },
  "language_info": {
   "codemirror_mode": {
    "name": "ipython",
    "version": 3
   },
   "file_extension": ".py",
   "mimetype": "text/x-python",
   "name": "python",
   "nbconvert_exporter": "python",
   "pygments_lexer": "ipython3",
   "version": "3.10.16"
  }
 },
 "nbformat": 4,
 "nbformat_minor": 5
}
