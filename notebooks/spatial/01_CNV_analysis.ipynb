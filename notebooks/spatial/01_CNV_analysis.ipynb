{
 "cells": [
  {
   "cell_type": "markdown",
   "id": "2c6ee216-b322-4080-9104-bc0a451b4d97",
   "metadata": {},
   "source": [
    "# 1. CNV analysis of Visium data"
   ]
  },
  {
   "cell_type": "markdown",
   "id": "aa27c8e8-d9ed-44e8-b3d0-39d7b36e0828",
   "metadata": {},
   "source": [
    "Before running the code below, you need to first run CopyKAT.\n",
    "The code to run CopyKAT is `../../scripts/run_copykat.R`."
   ]
  },
  {
   "cell_type": "code",
   "execution_count": null,
   "id": "9aa28294-a5dd-4dd0-ab53-9574a58110ee",
   "metadata": {},
   "outputs": [],
   "source": [
    "import sys\n",
    "import warnings\n",
    "\n",
    "import anndata as ad\n",
    "import matplotlib.pyplot as plt\n",
    "import numpy as np\n",
    "import pandas as pd\n",
    "import scanpy as sc\n",
    "import seaborn as sns\n",
    "from natsort import natsort_keygen, natsorted\n",
    "from plotting_settings import PLOTTING_PARAMS\n",
    "from scipy.stats import mannwhitneyu\n",
    "from sklearn.metrics import calinski_harabasz_score\n",
    "from tqdm import tqdm\n",
    "\n",
    "warnings.filterwarnings(\"ignore\")\n",
    "sys.path.insert(1, \"../../helper_functions\")"
   ]
  },
  {
   "cell_type": "code",
   "execution_count": null,
   "id": "0713a3e2-ad1a-48b7-98e8-a32c3c516677",
   "metadata": {},
   "outputs": [],
   "source": [
    "samples = [\"B22\", \"B24\", \"B60\", \"B154\", \"B156\", \"B175\", \"B178\", \"B4\", \"B42\", \"B123\"]"
   ]
  },
  {
   "cell_type": "code",
   "execution_count": null,
   "id": "61cec493-1ca3-499f-aa42-28d416031fa5",
   "metadata": {},
   "outputs": [],
   "source": [
    "colors_clones = {\n",
    "    \"0\": \"#0173b2\",\n",
    "    \"1\": \"#de8f05\",\n",
    "    \"2\": \"#029e73\",\n",
    "    \"3\": \"#d55e00\",\n",
    "    \"4\": \"#949494\",\n",
    "    \"5\": \"#ca9161\",\n",
    "    \"6\": \"#fbafe4\",\n",
    "    \"diploid\": \"#97ffff\",\n",
    "}"
   ]
  },
  {
   "cell_type": "markdown",
   "id": "29139e73-05fe-4f48-b96b-a4236877f47b",
   "metadata": {},
   "source": [
    "## Map inferred CNAs from CopyKAT to ONT fixed genomic bins"
   ]
  },
  {
   "cell_type": "code",
   "execution_count": null,
   "id": "2e615919-b3a7-445f-8a65-ce2af51b2489",
   "metadata": {},
   "outputs": [],
   "source": [
    "def assign_bins(chromosome, start, end, gene, binsize):\n",
    "    bins = []\n",
    "    for pos in range(start, end, binsize):\n",
    "        bin_start = (pos // binsize) * binsize\n",
    "        bin_end = bin_start + binsize\n",
    "        bins.append((f\"{chromosome}:{bin_start}-{bin_end}\", gene))\n",
    "    return bins"
   ]
  },
  {
   "cell_type": "code",
   "execution_count": null,
   "id": "290ea543-5860-4797-82d8-74fea98ab0c8",
   "metadata": {},
   "outputs": [],
   "source": [
    "def prepare_annotations(gene_pos, binsize):\n",
    "    binned_data = []\n",
    "    for _, row in tqdm(gene_pos.iterrows()):\n",
    "        gene = row[\"gene\"]\n",
    "        chromosome = row[\"chrom\"]\n",
    "        start = row[\"start\"]\n",
    "        end = row[\"end\"]\n",
    "        binned_data.extend(\n",
    "            assign_bins(chromosome, start, end, gene, binsize=binsize * 1000)\n",
    "        )\n",
    "    binned_df = pd.DataFrame(binned_data, columns=[\"bin\", \"gene_name\"])\n",
    "\n",
    "    return binned_df"
   ]
  },
  {
   "cell_type": "code",
   "execution_count": null,
   "id": "e92d3f1e-4059-4ba3-87ee-e5567fcb2965",
   "metadata": {},
   "outputs": [],
   "source": [
    "def gene2bin(scrna_mtx, gene_pos):\n",
    "\n",
    "    gene_pos_f = gene_pos[gene_pos.gene_name.isin(scrna_mtx.columns)]\n",
    "    gene_pos_f = gene_pos_f.sort_values(by=\"bin\", key=natsort_keygen(), ascending=True)\n",
    "    scrna = scrna_mtx[gene_pos_f.gene_name]\n",
    "    gene_to_bin = gene_pos_f.set_index(\"gene_name\")[\"bin\"]\n",
    "    expression_with_bins = scrna.T\n",
    "    expression_with_bins[\"bin\"] = gene_to_bin\n",
    "    avg_expression_per_bin = expression_with_bins.groupby(\"bin\").mean().T\n",
    "    avg_expression_per_bin = avg_expression_per_bin[\n",
    "        natsorted(avg_expression_per_bin.columns)\n",
    "    ]\n",
    "\n",
    "    return avg_expression_per_bin"
   ]
  },
  {
   "cell_type": "code",
   "execution_count": null,
   "id": "73602592-916b-44f0-a41a-1c1cffc97565",
   "metadata": {},
   "outputs": [],
   "source": [
    "scrna_copykat = pd.read_csv(\n",
    "    f\"copykat/B123_filtered_estimate/B123_copykat_CNA_raw_results_gene_by_cell.txt\",\n",
    "    sep=\"\\t\",\n",
    ")"
   ]
  },
  {
   "cell_type": "code",
   "execution_count": null,
   "id": "471f292c-4e39-4817-8f2e-b02ce8aa6322",
   "metadata": {},
   "outputs": [],
   "source": [
    "gene_pos = scrna_copykat[\n",
    "    [\"chromosome_name\", \"start_position\", \"end_position\", \"hgnc_symbol\"]\n",
    "]\n",
    "gene_pos.rename(\n",
    "    columns={\n",
    "        \"chromosome_name\": \"chrom\",\n",
    "        \"start_position\": \"start\",\n",
    "        \"end_position\": \"end\",\n",
    "        \"hgnc_symbol\": \"gene\",\n",
    "    },\n",
    "    inplace=True,\n",
    ")\n",
    "gene_pos[\"length\"] = gene_pos[\"end\"] - gene_pos[\"start\"]\n",
    "gene_pos[\"chrom\"] = \"chr\" + gene_pos[\"chrom\"].astype(str)\n",
    "gene_pos[\"chrom\"] = gene_pos[\"chrom\"].replace(\"chr23\", \"chrX\")"
   ]
  },
  {
   "cell_type": "code",
   "execution_count": null,
   "id": "48f44555-8c5d-48cc-8755-8baedce90f62",
   "metadata": {},
   "outputs": [],
   "source": [
    "for sample in samples:\n",
    "    print(f\"Working on sample {sample}\")\n",
    "    ont = pd.read_csv(\n",
    "        f\"chromothripsis/bladder_cancer/ont/cnvs/coverage/{sample}tumor.cov.gz\",\n",
    "        sep=\"\\t\",\n",
    "    )\n",
    "    for version in [\"_filtered\"]:\n",
    "        ss = sample\n",
    "\n",
    "        if sample == \"B154\":\n",
    "            version = \"_filtered_estimate\"\n",
    "        if sample == \"B178\":\n",
    "            version = \"_filtered_estimate2\"\n",
    "        scrna_copykat = pd.read_csv(\n",
    "            f\"copykat/{sample}{version}/{ss}_copykat_CNA_raw_results_gene_by_cell.txt\",\n",
    "            sep=\"\\t\",\n",
    "        )\n",
    "        scrna_copykat = scrna_copykat.set_index(\"hgnc_symbol\").iloc[:, 6:]\n",
    "        scrna_copykat = scrna_copykat.T\n",
    "\n",
    "        gene_pos_bins = prepare_annotations(gene_pos, binsize=25)\n",
    "        g2b = gene2bin(scrna_copykat, gene_pos_bins)\n",
    "        ont[\"segment\"] = ont.apply(\n",
    "            lambda x: f\"{x['chr']}:{x['start']}-{x['end']}\", axis=1\n",
    "        )\n",
    "        interect_segs = g2b.columns.intersection(ont[\"segment\"])\n",
    "        ont = ont.set_index(\"segment\")\n",
    "        ont = ont.loc[interect_segs, :]\n",
    "        g2b = g2b[interect_segs]\n",
    "        cors = g2b.corrwith(ont[ont.columns[-1]], axis=1)\n",
    "\n",
    "        copykatpred = pd.read_csv(\n",
    "            f\"copykat/{sample}{version}/{sample}_copykat_prediction.txt\",\n",
    "            sep=\"\\t\",\n",
    "            index_col=0,\n",
    "        )\n",
    "        estimate = pd.read_csv(\n",
    "            f\"chromothripsis/j462r/spatial_transcriptomics/ESTIMATE_scores/{sample}_ESTIMATE.csv\",\n",
    "            index_col=0,\n",
    "        )\n",
    "        patho = pd.read_csv(\n",
    "            f\"chromothripsis/j462r/spatial_transcriptomics/CNVs/healthy_annotations/{sample}_healthy.csv\",\n",
    "            index_col=0,\n",
    "        )\n",
    "\n",
    "        metadata = pd.concat(\n",
    "            [pd.DataFrame(cors, columns=[\"correlation\"]), copykatpred, estimate, patho],\n",
    "            axis=1,\n",
    "        ).rename(columns={\"Healthy\": \"Pathologist\"})\n",
    "        metadata[\"Pathologist\"] = metadata[\"Pathologist\"].fillna(\"Tumor\")\n",
    "\n",
    "        g2b.to_csv(f\"copykat/{sample}{version}/{sample}_copykat_bins.csv\")\n",
    "        ont.to_csv(f\"copykat/{sample}{version}/{sample}_ont_bins.csv\")\n",
    "        metadata.to_csv(f\"copykat/{sample}{version}/{sample}_metadata.csv\")"
   ]
  },
  {
   "cell_type": "markdown",
   "id": "17b7d8b6-29d9-46e0-a852-b83f22208ab0",
   "metadata": {},
   "source": [
    "### CNV score"
   ]
  },
  {
   "cell_type": "code",
   "execution_count": null,
   "id": "53fb8a61-c9b6-4e06-98ab-461ce6d82b20",
   "metadata": {},
   "outputs": [],
   "source": [
    "master_cnv = pd.DataFrame()\n",
    "master_meta = pd.DataFrame()\n",
    "for sample in samples:\n",
    "\n",
    "    if sample == \"B154\":\n",
    "        version = \"_filtered_estimate\"\n",
    "    elif sample == \"B178\":\n",
    "        version = \"_filtered_estimate2\"\n",
    "    else:\n",
    "        version = \"_filtered\"\n",
    "\n",
    "    print(f\"Working on sample {sample}\")\n",
    "    metadata = pd.read_csv(\n",
    "        f\"copykat/{sample}{version}/{sample}_metadata.csv\", index_col=0\n",
    "    )\n",
    "    df = pd.read_csv(\n",
    "        f\"copykat/{sample}{version}/{sample}_copykat_bins.csv\", index_col=0\n",
    "    )\n",
    "    cnv_score = pd.DataFrame(np.abs(df).mean(axis=1), columns=[\"cnv_score\"])\n",
    "    cnv_score.index = cnv_score.index + f\"_{sample}\"\n",
    "    metadata.index = metadata.index + f\"_{sample}\"\n",
    "    cnv_score = cnv_score.loc[metadata[\"copykat.pred\"] == \"aneuploid\", :]\n",
    "    master_cnv = pd.concat([master_cnv, cnv_score])\n",
    "    master_meta = pd.concat([master_meta, metadata])"
   ]
  },
  {
   "cell_type": "code",
   "execution_count": null,
   "id": "49f4d110-99f5-4606-b357-fb8cba107e8e",
   "metadata": {},
   "outputs": [],
   "source": [
    "low_grade = [\"B22\", \"B24\", \"B60\", \"B154\", \"B156\"]\n",
    "high_grade = [\"B4\", \"B42\", \"B123\", \"B175\", \"B178\"]\n",
    "ecdna = [\"B4\", \"B42\", \"B123\"]\n",
    "nonecdna = [\"B22\", \"B24\", \"B60\", \"B154\", \"B156\", \"B175\", \"B178\"]\n",
    "nmibc = [\"B22\", \"B24\", \"B60\", \"B154\", \"B156\", \"B175\", \"B178\", \"B4\"]\n",
    "mibc = [\"B42\", \"B123\"]"
   ]
  },
  {
   "cell_type": "code",
   "execution_count": null,
   "id": "e015ffa5-5497-4040-bfb0-98aa1e337661",
   "metadata": {},
   "outputs": [],
   "source": [
    "master_cnv[\"sample\"] = master_cnv.index.str.split(\"_\").str[-1]"
   ]
  },
  {
   "cell_type": "code",
   "execution_count": null,
   "id": "307dd7bc-8390-4bd3-8816-9ebc9dd90720",
   "metadata": {},
   "outputs": [],
   "source": [
    "master_cnv[\"grade\"] = master_cnv[\"sample\"].apply(\n",
    "    lambda x: \"High grade\" if x in high_grade else \"Low grade\"\n",
    ")\n",
    "master_cnv[\"type\"] = master_cnv[\"sample\"].apply(\n",
    "    lambda x: \"MIBC\" if x in mibc else \"NMIBC\"\n",
    ")\n",
    "master_cnv[\"ecdna\"] = master_cnv[\"sample\"].apply(\n",
    "    lambda x: \"ecDNA\" if x in ecdna else \"non-ecDNA\"\n",
    ")"
   ]
  },
  {
   "cell_type": "code",
   "execution_count": null,
   "id": "36bc8a25-b3eb-4be7-9ce9-8fadc5dc66ba",
   "metadata": {},
   "outputs": [],
   "source": [
    "master_meta[\"sample\"] = master_meta.index.str.split(\"_\").str[-1]"
   ]
  },
  {
   "cell_type": "code",
   "execution_count": null,
   "id": "32023bb7-63e6-4f0e-82f6-a72e486f639f",
   "metadata": {},
   "outputs": [],
   "source": [
    "master_meta[\"grade\"] = master_meta[\"sample\"].apply(\n",
    "    lambda x: \"High grade\" if x in high_grade else \"Low grade\"\n",
    ")\n",
    "master_meta[\"type\"] = master_meta[\"sample\"].apply(\n",
    "    lambda x: \"MIBC\" if x in mibc else \"NMIBC\"\n",
    ")\n",
    "master_meta[\"ecdna\"] = master_meta[\"sample\"].apply(\n",
    "    lambda x: \"ecDNA\" if x in ecdna else \"non-ecDNA\"\n",
    ")"
   ]
  },
  {
   "cell_type": "code",
   "execution_count": null,
   "id": "dd113703-6946-4cad-a55e-7df688e1cf2d",
   "metadata": {},
   "outputs": [],
   "source": [
    "sns.set_theme(style=\"white\", rc=PLOTTING_PARAMS)\n",
    "\n",
    "fig, axes = plt.subplots(1, 1, figsize=(6, 4))\n",
    "sns.violinplot(\n",
    "    master_cnv,\n",
    "    x=\"ecdna\",\n",
    "    y=\"cnv_score\",\n",
    "    ax=axes,\n",
    "    palette=[\"#949494\", \"#78D3D3\"],\n",
    "    inner=\"quart\",\n",
    ")\n",
    "sns.despine(top=True, right=True, left=False, bottom=False)\n",
    "\n",
    "axes.set_ylabel(\"CNV score\", size=14)\n",
    "axes.set_xlabel(\"ecDNA status\", size=14)\n",
    "plt.tight_layout()\n",
    "plt.savefig(\"suppfig_6B_cnv_score.svg\", dpi=300)\n",
    "plt.close()\n",
    "sns.reset_defaults()"
   ]
  },
  {
   "cell_type": "code",
   "execution_count": null,
   "id": "8c661056-6d29-488d-91fc-ee0637a1ff0e",
   "metadata": {},
   "outputs": [],
   "source": [
    "print(\n",
    "    mannwhitneyu(\n",
    "        master_cnv.cnv_score[master_cnv.ecdna == \"ecDNA\"],\n",
    "        master_cnv.cnv_score[master_cnv.ecdna == \"non-ecDNA\"],\n",
    "    )\n",
    ")"
   ]
  },
  {
   "cell_type": "markdown",
   "id": "74d548bb-0834-484d-b41f-32da6e5ff2a2",
   "metadata": {},
   "source": [
    "## Defining the number of subclones"
   ]
  },
  {
   "cell_type": "code",
   "execution_count": null,
   "id": "d1c06482-5aef-47f2-b6a1-bf5c2b985ea3",
   "metadata": {},
   "outputs": [],
   "source": [
    "def optimal_leiden(adata, n_pcs=10):\n",
    "    \"\"\"Perform sweep of Leiden resolutions and report the optimal resolution.\"\"\"\n",
    "    ones = []\n",
    "    max_calinski = 0\n",
    "    optimal_leiden = \"\"\n",
    "    for resolution in [0.1, 0.15, 0.2, 0.25, 0.3, 0.35, 0.4]:\n",
    "        sc.tl.leiden(\n",
    "            adata, resolution=resolution, key_added=f\"leiden_{str(resolution)}\"\n",
    "        )\n",
    "        try:\n",
    "            calinski_avg = calinski_harabasz_score(\n",
    "                adata.obsm[\"X_pca\"][:, :n_pcs],\n",
    "                adata.obs[f\"leiden_{str(resolution)}\"].astype(int),\n",
    "            )\n",
    "            res_cluster = f\"leiden_{str(resolution)}\"\n",
    "            print(\n",
    "                f\"Resolution: {resolution}, N clusters: {adata.obs[res_cluster].nunique()},  Calinski Score: {calinski_avg}\"\n",
    "            )\n",
    "\n",
    "            if calinski_avg > max_calinski:\n",
    "                max_calinski = calinski_avg\n",
    "                optimal_leiden = f\"leiden_{str(resolution)}\"\n",
    "        except ValueError:\n",
    "            print(f\"Only 1 cluster for leiden_{str(resolution)}\")\n",
    "            ones.append(f\"leiden_{str(resolution)}\")\n",
    "\n",
    "    if len(ones) > 1:\n",
    "        return ones[-1]\n",
    "\n",
    "    return optimal_leiden\n",
    "\n",
    "\n",
    "def compute_pseudobulk_correlations(acnvs, groupby=\"subclones\", threshold=0.95):\n",
    "    \"\"\"Calculate pairwise correlations between all the pseudobulk subclones.\"\"\"\n",
    "    cluster_score = {\n",
    "        cluster: acnvs.X[acnvs.obs[groupby].values == cluster, :].mean(axis=0)\n",
    "        for cluster in acnvs.obs[groupby].unique()\n",
    "    }\n",
    "    pseudobulks = pd.DataFrame.from_dict(cluster_score, orient=\"index\")\n",
    "    pseudobulks = pseudobulks.T.corr()\n",
    "    corr_matrix = pseudobulks.to_numpy()\n",
    "    print(pseudobulks)\n",
    "\n",
    "    # Get the indices of the elements above the threshold\n",
    "    indices = np.where((corr_matrix > threshold) & (corr_matrix < 1))\n",
    "    print(indices)\n",
    "\n",
    "    # Extract the pairs of columns and rows\n",
    "    high_corr_pairs = [\n",
    "        (pseudobulks.columns[i], pseudobulks.columns[j])\n",
    "        for i, j in zip(indices[0], indices[1])\n",
    "    ]\n",
    "    print(high_corr_pairs)\n",
    "    sorted_high_corr_pairs = {\n",
    "        tuple(sorted((pair[0], pair[1]))) for pair in high_corr_pairs\n",
    "    }\n",
    "    print(sorted_high_corr_pairs)\n",
    "\n",
    "    return dict((y, x) for x, y in sorted_high_corr_pairs)"
   ]
  },
  {
   "cell_type": "code",
   "execution_count": null,
   "id": "eb39da84-0092-4721-9b1b-2f10a26c8c34",
   "metadata": {},
   "outputs": [],
   "source": [
    "for sample in samples:\n",
    "\n",
    "    print(f\"Working on sample {sample}\")\n",
    "\n",
    "    if sample == \"B154\":\n",
    "        version = \"_filtered_estimate/\"\n",
    "    elif sample == \"B178\":\n",
    "        version = \"_filtered_estimate2/\"\n",
    "    else:\n",
    "        version = \"_filtered/\"\n",
    "\n",
    "    cnvs = pd.read_csv(\n",
    "        f\"chromothripsis/j462r/spatial_transcriptomics/CNVs/copykat/{sample}{version}{sample}_copykat_bins.csv\",\n",
    "        index_col=0,\n",
    "    )\n",
    "    acnvs = ad.AnnData(cnvs)\n",
    "    adata = sc.read_h5ad(\n",
    "        f\"chromothripsis/j462r/spatial_transcriptomics/scripts/h5ad_objects/{sample}.h5ad\"\n",
    "    )\n",
    "\n",
    "    adata.obs.index = adata.obs.index.str.split(\"_\").str[0]\n",
    "\n",
    "    assert all(acnvs.obs_names == adata.obs_names)\n",
    "\n",
    "    acnvs.uns[\"spatial\"] = adata.uns[\"spatial\"]\n",
    "    acnvs.obsm[\"spatial\"] = adata.obsm[\"spatial\"]\n",
    "\n",
    "    copykat = pd.read_csv(\n",
    "        f\"chromothripsis/j462r/spatial_transcriptomics/CNVs/copykat/{sample}{version}{sample}_copykat_prediction.txt\",\n",
    "        sep=\"\\t\",\n",
    "        index_col=0,\n",
    "    )\n",
    "    acnvs.obs = acnvs.obs.join(copykat)\n",
    "\n",
    "    adata_subset = acnvs[acnvs.obs[\"copykat.pred\"] == \"aneuploid\", :].copy()\n",
    "    adata_diploid = acnvs[acnvs.obs[\"copykat.pred\"] == \"diploid\", :].copy()\n",
    "\n",
    "    sc.pp.pca(adata_subset)\n",
    "    print(\n",
    "        f\"Variance explained in the first {npcs}: {adata_subset.uns['pca']['variance_ratio'][:npcs].sum()}\"\n",
    "    )\n",
    "    sc.pp.neighbors(adata_subset, n_pcs=npcs)\n",
    "    sc.tl.umap(adata_subset)\n",
    "\n",
    "    # sweep of different Leiden resolutions\n",
    "    leiden = optimal_leiden(adata_subset, n_pcs=npcs)\n",
    "\n",
    "    # The second best solution for the sample B4\n",
    "    if sample == \"B4\":\n",
    "        leiden = f\"leiden_0.3\"\n",
    "\n",
    "    adata_together = ad.concat([adata_subset, adata_diploid], join=\"outer\")\n",
    "    adata_together.obs[leiden] = (\n",
    "        adata_together.obs[leiden].astype(str).replace(\"nan\", \"diploid\")\n",
    "    )\n",
    "    adata_together.uns[\"spatial\"] = acnvs.uns[\"spatial\"]\n",
    "\n",
    "    acnvs = acnvs[adata_together.obs_names, :]\n",
    "    acnvs.obs[leiden] = adata_together.obs[leiden]\n",
    "\n",
    "    current_groups = {}\n",
    "    for group in adata_together.obs[leiden].unique():\n",
    "        current_groups[group] = group\n",
    "\n",
    "    print(current_groups)\n",
    "    print(acnvs.obs)\n",
    "\n",
    "    to_merge = compute_pseudobulk_correlations(acnvs, groupby=leiden)\n",
    "    print(to_merge)\n",
    "\n",
    "    if len(to_merge) > 0:\n",
    "        print(\"Merging clones\")\n",
    "        for group in adata_together.obs[leiden].unique():\n",
    "            if group in to_merge:\n",
    "                print(f\"Changing from {current_groups[group]} to {to_merge[group]}\")\n",
    "                current_groups[group] = to_merge[group]\n",
    "        adata_together.obs[f\"{leiden}_merged\"] = adata_together.obs[leiden].map(\n",
    "            current_groups\n",
    "        )\n",
    "        adata_subset.obs[f\"{leiden}_merged\"] = adata_subset.obs[leiden].map(\n",
    "            current_groups\n",
    "        )\n",
    "    else:\n",
    "        adata_together.obs[f\"{leiden}_merged\"] = adata_together.obs[leiden]\n",
    "        adata_subset.obs[f\"{leiden}_merged\"] = adata_subset.obs[leiden]\n",
    "    adata_together.obs[[f\"{leiden}_merged\"]].rename(\n",
    "        columns={f\"{leiden}_merged\": \"subclones\"}\n",
    "    ).to_csv(f\"{sample}{version}{sample}_leiden_subclones_final.csv\")\n",
    "\n",
    "    fig, ax = plt.subplots(1, 2, figsize=(8, 4))\n",
    "    sc.pl.umap(\n",
    "        adata_subset,\n",
    "        color=f\"{leiden}_merged\",\n",
    "        title=\"Subclones\",\n",
    "        show=False,\n",
    "        ax=ax[0],\n",
    "        palette=colors_clones,\n",
    "    )\n",
    "    sc.pl.spatial(\n",
    "        adata_together,\n",
    "        color=f\"{leiden}_merged\",\n",
    "        title=\"Subclones\",\n",
    "        size=1.5,\n",
    "        show=False,\n",
    "        ax=ax[1],\n",
    "        palette=colors_clones,\n",
    "    )\n",
    "\n",
    "    fig.tight_layout()\n",
    "    plt.savefig(f\"{sample}{version}{sample}_leiden_subclones_final.svg\", dpi=300)\n",
    "    plt.close()"
   ]
  },
  {
   "cell_type": "markdown",
   "id": "b9eaa385-f97f-4f02-bc4d-c19c4bcf1876",
   "metadata": {},
   "source": [
    "### Number of clones per sample"
   ]
  },
  {
   "cell_type": "code",
   "execution_count": null,
   "id": "9b9c1211-e99d-4164-b870-9b316feec7a1",
   "metadata": {},
   "outputs": [],
   "source": [
    "clones_per_sample = {}\n",
    "master = pd.DataFrame()\n",
    "for sample in samples:\n",
    "\n",
    "    print(f\"Working on sample {sample}\")\n",
    "\n",
    "    if sample == \"B154\":\n",
    "        version = \"_filtered_estimate/\"\n",
    "    elif sample == \"B178\":\n",
    "        version = \"_filtered_estimate2/\"\n",
    "    else:\n",
    "        version = \"_filtered/\"\n",
    "\n",
    "    subclones = pd.read_csv(\n",
    "        f\"chromothripsis/j462r/spatial_transcriptomics/CNVs/copykat/{sample}{version}{sample}_leiden_subclones_final.csv\",\n",
    "        index_col=0,\n",
    "    )\n",
    "    # Normalize the number of subclones to the total number of aneuploid spots\n",
    "    clones_per_sample[sample] = (\n",
    "        subclones.loc[subclones[\"subclones\"] != \"diploid\"][\"subclones\"].nunique()\n",
    "        / subclones.loc[subclones[\"subclones\"] != \"diploid\"].shape[0]\n",
    "    )\n",
    "    sub = subclones[\"subclones\"].value_counts(normalize=True).reset_index()\n",
    "    sub[\"sample\"] = sample\n",
    "    master = pd.concat([master, sub])"
   ]
  },
  {
   "cell_type": "code",
   "execution_count": null,
   "id": "d2339a08-3bcf-4bce-8a8c-d112a9afd53f",
   "metadata": {},
   "outputs": [],
   "source": [
    "adata = sc.read_h5ad(\n",
    "    f\"chromothripsis/j462r/spatial_transcriptomics/scripts/h5ad_objects/merged_samples.h5ad\"\n",
    ")\n",
    "metadata = pd.read_csv(\n",
    "    \"chromothripsis/j462r/spatial_transcriptomics/CNVs/copykat/metadata_all.csv\",\n",
    "    index_col=0,\n",
    ")\n",
    "\n",
    "adata.obs = adata.obs.join(metadata)\n",
    "adata = adata[adata.obs[\"copykat.pred\"] == \"aneuploid\", :].copy()"
   ]
  },
  {
   "cell_type": "code",
   "execution_count": null,
   "id": "646b992f-51f8-4fc4-b6cc-c10371962387",
   "metadata": {},
   "outputs": [],
   "source": [
    "no_spots = adata.obs.groupby(\"sample\").count().reset_index().iloc[:, :2]\n",
    "no_spots.rename(columns={\"sample\": \"index\"}, inplace=True)"
   ]
  },
  {
   "cell_type": "code",
   "execution_count": null,
   "id": "1318918e-a887-422b-8814-faad9a9277cf",
   "metadata": {},
   "outputs": [],
   "source": [
    "clones = pd.DataFrame.from_dict(\n",
    "    clones_per_sample, orient=\"index\", columns=[\"subclones\"]\n",
    ").reset_index()"
   ]
  },
  {
   "cell_type": "code",
   "execution_count": null,
   "id": "bdecb8de-3db4-4460-8498-06fa709c58e9",
   "metadata": {},
   "outputs": [],
   "source": [
    "low_grade = [\"B22\", \"B24\", \"B60\", \"B154\", \"B156\"]\n",
    "clones[\"grade\"] = clones[\"index\"].apply(\n",
    "    lambda x: \"Low grade\" if x in low_grade else \"High grade\"\n",
    ")\n",
    "clones[\"ecDNA_status\"] = clones[\"index\"].apply(\n",
    "    lambda x: \"ecDNA\" if x in [\"B123\", \"B4\", \"B42\"] else \"non-ecDNA\"\n",
    ")\n",
    "clones = clones.set_index(\"index\")"
   ]
  },
  {
   "cell_type": "code",
   "execution_count": null,
   "id": "3e795143-68cc-4eeb-a48c-b1d86fa1597b",
   "metadata": {},
   "outputs": [],
   "source": [
    "sns.set_theme(style=\"white\", rc=PLOTTING_PARAMS)\n",
    "plt.figure(figsize=(5, 4))\n",
    "sns.barplot(\n",
    "    clones,\n",
    "    x=\"ecDNA_status\",\n",
    "    y=\"subclones\",\n",
    "    hue=\"ecDNA_status\",\n",
    "    palette=[\"#949494\", \"#78D3D3\"],\n",
    "    width=0.5,\n",
    "    errorbar=\"sd\",\n",
    ")\n",
    "sns.stripplot(clones, x=\"ecDNA_status\", y=\"subclones\", color=\"black\")\n",
    "sns.despine(top=True, right=True, left=False, bottom=False)\n",
    "plt.xlabel(\"ecDNA status\", size=14)\n",
    "plt.ylabel(\"Normalized number of subclones\", size=14)\n",
    "plt.xticks(rotation=0, size=12)\n",
    "plt.yticks(size=12)\n",
    "plt.tight_layout()\n",
    "plt.savefig(\"suppfig_6C_subclones.svg\", dpi=300)\n",
    "plt.show()\n",
    "\n",
    "sns.reset_defaults()"
   ]
  },
  {
   "cell_type": "code",
   "execution_count": null,
   "id": "5705f2df-b891-4993-a710-7c4a9348673a",
   "metadata": {},
   "outputs": [],
   "source": [
    "print(\n",
    "    mannwhitneyu(\n",
    "        clones.subclones[clones.ecDNA_status == \"ecDNA\"],\n",
    "        clones.subclones[clones.ecDNA_status == \"non-ecDNA\"],\n",
    "    )\n",
    ")"
   ]
  },
  {
   "cell_type": "markdown",
   "id": "d21caa45-5f58-4de2-a7dc-2a3f0aceb5b4",
   "metadata": {},
   "source": [
    "### Generate pseudobulks per subclone"
   ]
  },
  {
   "cell_type": "code",
   "execution_count": null,
   "id": "4549e206-f89c-43a1-927f-20ad8a8e5205",
   "metadata": {},
   "outputs": [],
   "source": [
    "def _get_group_mean(adata, group):\n",
    "    group_mean = np.mean(adata.X[adata.obs[\"subclones\"].values == group, :], axis=0)\n",
    "    if len(group_mean.shape) == 1:\n",
    "        # derived from an array instead of sparse matrix -> 1 dim instead of 2\n",
    "        group_mean = group_mean[np.newaxis, :]\n",
    "    return group_mean"
   ]
  },
  {
   "cell_type": "code",
   "execution_count": null,
   "id": "0decc150-091a-4be5-9d63-54313eb59547",
   "metadata": {},
   "outputs": [],
   "source": [
    "dfs = []\n",
    "\n",
    "for sample in samples:\n",
    "\n",
    "    print(f\"Working on sample {sample}\")\n",
    "\n",
    "    if sample == \"B154\":\n",
    "        version = \"_filtered_estimate/\"\n",
    "    elif sample == \"B178\":\n",
    "        version = \"_filtered_estimate2/\"\n",
    "    else:\n",
    "        version = \"_filtered/\"\n",
    "\n",
    "    cnvs = pd.read_csv(f\"{sample}{version}{sample}_copykat_bins.csv\", index_col=0)\n",
    "    acnvs = ad.AnnData(cnvs)\n",
    "\n",
    "    clones = pd.read_csv(\n",
    "        f\"{sample}{version}{sample}_leiden_subclones_final.csv\", index_col=0\n",
    "    )\n",
    "    acnvs.obs = acnvs.obs.join(clones)\n",
    "\n",
    "    X = np.vstack(\n",
    "        [\n",
    "            np.repeat(_get_group_mean(acnvs, group), 1, axis=0)\n",
    "            for group in acnvs.obs[\"subclones\"].unique()\n",
    "        ]\n",
    "    )\n",
    "    df = pd.DataFrame(X, index=acnvs.obs[\"subclones\"].unique(), columns=acnvs.var.index)\n",
    "\n",
    "    df[\"sample\"] = sample\n",
    "    df.reset_index(inplace=True)\n",
    "\n",
    "    dfs.append(df)"
   ]
  },
  {
   "cell_type": "code",
   "execution_count": null,
   "id": "1ea90566-56b3-4c94-bcc8-0c75398921ff",
   "metadata": {},
   "outputs": [],
   "source": [
    "merged = pd.concat(dfs).dropna(axis=1).reset_index()\n",
    "merged.rename(columns={\"index\": \"subclone\"}, inplace=True)\n",
    "merged[\"subclone\"] = merged[\"subclone\"].apply(\n",
    "    lambda x: x if x == \"diploid\" else \"aneuploid\" if isinstance(x, str) else x\n",
    ")"
   ]
  },
  {
   "cell_type": "code",
   "execution_count": null,
   "id": "7e1622c6-8b50-4f60-b2e7-961d5e9aa394",
   "metadata": {},
   "outputs": [],
   "source": [
    "merged.to_csv(\"./subclones_pseudobulks.csv\")"
   ]
  },
  {
   "cell_type": "markdown",
   "id": "743183a7-d93e-4e88-83d9-835afcecb2f8",
   "metadata": {},
   "source": [
    "## Prepare plots for figure 2"
   ]
  },
  {
   "cell_type": "code",
   "execution_count": null,
   "id": "94fe1b7e-1ac1-4014-b0c4-0014e064fba8",
   "metadata": {},
   "outputs": [],
   "source": [
    "adata = sc.read_h5ad(f\"../../scripts/h5ad_objects/B123.h5ad\")"
   ]
  },
  {
   "cell_type": "code",
   "execution_count": null,
   "id": "45eb89fe-7fe9-4895-9398-c8b70b409c17",
   "metadata": {},
   "outputs": [],
   "source": [
    "cnv_scores = pd.read_csv(\"../../CNVs/copykat/CNV_scores.csv\", index_col=0)\n",
    "cnv_scores"
   ]
  },
  {
   "cell_type": "code",
   "execution_count": null,
   "id": "8c6b1859-28dd-4aed-be2f-8531c5ba6d7b",
   "metadata": {},
   "outputs": [],
   "source": [
    "adata.obs = adata.obs.join(cnv_scores)"
   ]
  },
  {
   "cell_type": "code",
   "execution_count": null,
   "id": "03b50b6c-9115-4d5b-889d-145f7f18c9a5",
   "metadata": {},
   "outputs": [],
   "source": [
    "clones = pd.read_csv(\"B123_filtered/B123_leiden_subclones_final.csv\", index_col=0)\n",
    "clones"
   ]
  },
  {
   "cell_type": "code",
   "execution_count": null,
   "id": "de2de17d-b32a-4548-89d0-f8fb0ed45642",
   "metadata": {},
   "outputs": [],
   "source": [
    "clones.index = clones.index + \"_B123\"\n",
    "adata.obs = adata.obs.join(clones)"
   ]
  },
  {
   "cell_type": "code",
   "execution_count": null,
   "id": "2c26f5d7-941f-4bc4-b4fc-0652d14691b1",
   "metadata": {},
   "outputs": [],
   "source": [
    "sc.pl.spatial(\n",
    "    adata,\n",
    "    color=[None, \"cnv_score\", \"subclones\"],\n",
    "    title=[\"H&E\", \"CNV score\", \"Subclones\"],\n",
    "    palette=colors_clones,\n",
    "    cmap=\"viridis\",\n",
    "    size=1.5,\n",
    "    wspace=0.05,\n",
    "    show=False,\n",
    ")\n",
    "plt.savefig(\"fig2F_B123_space.svg\", dpi=300, bbox_inches=\"tight\")\n",
    "plt.show()\n",
    "plt.close()"
   ]
  },
  {
   "cell_type": "markdown",
   "id": "bc3815d6-0091-40cc-b173-ce6480e174e8",
   "metadata": {},
   "source": [
    "### To generate the heatmap from the figure 2E and supplementary figure 6A run `../scripts/Visium_plot_heatmap_pseudobulk_subclones.R` "
   ]
  }
 ],
 "metadata": {
  "kernelspec": {
   "display_name": "muon",
   "language": "python",
   "name": "muon"
  },
  "language_info": {
   "codemirror_mode": {
    "name": "ipython",
    "version": 3
   },
   "file_extension": ".py",
   "mimetype": "text/x-python",
   "name": "python",
   "nbconvert_exporter": "python",
   "pygments_lexer": "ipython3",
   "version": "3.10.16"
  }
 },
 "nbformat": 4,
 "nbformat_minor": 5
}
