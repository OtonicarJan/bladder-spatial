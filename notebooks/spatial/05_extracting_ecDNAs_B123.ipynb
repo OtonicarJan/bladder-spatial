{
 "cells": [
  {
   "cell_type": "markdown",
   "id": "f4aeba5b-53c8-4994-a809-efb96a3a4cc4",
   "metadata": {},
   "source": [
    "# 5. Analysis of ecDNA regions for the sample B123"
   ]
  },
  {
   "cell_type": "code",
   "execution_count": null,
   "id": "de7fabac-673f-4d4f-93bc-cb59da154cbb",
   "metadata": {},
   "outputs": [],
   "source": [
    "import sys\n",
    "import warnings\n",
    "\n",
    "import matplotlib.pyplot as plt\n",
    "import numpy as np\n",
    "import pandas as pd\n",
    "import scanpy as sc\n",
    "import scikit_posthocs as sp\n",
    "import seaborn as sns\n",
    "import statsmodels.api as sm\n",
    "from helper_functions import select_slide\n",
    "from plotting_settings import PLOTTING_PARAMS\n",
    "from scipy.stats import fisher_exact, kruskal, mannwhitneyu, pearsonr\n",
    "from sklearn.mixture import GaussianMixture as GMM\n",
    "from statannotations.Annotator import Annotator\n",
    "from statsmodels.stats.multitest import multipletests\n",
    "\n",
    "warnings.filterwarnings(\"ignore\")\n",
    "sys.path.insert(1, \"../../helper_functions\")"
   ]
  },
  {
   "cell_type": "code",
   "execution_count": null,
   "id": "c6b29845-12b0-4356-ae1f-b135f38602b5",
   "metadata": {},
   "outputs": [],
   "source": [
    "adata = sc.read_h5ad(\"../../aucell_adata.h5ad\")\n",
    "adata.obs[\"sample\"] = pd.Categorical(\n",
    "    adata.obs[\"sample\"],\n",
    "    categories=[\n",
    "        \"B22\",\n",
    "        \"B24\",\n",
    "        \"B60\",\n",
    "        \"B154\",\n",
    "        \"B156\",\n",
    "        \"B175\",\n",
    "        \"B178\",\n",
    "        \"B4\",\n",
    "        \"B42\",\n",
    "        \"B123\",\n",
    "    ],\n",
    "    ordered=True,\n",
    ")\n",
    "b123 = select_slide(adata, \"B123\")\n",
    "\n",
    "spatial = sc.read_h5ad(\"../../../spatial_transcriptomics/SpatialDE/h5ad/B123.h5ad\")\n",
    "b123.obs = b123.obs.join(spatial.obs[[\"segmentation_labels\"]])\n",
    "\n",
    "cnv_scores = pd.read_csv(\n",
    "    \"../../../spatial_transcriptomics/CNVs/copykat/CNV_scores.csv\", index_col=0\n",
    ")\n",
    "b123.obs = b123.obs.join(cnv_scores)"
   ]
  },
  {
   "cell_type": "code",
   "execution_count": null,
   "id": "90879e32-2fe1-4225-8f21-6177aa6bfbd7",
   "metadata": {},
   "outputs": [],
   "source": [
    "data = [\n",
    "    adata.obs.loc[ids, \"B123\"].values\n",
    "    for ids in adata.obs.groupby(\"sample\").groups.values()\n",
    "]"
   ]
  },
  {
   "cell_type": "code",
   "execution_count": null,
   "id": "5cf3baf0-d452-4097-b391-fa2ae8b13a0e",
   "metadata": {},
   "outputs": [],
   "source": [
    "H, p = kruskal(*data)\n",
    "p"
   ]
  },
  {
   "cell_type": "code",
   "execution_count": null,
   "id": "f73f6901-1c56-4936-ab79-78c08bd25f5c",
   "metadata": {},
   "outputs": [],
   "source": [
    "sp.posthoc_dunn(adata.obs, val_col=\"B123\", group_col=\"sample\", p_adjust=\"fdr_bh\")"
   ]
  },
  {
   "cell_type": "code",
   "execution_count": null,
   "id": "40357770-c468-4e6c-a38a-0491e1951d44",
   "metadata": {},
   "outputs": [],
   "source": [
    "sns.set_theme(style=\"white\", rc=PLOTTING_PARAMS)\n",
    "\n",
    "x = \"sample\"\n",
    "y = \"B123\"\n",
    "order = adata.obs[\"sample\"].unique().categories\n",
    "pairs = [(\"B123\", s) for s in adata.obs[\"sample\"].unique() if s != \"B123\"]\n",
    "\n",
    "ax = sns.boxplot(adata.obs, x=\"sample\", y=\"B123\")\n",
    "sns.despine(top=True, right=True, left=False, bottom=False)\n",
    "plt.xlabel(\"Sample\")\n",
    "plt.ylabel(\"Enrichment of B123-specific\\nsignature (AUC)\")\n",
    "\n",
    "annotator = Annotator(ax, pairs, data=adata.obs, x=x, y=y, order=order)\n",
    "# only used to plot significance\n",
    "annotator.configure(\n",
    "    test=\"Mann-Whitney\", text_format=\"star\", loc=\"inside\", comparisons_correction=\"BH\"\n",
    ")\n",
    "annotator.apply_and_annotate()\n",
    "\n",
    "\n",
    "plt.savefig(\n",
    "    \"suppfig_14A_boxplot_B123_signature_cohort.svg\", dpi=300, bbox_inches=\"tight\"\n",
    ")\n",
    "plt.show()\n",
    "plt.close()"
   ]
  },
  {
   "cell_type": "code",
   "execution_count": null,
   "id": "39cadc3c-8c21-4e39-a48f-f360be1e49c8",
   "metadata": {},
   "outputs": [],
   "source": [
    "clones = pd.read_csv(\n",
    "    \"../../../spatial_transcriptomics/CNVs/copykat/B123_filtered/B123_leiden_subclones.csv\",\n",
    "    index_col=0,\n",
    ")\n",
    "clones.index = clones.index + \"_B123\"\n",
    "clones"
   ]
  },
  {
   "cell_type": "code",
   "execution_count": null,
   "id": "bf7cacd0-79d8-4c83-9082-9ae621253b88",
   "metadata": {},
   "outputs": [],
   "source": [
    "df = pd.read_csv(\n",
    "    \"../../../spatial_transcriptomics/CNVs/copykat/B123_filtered_n15/B123_copykat_bins.csv\",\n",
    "    index_col=0,\n",
    ")\n",
    "df"
   ]
  },
  {
   "cell_type": "code",
   "execution_count": null,
   "id": "d858d506-a044-4068-9d62-a81a3dcf0740",
   "metadata": {},
   "outputs": [],
   "source": [
    "gmm = GMM(n_components=3, max_iter=1000, random_state=10, covariance_type=\"full\")\n",
    "# fit GMM to the entire dataset of copykat smoothed expressions\n",
    "gmm.fit(df.to_numpy().flatten().reshape(-1, 1))"
   ]
  },
  {
   "cell_type": "code",
   "execution_count": null,
   "id": "495454e1-cfae-44f1-9623-00bbc00252f8",
   "metadata": {},
   "outputs": [],
   "source": [
    "mean = gmm.means_\n",
    "covs = gmm.covariances_\n",
    "weights = gmm.weights_"
   ]
  },
  {
   "cell_type": "code",
   "execution_count": null,
   "id": "5b854cb3-370e-429e-ae47-db30db46c548",
   "metadata": {},
   "outputs": [],
   "source": [
    "mean"
   ]
  },
  {
   "cell_type": "code",
   "execution_count": null,
   "id": "22418d44-e429-435e-8d9f-050fc9c0da3e",
   "metadata": {},
   "outputs": [],
   "source": [
    "# extract positions with ecDNA\n",
    "# chr6: 20311786-20720740\n",
    "# chr6: 20721496-20721519\n",
    "# chr6: 20725749-20779105\n",
    "# chr6: 20779106-21051598\n",
    "# chr6: 22738563-22994841\n",
    "# chr6: 23552546-23576485\n",
    "# chr6: 21410549-21793884\n",
    "# chr6: 24775266-24791722\n",
    "# chr6: 22941824-23000763\n",
    "\n",
    "\n",
    "ecDNA = df.loc[:, df.columns.str.startswith(\"chr6:\")]\n",
    "# capturing a bit less than entire chr1 amplicon, just to be sure\n",
    "sub = ecDNA.loc[:, ecDNA.columns[260:290]]\n",
    "sub"
   ]
  },
  {
   "cell_type": "code",
   "execution_count": null,
   "id": "50402035-8bfd-4580-9a9b-2f0768c73ca3",
   "metadata": {},
   "outputs": [],
   "source": [
    "# just to be careful, we define amplification if log ratio is over the mean of the highest component (the one for gain)\n",
    "# hard coded mean of the highest component\n",
    "amplifications = sub[sub.mean(axis=1) > mean[2][0]].index\n",
    "amplifications"
   ]
  },
  {
   "cell_type": "code",
   "execution_count": null,
   "id": "d8fbd566-685f-420a-88d2-8b113e12389a",
   "metadata": {},
   "outputs": [],
   "source": [
    "amplifications = [f\"{code}_B123\" for code in amplifications]\n",
    "b123.obs[\"amplification\"] = b123.obs.index.isin(amplifications)"
   ]
  },
  {
   "cell_type": "code",
   "execution_count": null,
   "id": "0eaa00de-3f7b-4279-8bdd-62c1b1319e67",
   "metadata": {},
   "outputs": [],
   "source": [
    "b123.obs = b123.obs.join(clones)\n",
    "# removing spots that were classified as diploid with copykat\n",
    "b123 = b123[b123.obs[\"subclones\"] != \"diploid\", :]"
   ]
  },
  {
   "cell_type": "code",
   "execution_count": null,
   "id": "6dcfdd80-a165-4ef2-85db-950bec601009",
   "metadata": {},
   "outputs": [],
   "source": [
    "sc.pl.spatial(\n",
    "    b123,\n",
    "    color=[\"B123\", \"amplification\", \"segmentation_labels\"],\n",
    "    size=1.5,\n",
    "    vmax=\"p99\",\n",
    "    cmap=\"viridis\",\n",
    ")"
   ]
  },
  {
   "cell_type": "code",
   "execution_count": null,
   "id": "75d86f60-6b04-4013-b5c6-d14b484d9a76",
   "metadata": {},
   "outputs": [],
   "source": [
    "# Regressing out CNV score, which is inversely correlated to ESTIMATE score\n",
    "X = sm.add_constant(b123.obs[\"cnv_score\"])\n",
    "model = sm.OLS(b123.obs[\"B123\"], X).fit()\n",
    "\n",
    "residuals = model.resid\n",
    "\n",
    "b123.obs[\"B123_regressed\"] = residuals"
   ]
  },
  {
   "cell_type": "code",
   "execution_count": null,
   "id": "34c8ed12-7cec-45cc-8c8d-929809b9940e",
   "metadata": {},
   "outputs": [],
   "source": [
    "fig, axes = plt.subplots(2, 1, figsize=(6, 8), sharex=True)\n",
    "sns.scatterplot(b123.obs, x=\"cnv_score\", y=\"B123\", ax=axes[0])\n",
    "sns.despine(top=True, right=True, left=False, bottom=False)\n",
    "sns.scatterplot(b123.obs, x=\"cnv_score\", y=\"B123_regressed\", ax=axes[1])\n",
    "sns.despine(top=True, right=True, left=False, bottom=False)\n",
    "axes[0].set_xlabel(\"CNV score\")\n",
    "axes[1].set_xlabel(\"CNV score\")\n",
    "axes[0].set_ylabel(\"Enrichment of B123\\necDNA signature\")\n",
    "axes[1].set_ylabel(\"Regressed enrichment of\\nB123 ecDNA signature\")\n",
    "\n",
    "plt.tight_layout()\n",
    "plt.savefig(\"scatterplot_B123_ecDNA_signature.svg\", dpi=300)\n",
    "plt.show()\n",
    "plt.close()"
   ]
  },
  {
   "cell_type": "code",
   "execution_count": null,
   "id": "6853063d-c07a-42b3-b11e-dcb1736f31a1",
   "metadata": {},
   "outputs": [],
   "source": [
    "print(pearsonr(b123.obs[\"cnv_score\"], b123.obs[\"B123\"]))\n",
    "print(pearsonr(b123.obs[\"cnv_score\"], b123.obs[\"B123_regressed\"]))"
   ]
  },
  {
   "cell_type": "code",
   "execution_count": null,
   "id": "a61c6296-2fb1-439d-a65f-a3dc31f32355",
   "metadata": {},
   "outputs": [],
   "source": [
    "fig, axes = plt.subplots(2, 1, figsize=(6, 8), sharex=True)\n",
    "sns.boxplot(\n",
    "    b123.obs,\n",
    "    x=\"amplification\",\n",
    "    y=\"B123\",\n",
    "    ax=axes[0],\n",
    "    hue=\"amplification\",\n",
    "    palette=[\"#949494\", \"#78D3D3\"],\n",
    "    legend=False,\n",
    ")\n",
    "sns.despine(top=True, right=True, left=False, bottom=False)\n",
    "sns.boxplot(\n",
    "    b123.obs,\n",
    "    x=\"amplification\",\n",
    "    y=\"B123_regressed\",\n",
    "    ax=axes[1],\n",
    "    hue=\"amplification\",\n",
    "    palette=[\"#949494\", \"#78D3D3\"],\n",
    "    legend=False,\n",
    ")\n",
    "sns.despine(top=True, right=True, left=False, bottom=False)\n",
    "axes[0].set_xlabel(\"Amplification\")\n",
    "axes[1].set_xlabel(\"Amplification\")\n",
    "axes[0].set_ylabel(\"Enrichment of B123\\necDNA signature\")\n",
    "axes[1].set_ylabel(\"Regressed enrichment of\\nB123 ecDNA signature\")\n",
    "\n",
    "plt.tight_layout()\n",
    "plt.savefig(\"boxplot_B123_ecDNA_signature_amplification.svg\", dpi=300)\n",
    "plt.show()\n",
    "plt.close()"
   ]
  },
  {
   "cell_type": "code",
   "execution_count": null,
   "id": "de87d9af-52dd-4787-9dc1-22f717134772",
   "metadata": {},
   "outputs": [],
   "source": [
    "print(\n",
    "    mannwhitneyu(\n",
    "        b123.obs[b123.obs[\"amplification\"] == True][\"B123\"],\n",
    "        b123.obs[b123.obs[\"amplification\"] == False][\"B123\"],\n",
    "        alternative=\"greater\",\n",
    "    )\n",
    ")\n",
    "print(\n",
    "    mannwhitneyu(\n",
    "        b123.obs[b123.obs[\"amplification\"] == True][\"B123_regressed\"],\n",
    "        b123.obs[b123.obs[\"amplification\"] == False][\"B123_regressed\"],\n",
    "        alternative=\"greater\",\n",
    "    )\n",
    ")"
   ]
  },
  {
   "cell_type": "code",
   "execution_count": null,
   "id": "b8222b52-1feb-43c7-88c7-f1191ebcdef3",
   "metadata": {},
   "outputs": [],
   "source": [
    "# let's split regressed B123 signature into high and low\n",
    "b123.obs[\"B123_bin\"] = pd.qcut(\n",
    "    b123.obs[\"B123_regressed\"], [0, 0.5, 1.0], labels=[\"low\", \"high\"]\n",
    ")\n",
    "# annotate ecDNA status only if regressed B123 signature is high and amplification was detected for the genomic bins used above\n",
    "b123.obs[\"ecDNA_status\"] = (b123.obs[\"B123_bin\"] == \"high\") & (\n",
    "    b123.obs[\"amplification\"] == True\n",
    ")"
   ]
  },
  {
   "cell_type": "code",
   "execution_count": null,
   "id": "3425820a-9ac4-440d-8f34-434a19d806f2",
   "metadata": {},
   "outputs": [],
   "source": [
    "b123.obs[\"ecDNA_status\"] = np.where(\n",
    "    b123.obs[\"ecDNA_status\"] == True, \"ecDNA-positive\", \"ecDNA-negative\"\n",
    ")"
   ]
  },
  {
   "cell_type": "code",
   "execution_count": null,
   "id": "b4cc21c4-7fc1-4af9-9645-1157e3c2f8ea",
   "metadata": {},
   "outputs": [],
   "source": [
    "sc.pl.spatial(\n",
    "    b123,\n",
    "    color=[\"B123_regressed\", \"amplification\", \"B123_bin\", \"ecDNA_status\"],\n",
    "    title=[\n",
    "        \"B123 regressed\",\n",
    "        \"Amplification\",\n",
    "        \"Binarized B123 signature\",\n",
    "        \"Final ecDNA status\",\n",
    "    ],\n",
    "    palette=[\"#949494\", \"#78D3D3\"],\n",
    "    cmap=\"viridis\",\n",
    "    size=1.5,\n",
    "    ncols=2,\n",
    "    vmax=\"p99\",\n",
    "    show=False,\n",
    ")\n",
    "plt.savefig(\"spatial_B123sig_amplification.svg\", dpi=300)\n",
    "plt.show()\n",
    "plt.close()"
   ]
  },
  {
   "cell_type": "markdown",
   "id": "cf0fb323-5187-4e18-ab7b-274883d91e6e",
   "metadata": {},
   "source": [
    "We see that two distinct regions are ecDNA positive. Because we cannot be sure if ecDNA positive and ecDNA negative regions have comparable tumor content, we will try to compare these two distinct regions."
   ]
  },
  {
   "cell_type": "code",
   "execution_count": null,
   "id": "eda2013b-9f1f-4748-8d87-ca80ec65e990",
   "metadata": {},
   "outputs": [],
   "source": [
    "# Segmentation labels from SpatialDE2\n",
    "b123.obs[\"segmentation_labels\"].value_counts()"
   ]
  },
  {
   "cell_type": "code",
   "execution_count": null,
   "id": "0fa13b2d-db98-4a02-a68c-a32f3b84a62f",
   "metadata": {},
   "outputs": [],
   "source": [
    "# Removing clusters with less than 5 observations\n",
    "data = (\n",
    "    b123.obs.groupby(\"ecDNA_status\")[\"segmentation_labels\"].value_counts().reset_index()\n",
    ")\n",
    "\n",
    "results = []\n",
    "all_true = (\n",
    "    data[data[\"ecDNA_status\"] == \"ecDNA-positive\"]\n",
    "    .groupby(\"segmentation_labels\")[\"count\"]\n",
    "    .sum()\n",
    ")\n",
    "all_false = (\n",
    "    data[data[\"ecDNA_status\"] == \"ecDNA-negative\"]\n",
    "    .groupby(\"segmentation_labels\")[\"count\"]\n",
    "    .sum()\n",
    ")\n",
    "total_true = data[data[\"ecDNA_status\"] == \"ecDNA-positive\"][\"count\"].sum()\n",
    "total_false = data[data[\"ecDNA_status\"] == \"ecDNA-negative\"][\"count\"].sum()\n",
    "\n",
    "for cl in data[\"segmentation_labels\"].unique():\n",
    "    a = all_true.get(cl, 0)\n",
    "    b = all_false.get(cl, 0)\n",
    "    c = total_true - a\n",
    "    d = total_false - b\n",
    "    table = [[a, b], [c, d]]\n",
    "    oddsratio, pvalue = fisher_exact(table, alternative=\"greater\")\n",
    "    results.append({\"segmentation_labels\": cl, \"pvalue\": pvalue, \"a\": a, \"b\": b})\n",
    "\n",
    "results_df = pd.DataFrame(results)\n",
    "results_df[\"padj\"] = multipletests(results_df[\"pvalue\"], method=\"fdr_bh\")[1]\n",
    "\n",
    "results_df.sort_values(\"padj\")"
   ]
  },
  {
   "cell_type": "code",
   "execution_count": null,
   "id": "91766f0b-0962-4495-a2fa-e45e2366d3ee",
   "metadata": {
    "scrolled": true
   },
   "outputs": [],
   "source": [
    "sns.set_theme(style=\"white\", rc=PLOTTING_PARAMS)\n",
    "pivoted_df = data.pivot(\n",
    "    columns=\"ecDNA_status\", index=\"segmentation_labels\", values=\"count\"\n",
    ")\n",
    "ax = pivoted_df.div(pivoted_df.sum(axis=1), axis=0).plot.bar(\n",
    "    stacked=True, width=0.9, figsize=(6, 4), color=[\"#949494\", \"#78D3D3\"]\n",
    ")\n",
    "ax.spines[\"top\"].set_visible(False)\n",
    "ax.spines[\"right\"].set_visible(False)\n",
    "plt.xticks(rotation=0)\n",
    "plt.xlabel(\"SpatialDE2 cluster\")\n",
    "plt.ylabel(\"Fraction of spots\\nper cluster\")\n",
    "plt.legend(title=\"ecDNA status\", bbox_to_anchor=(1.05, 1), loc=\"upper left\")\n",
    "plt.tight_layout()\n",
    "plt.savefig(f\"suppfig_14B_barplot_ecdna_spatialde.svg\", dpi=300)\n",
    "plt.show()\n",
    "plt.close()"
   ]
  },
  {
   "cell_type": "code",
   "execution_count": null,
   "id": "f69e27fc-280d-435b-a902-ea104340559a",
   "metadata": {},
   "outputs": [],
   "source": [
    "sc.pl.spatial(\n",
    "    b123,\n",
    "    color=[\"segmentation_labels\"],\n",
    "    title=[\"SpatialDE2 cluster\"],\n",
    "    size=1.5,\n",
    "    show=False,\n",
    "    palette=sns.color_palette(\"colorblind\"),\n",
    ")\n",
    "plt.savefig(\"suppfig_14C_spatial_spatialde2.svg\", dpi=300, bbox_inches=\"tight\")\n",
    "plt.show()\n",
    "plt.close()"
   ]
  },
  {
   "cell_type": "code",
   "execution_count": null,
   "id": "2a5f1704-31f6-4664-b9ff-6e69b400ce40",
   "metadata": {},
   "outputs": [],
   "source": [
    "cs = b123.uns[\"segmentation_labels_colors\"][:-1] + [\"#E0E4E4\"]"
   ]
  },
  {
   "cell_type": "code",
   "execution_count": null,
   "id": "a3ddbbad-6251-49eb-9e64-84c3e9edddcd",
   "metadata": {},
   "outputs": [],
   "source": [
    "sc.pl.spatial(\n",
    "    b123,\n",
    "    color=[\"segmentation_labels\"],\n",
    "    title=[\"SpatialDE2 cluster\"],\n",
    "    size=1.5,\n",
    "    show=False,\n",
    "    palette=cs,\n",
    ")\n",
    "plt.savefig(\"suppfig_14C_spatial_spatialde2.svg\", dpi=300, bbox_inches=\"tight\")\n",
    "plt.show()\n",
    "plt.close()"
   ]
  },
  {
   "cell_type": "code",
   "execution_count": null,
   "id": "37ff018b-9ea3-4aab-8bc1-0f045a887650",
   "metadata": {},
   "outputs": [],
   "source": [
    "sc.pl.spatial(\n",
    "    b123,\n",
    "    color=[\"ecDNA_status\"],\n",
    "    title=[\"ecDNA\"],\n",
    "    size=1.5,\n",
    "    show=False,\n",
    "    palette=[\"#949494\", \"#78D3D3\"],\n",
    ")\n",
    "plt.savefig(\"suppfig_14D_spatial_spatialde2_ecDNA.svg\", dpi=300, bbox_inches=\"tight\")\n",
    "plt.show()\n",
    "plt.close()"
   ]
  },
  {
   "cell_type": "markdown",
   "id": "7e410a0c-63ff-4cf9-9d3d-b7b8d4332e39",
   "metadata": {},
   "source": [
    "Although we still see enrichment of two subclones with ecDNA, ecDNA status just visually doesn't correspond as good to subclones as to spatialDE segments. So we will focus on comparison of the segments."
   ]
  },
  {
   "cell_type": "code",
   "execution_count": null,
   "id": "1976af9d-940f-4070-a4a6-452d96f8d5c5",
   "metadata": {},
   "outputs": [],
   "source": [
    "b123.obs[\"ecDNA_enrichment\"] = b123.obs[\"segmentation_labels\"].isin([3, 9, 10])"
   ]
  },
  {
   "cell_type": "code",
   "execution_count": null,
   "id": "6d87c7cb-ced4-44b2-a476-5fd8fd1cf6d8",
   "metadata": {},
   "outputs": [],
   "source": [
    "cellt = [\n",
    "    \"CDH12_Epithelial\",\n",
    "    \"Cycling_Epithelial\",\n",
    "    \"KRT6A_Epithelial\",\n",
    "    \"KRT13_Epithelial\",\n",
    "    \"UPK_Epithelial\",\n",
    "    \"ACTA2_Fibroblast\",\n",
    "    \"FAP_Fibroblast\",\n",
    "    \"PDGFRB_Fibroblast\",\n",
    "    \"PDPN_Fibroblast\",\n",
    "    \"Endothelial\",\n",
    "    \"Inflam_Macrophage\",\n",
    "    \"MHCII_Macrophage\",\n",
    "    \"Dendritic_cell\",\n",
    "    \"CD20_Bcell\",\n",
    "    \"Plasma_Bcell\",\n",
    "    \"CD8T\",\n",
    "    \"Naive_Tcell\",\n",
    "    \"Treg\",\n",
    "    \"Normal_Smooth_muscle\",\n",
    "]"
   ]
  },
  {
   "cell_type": "code",
   "execution_count": null,
   "id": "0248d699-525b-4327-89c6-2411809d8437",
   "metadata": {},
   "outputs": [],
   "source": [
    "cellt_newnames = {\n",
    "    \"CDH12_Epithelial\": \"Immune-inflitrated epithelial\",\n",
    "    \"Cycling_Epithelial\": \"Cycling epithelial\",\n",
    "    \"KRT6A_Epithelial\": \"Basal epithelial\",\n",
    "    \"KRT13_Epithelial\": \"Luminal epithelial (KRT13+)\",\n",
    "    \"UPK_Epithelial\": \"Luminal epithelial (UPK)\",\n",
    "    \"ACTA2_Fibroblast\": \"mCAF\",\n",
    "    \"FAP_Fibroblast\": \"iCAF (FAP+)\",\n",
    "    \"PDGFRB_Fibroblast\": \"General CAF\",\n",
    "    \"PDPN_Fibroblast\": \"iCAF (PDPN+)\",\n",
    "    \"Endothelial\": \"Endothelial\",\n",
    "    \"Inflam_Macrophage\": \"Inflammatory macrophage\",\n",
    "    \"MHCII_Macrophage\": \"Antigen-presenting macrophage\",\n",
    "    \"Dendritic_cell\": \"Dendritic cell\",\n",
    "    \"CD20_Bcell\": \"B cell\",\n",
    "    \"Plasma_Bcell\": \"Plasma cell\",\n",
    "    \"CD8T\": \"CD8+ T cell\",\n",
    "    \"Naive_Tcell\": \"Naive T cell\",\n",
    "    \"Treg\": \"Regulatory T cell\",\n",
    "    \"Normal_Smooth_muscle\": \"Normal smooth muscle\",\n",
    "}"
   ]
  },
  {
   "cell_type": "code",
   "execution_count": null,
   "id": "b3e55c43-7392-4702-ab82-92ed2f54cd04",
   "metadata": {},
   "outputs": [],
   "source": [
    "# add celltype abundance\n",
    "celltypes = sc.read_h5ad(\n",
    "    \"../../../spatial_transcriptomics/cell2location/visium_model_alpha20_N20_Gouin_muscle_merged/posteriors_adata.h5ad\"\n",
    ")\n",
    "s = select_slide(celltypes, \"B123\")\n",
    "b123.obs = b123.obs.join(s.obs[cellt])\n",
    "\n",
    "del celltypes"
   ]
  },
  {
   "cell_type": "code",
   "execution_count": null,
   "id": "875754ec-b11f-46cd-a9b0-180d8cde4fa1",
   "metadata": {},
   "outputs": [],
   "source": [
    "df = b123.obs[cellt]\n",
    "df = df.div(df.sum(axis=1), axis=0)"
   ]
  },
  {
   "cell_type": "code",
   "execution_count": null,
   "id": "4fb48ede-a53b-468a-9b6c-6ee46178f7af",
   "metadata": {},
   "outputs": [],
   "source": [
    "df.rename(columns=cellt_newnames, inplace=True)"
   ]
  },
  {
   "cell_type": "code",
   "execution_count": null,
   "id": "598e886f-b909-4fd5-b7b8-9f69939291aa",
   "metadata": {},
   "outputs": [],
   "source": [
    "df = df.join(b123.obs[[\"ecDNA_enrichment\", \"segmentation_labels\"]]).melt(\n",
    "    id_vars=[\"ecDNA_enrichment\", \"segmentation_labels\"]\n",
    ")\n",
    "df"
   ]
  },
  {
   "cell_type": "code",
   "execution_count": null,
   "id": "da5ef3a2-40d3-4d83-991d-7f3723c39f92",
   "metadata": {},
   "outputs": [],
   "source": [
    "# let's only compare clusters 0 and 1\n",
    "df_sub = df[df[\"segmentation_labels\"].isin([3, 9, 10])]\n",
    "df_sub[\"segmentation_labels\"] = pd.Categorical(\n",
    "    df_sub[\"segmentation_labels\"], categories=[3, 9, 10]\n",
    ")\n",
    "df_sub[\"variable\"] = df_sub[\"variable\"].str.replace(\"_\", \" \")\n",
    "df_sub"
   ]
  },
  {
   "cell_type": "code",
   "execution_count": null,
   "id": "95fceec0-d562-44d8-8be7-18c985094686",
   "metadata": {},
   "outputs": [],
   "source": [
    "sns.boxplot(\n",
    "    df_sub,\n",
    "    x=\"variable\",\n",
    "    y=\"value\",\n",
    "    hue=\"segmentation_labels\",\n",
    "    palette=[cs[3], cs[9], cs[10]],\n",
    ")\n",
    "sns.despine(top=True, right=True, left=False, bottom=False)\n",
    "plt.xticks(rotation=90)\n",
    "plt.xlabel(\"Cell type\")\n",
    "plt.ylabel(\"Fraction of cell type\")\n",
    "plt.legend(title=\"SpatialDE cluster\", loc=(0.7, 0.7))\n",
    "plt.savefig(\"boxplot_celltypes_spatialde_segments.svg\", dpi=300, bbox_inches=\"tight\")\n",
    "plt.show()\n",
    "plt.close()"
   ]
  },
  {
   "cell_type": "code",
   "execution_count": null,
   "id": "ab935a4a-60ec-481c-bf8e-898c22caafed",
   "metadata": {},
   "outputs": [],
   "source": [
    "sns.boxplot(\n",
    "    df_sub[df_sub[\"variable\"].str.contains(\"epithelial\")],\n",
    "    x=\"variable\",\n",
    "    y=\"value\",\n",
    "    hue=\"segmentation_labels\",\n",
    "    palette=[cs[3], cs[9], cs[10]],\n",
    ")\n",
    "sns.despine(top=True, right=True, left=False, bottom=False)\n",
    "plt.xticks(rotation=90)\n",
    "plt.xlabel(\"Cell type\")\n",
    "plt.ylabel(\"Fraction of cell type\")\n",
    "plt.legend(title=\"SpatialDE cluster\", loc=(0.7, 0.7))\n",
    "plt.savefig(\n",
    "    \"suppfig_14F_boxplot_epithelial_spatialde_segments.svg\",\n",
    "    dpi=300,\n",
    "    bbox_inches=\"tight\",\n",
    ")\n",
    "plt.show()\n",
    "plt.close()"
   ]
  },
  {
   "cell_type": "code",
   "execution_count": null,
   "id": "f8a0395c-e41c-4b8a-ab6f-db577485d9b8",
   "metadata": {},
   "outputs": [],
   "source": [
    "sns.boxplot(\n",
    "    df_sub[~df_sub[\"variable\"].str.contains(\"epithelial\")],\n",
    "    x=\"variable\",\n",
    "    y=\"value\",\n",
    "    hue=\"segmentation_labels\",\n",
    "    palette=[cs[3], cs[9], cs[10]],\n",
    ")\n",
    "sns.despine(top=True, right=True, left=False, bottom=False)\n",
    "plt.xticks(rotation=90)\n",
    "plt.xlabel(\"Cell type\")\n",
    "plt.ylabel(\"Fraction of cell type\")\n",
    "plt.legend(title=\"SpatialDE cluster\", loc=(0.7, 0.7))\n",
    "plt.savefig(\n",
    "    \"suppfig_14G_boxplot_non_epithelial_spatialde_segments.svg\",\n",
    "    dpi=300,\n",
    "    bbox_inches=\"tight\",\n",
    ")\n",
    "plt.show()\n",
    "plt.close()"
   ]
  },
  {
   "cell_type": "code",
   "execution_count": null,
   "id": "86685b59-228a-4f4a-b1cb-e729e05f35cd",
   "metadata": {},
   "outputs": [],
   "source": [
    "b123_sub = b123[b123.obs[\"segmentation_labels\"].isin([3, 9, 10]), :]\n",
    "epi = b123_sub.obs[cellt]\n",
    "# get fractional abundance per spot\n",
    "epi = epi.div(epi.sum(axis=1), axis=0)\n",
    "epi.columns = [f\"{ct}_fraction\" for ct in epi.columns]"
   ]
  },
  {
   "cell_type": "markdown",
   "id": "37e5a3ef-7132-4993-b862-38028adf4a14",
   "metadata": {},
   "source": [
    "Now let's check which genes are differentially expressed between these two regions."
   ]
  },
  {
   "cell_type": "code",
   "execution_count": null,
   "id": "69363cb9-0010-4ac7-9def-fc03b39f53b4",
   "metadata": {},
   "outputs": [],
   "source": [
    "b123_sub.obs[\"segmentation_labels\"] = b123_sub.obs[\"segmentation_labels\"].astype(str)\n",
    "sc.tl.rank_genes_groups(b123_sub, \"segmentation_labels\", method=\"wilcoxon\")"
   ]
  },
  {
   "cell_type": "code",
   "execution_count": null,
   "id": "ebeceed8-e26b-4367-b09d-940441c2793c",
   "metadata": {},
   "outputs": [],
   "source": [
    "sns.reset_defaults()\n",
    "sc.pl.rank_genes_groups_dotplot(\n",
    "    b123_sub,\n",
    "    var_group_rotation=0,\n",
    "    values_to_plot=\"logfoldchanges\",\n",
    "    cmap=\"bwr\",\n",
    "    n_genes=7,\n",
    "    show=False,\n",
    ")\n",
    "\n",
    "\n",
    "plt.savefig(\n",
    "    \"suppfig_14E_dotplot_deg_spatialde_segments.svg\", dpi=300, bbox_inches=\"tight\"\n",
    ")\n",
    "plt.show()\n",
    "plt.close()"
   ]
  },
  {
   "cell_type": "code",
   "execution_count": null,
   "id": "7f88b7b2-09e3-4d66-8e30-32feb68b6fa8",
   "metadata": {},
   "outputs": [],
   "source": []
  }
 ],
 "metadata": {
  "kernelspec": {
   "display_name": "muon",
   "language": "python",
   "name": "muon"
  },
  "language_info": {
   "codemirror_mode": {
    "name": "ipython",
    "version": 3
   },
   "file_extension": ".py",
   "mimetype": "text/x-python",
   "name": "python",
   "nbconvert_exporter": "python",
   "pygments_lexer": "ipython3",
   "version": "3.10.16"
  }
 },
 "nbformat": 4,
 "nbformat_minor": 5
}
