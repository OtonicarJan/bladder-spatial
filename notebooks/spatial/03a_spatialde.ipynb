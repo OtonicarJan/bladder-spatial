{
 "cells": [
  {
   "cell_type": "markdown",
   "id": "6b398ddb-8c4b-4c5e-af4a-85c103ce0e4d",
   "metadata": {},
   "source": [
    "# 3.a SpatialDE2 analysis"
   ]
  },
  {
   "cell_type": "code",
   "execution_count": null,
   "id": "dba2a4d5-2d54-4daa-a8e4-e9afcea147cc",
   "metadata": {},
   "outputs": [],
   "source": [
    "import pickle\n",
    "import sys\n",
    "import warnings\n",
    "\n",
    "import matplotlib.pyplot as plt\n",
    "import numpy as np\n",
    "import pandas as pd\n",
    "import scanpy as sc\n",
    "import seaborn as sns\n",
    "import SpatialDE\n",
    "from helper_functions import select_slide\n",
    "from scipy.stats import mannwhitneyu\n",
    "\n",
    "warnings.filterwarnings(\"ignore\")\n",
    "sys.path.insert(1, \"../../helper_functions\")"
   ]
  },
  {
   "cell_type": "markdown",
   "id": "1201cd9a-b900-47e5-a0fb-9d45a561ee48",
   "metadata": {},
   "source": [
    "# SpatialDE"
   ]
  },
  {
   "cell_type": "code",
   "execution_count": null,
   "id": "b2365b3a-2f86-4c8d-924e-567a2277aecb",
   "metadata": {},
   "outputs": [],
   "source": [
    "low_grade = [\"B22\", \"B24\", \"B60\", \"B154\", \"B156\"]\n",
    "high_grade = [\"B175\", \"B178\", \"B4\", \"B42\", \"B123\"]\n",
    "samples = low_grade + high_grade"
   ]
  },
  {
   "cell_type": "code",
   "execution_count": null,
   "id": "75a558b9-0bb9-4d18-af91-95b60f160b19",
   "metadata": {
    "jp-MarkdownHeadingCollapsed": true
   },
   "outputs": [],
   "source": [
    "vargenes = {}\n",
    "adata = sc.read_h5ad(f\"../../data/merged_samples.h5ad\")\n",
    "for sample in low_grade + high_grade:\n",
    "    print(f\"Working on sample {sample}\")\n",
    "    slide = select_slide(adata, sample)\n",
    "    vargenes[sample], _ = SpatialDE.test(slide, layer=\"counts\", omnibus=True)\n",
    "\n",
    "pickle.dump(vargenes, open(\"vargenes.pkl\", \"wb\"))"
   ]
  },
  {
   "cell_type": "code",
   "execution_count": null,
   "id": "a74f9704-de38-463d-b840-e44ee39ac34c",
   "metadata": {},
   "outputs": [],
   "source": [
    "adatas = {}\n",
    "for s in samples:\n",
    "    adatas[s] = sc.read_h5ad(f\"../../data/{s}.h5ad\")"
   ]
  },
  {
   "cell_type": "code",
   "execution_count": null,
   "id": "e2ba4453-26ff-41f8-a2a5-b6608b9bec2f",
   "metadata": {},
   "outputs": [],
   "source": [
    "vargenes = pickle.load(open(\"vargenes.pkl\", \"rb\"))"
   ]
  },
  {
   "cell_type": "code",
   "execution_count": null,
   "id": "5017a547-7ceb-40cf-9e69-8eb64711a6e7",
   "metadata": {},
   "outputs": [],
   "source": [
    "segmentations = {}\n",
    "for sample, adata in adatas.items():\n",
    "    sc.pp.calculate_qc_metrics(adata, inplace=True)\n",
    "    genes = (\n",
    "        vargenes[sample]\n",
    "        .query(\"padj < 0.05 and not gene.str.startswith('MT-').values\")\n",
    "        .set_index(\"gene\")\n",
    "        .assign(totalcounts=adata.var.total_counts)\n",
    "        .sort_values(\"totalcounts\", ascending=False)\n",
    "        .iloc[:2000,]\n",
    "        .index.values\n",
    "    )\n",
    "    segmentations[sample] = genes\n",
    "    segmentations[sample] = SpatialDE.tissue_segmentation(\n",
    "        adata, layer=\"counts\", genes=genes, rng=np.random.default_rng(42)\n",
    "    )"
   ]
  },
  {
   "cell_type": "code",
   "execution_count": null,
   "id": "26696984-a7c7-4445-85b2-f74ee1bc6ed8",
   "metadata": {},
   "outputs": [],
   "source": [
    "for sample, adata in adatas.items():\n",
    "    adata.write_h5ad(f\"h5ad/{sample}.h5ad\", compression=\"gzip\", compression_opts=9)"
   ]
  },
  {
   "cell_type": "code",
   "execution_count": null,
   "id": "a742f59e-d300-4e2b-8ab6-94f20a3c692c",
   "metadata": {},
   "outputs": [],
   "source": [
    "adatas = {}\n",
    "for sample in samples:\n",
    "    adatas[sample] = sc.read_h5ad(f\"h5ad/{sample}.h5ad\")"
   ]
  },
  {
   "cell_type": "code",
   "execution_count": null,
   "id": "306f8172-4f7b-40a2-91a9-7f016068bfc2",
   "metadata": {},
   "outputs": [],
   "source": [
    "for name, adata in adatas.items():\n",
    "    adata.obs[\"segmentation_labels\"] = \"Cluster \" + adata.obs[\n",
    "        \"segmentation_labels\"\n",
    "    ].astype(str)\n",
    "    lab = []\n",
    "    labels, counts = np.unique(adata.obs[\"segmentation_labels\"], return_counts=True)\n",
    "    for label, count in zip(labels, counts):\n",
    "        if count > 3:\n",
    "            lab.append(label)\n",
    "\n",
    "    adata = adata[adata.obs[\"segmentation_labels\"].isin(lab)].copy()\n",
    "    adatas[name] = adata"
   ]
  },
  {
   "cell_type": "code",
   "execution_count": null,
   "id": "88be1170-b014-4cbb-bf83-24aa7adb8432",
   "metadata": {},
   "outputs": [],
   "source": [
    "for sample in sorted(adatas.keys()):\n",
    "    sc.pl.spatial(\n",
    "        adatas[sample],\n",
    "        color=\"segmentation_labels\",\n",
    "        title=f\"SpatialDE {sample}\",\n",
    "        img_key=None,\n",
    "        size=1.5,\n",
    "        show=False,\n",
    "    )\n",
    "    plt.tight_layout()\n",
    "    plt.savefig(f\"figures/SpatialDE_segments_{sample}.svg\", dpi=300)"
   ]
  },
  {
   "cell_type": "code",
   "execution_count": null,
   "id": "38c09838-b560-42bc-8dbb-cba3ee0e7d98",
   "metadata": {},
   "outputs": [],
   "source": [
    "df = []\n",
    "for sample, adata in adatas.items():\n",
    "    regions, counts = np.unique(adata.obs.segmentation_labels, return_counts=True)\n",
    "    df.append(\n",
    "        pd.DataFrame(\n",
    "            {\n",
    "                \"sample\": [sample],\n",
    "                \"nregions\": (counts > 3).sum(),\n",
    "                \"nspots\": adata.n_obs,\n",
    "                \"type\": \"ecDNA\" if sample in [\"B4\", \"B123\", \"B42\"] else \"non-ecDNA\",\n",
    "            }\n",
    "        )\n",
    "    )\n",
    "df = pd.concat(df).sort_values(\"sample\").reset_index(drop=True)\n",
    "df[\"nregions/nspots\"] = df[\"nregions\"] / df[\"nspots\"]"
   ]
  },
  {
   "cell_type": "code",
   "execution_count": null,
   "id": "1e8cda11-7513-4929-9c45-2b44211665ab",
   "metadata": {},
   "outputs": [],
   "source": [
    "plt.figure(figsize=(6, 4))\n",
    "sns.stripplot(\n",
    "    df,\n",
    "    x=\"type\",\n",
    "    y=\"nregions/nspots\",\n",
    "    alpha=1,\n",
    "    hue=\"type\",\n",
    "    size=8,\n",
    "    legend=False,\n",
    "    palette=\"colorblind\",\n",
    ")\n",
    "sns.pointplot(\n",
    "    df,\n",
    "    x=\"type\",\n",
    "    y=\"nregions/nspots\",\n",
    "    errorbar=None,\n",
    "    markers=\"_\",\n",
    "    scale=2.5,\n",
    "    color=\"black\",\n",
    "    linestyles=\"\",\n",
    ")\n",
    "\n",
    "plt.xlabel(\"ecDNA status\", size=14)\n",
    "plt.ylabel(\"regions / spot\", size=14)\n",
    "plt.xticks(fontsize=12)\n",
    "plt.yticks(fontsize=12)\n",
    "plt.ylim(0, 0.008)\n",
    "plt.title(\"Number of segmented regions per spot\")\n",
    "plt.tight_layout()\n",
    "plt.savefig(\"figures/spatialDE_pointplot_ecDNA.svg\", dpi=300)"
   ]
  },
  {
   "cell_type": "code",
   "execution_count": null,
   "id": "51060ca9-0f6b-413b-a994-d10ffcf12d25",
   "metadata": {},
   "outputs": [],
   "source": [
    "mannwhitneyu(\n",
    "    (df.nregions / df.nspots)[df.type == \"ecDNA\"],\n",
    "    (df.nregions / df.nspots)[df.type != \"ecDNA\"],\n",
    "    alternative=\"greater\",\n",
    ")"
   ]
  },
  {
   "cell_type": "code",
   "execution_count": null,
   "id": "2549dcac-c801-4b47-83b3-7a7611e30fc5",
   "metadata": {},
   "outputs": [],
   "source": [
    "for name, adata in adatas.items():\n",
    "\n",
    "    adata.uns[\"log1p\"][\"base\"] = None\n",
    "    sc.tl.rank_genes_groups(adata, \"segmentation_labels\", method=\"wilcoxon\")\n",
    "    sc.pl.rank_genes_groups_dotplot(\n",
    "        adata,\n",
    "        var_group_rotation=0,\n",
    "        values_to_plot=\"logfoldchanges\",\n",
    "        cmap=\"bwr\",\n",
    "        vmin=-2,\n",
    "        vmax=2,\n",
    "        n_genes=5,\n",
    "        show=False,\n",
    "        figsize=(17, 5),\n",
    "    )\n",
    "    plt.suptitle(name)\n",
    "    plt.tight_layout()\n",
    "    plt.savefig(f\"figures/{name}_spatialDE_dotplot.svg\", dpi=300, bbox_inches=\"tight\")"
   ]
  }
 ],
 "metadata": {
  "kernelspec": {
   "display_name": "scanpy",
   "language": "python",
   "name": "scanpy"
  },
  "language_info": {
   "codemirror_mode": {
    "name": "ipython",
    "version": 3
   },
   "file_extension": ".py",
   "mimetype": "text/x-python",
   "name": "python",
   "nbconvert_exporter": "python",
   "pygments_lexer": "ipython3",
   "version": "3.10.13"
  }
 },
 "nbformat": 4,
 "nbformat_minor": 5
}
