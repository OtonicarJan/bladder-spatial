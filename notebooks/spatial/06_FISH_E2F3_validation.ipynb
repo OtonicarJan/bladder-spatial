{
 "cells": [
  {
   "cell_type": "markdown",
   "id": "28342c5a-ef62-441c-b25c-0277a728823f",
   "metadata": {},
   "source": [
    "# 4. Validation of E2F3 amplification "
   ]
  },
  {
   "cell_type": "code",
   "execution_count": null,
   "id": "55c9de3d-829f-459e-9a97-f71695cc49f4",
   "metadata": {},
   "outputs": [],
   "source": [
    "import sys\n",
    "import warnings\n",
    "\n",
    "import matplotlib.pyplot as plt\n",
    "import numpy as np\n",
    "import pandas as pd\n",
    "import scanpy as sc\n",
    "import seaborn as sns\n",
    "from plotting_settings import PLOTTING_PARAMS\n",
    "from scipy.stats import chi2_contingency, mannwhitneyu\n",
    "\n",
    "warnings.filterwarnings(\"ignore\")\n",
    "sys.path.insert(1, \"../../helper_functions\")"
   ]
  },
  {
   "cell_type": "code",
   "execution_count": null,
   "id": "20e8794b-3f45-4ebb-ad1c-875fffe9526b",
   "metadata": {},
   "outputs": [],
   "source": [
    "def extract_spots(adata, x1, x2, y1, y2):\n",
    "    extracted_spots = []\n",
    "    for i, spot in enumerate(adata.obsm[\"spatial\"].tolist()):\n",
    "        x, y = spot\n",
    "        if (x > x1) and (x < x2) and (y > y1) and (y < y2):\n",
    "            extracted_spots.append(i)\n",
    "\n",
    "    return extracted_spots"
   ]
  },
  {
   "cell_type": "markdown",
   "id": "b7be79c7-793a-47f3-9233-c36333ab9aa1",
   "metadata": {},
   "source": [
    "## E2F3 results from FISH"
   ]
  },
  {
   "cell_type": "code",
   "execution_count": null,
   "id": "54f4fd9e-a231-4026-9295-964e73374179",
   "metadata": {},
   "outputs": [],
   "source": [
    "b42_crops = [\n",
    "    (\"right\", [13000, 23000, 4000, 20000]),\n",
    "    (\"left\", [3000, 13000, 5000, 22000]),\n",
    "]\n",
    "b123_crops = [(\"top\", [3000, 24000, 0, 12000]), (\"bottom\", [3000, 24000, 12000, 27000])]"
   ]
  },
  {
   "cell_type": "code",
   "execution_count": null,
   "id": "f20a4fd2-05f5-4a3c-9454-98782599369d",
   "metadata": {},
   "outputs": [],
   "source": [
    "b123 = sc.read_h5ad(f\"../../data/B123.h5ad\")\n",
    "b42 = sc.read_h5ad(f\"../../data/B42.h5ad\")"
   ]
  },
  {
   "cell_type": "code",
   "execution_count": null,
   "id": "04bcdc2b-2832-4184-8763-37a02474f886",
   "metadata": {},
   "outputs": [],
   "source": [
    "b42_right = extract_spots(\n",
    "    b42,\n",
    "    x1=b42_crops[0][1][0],\n",
    "    x2=b42_crops[0][1][1],\n",
    "    y1=b42_crops[0][1][2],\n",
    "    y2=b42_crops[0][1][3],\n",
    ")\n",
    "b42_left = extract_spots(\n",
    "    b42,\n",
    "    x1=b42_crops[1][1][0],\n",
    "    x2=b42_crops[1][1][1],\n",
    "    y1=b42_crops[1][1][2],\n",
    "    y2=b42_crops[1][1][3],\n",
    ")\n",
    "\n",
    "b42_right = b42[b42_right, :].copy()\n",
    "b42_left = b42[b42_left, :].copy()\n",
    "\n",
    "b123_top = extract_spots(\n",
    "    b123,\n",
    "    x1=b123_crops[0][1][0],\n",
    "    x2=b123_crops[0][1][1],\n",
    "    y1=b123_crops[0][1][2],\n",
    "    y2=b123_crops[0][1][3],\n",
    ")\n",
    "b123_bottom = extract_spots(\n",
    "    b123,\n",
    "    x1=b123_crops[1][1][0],\n",
    "    x2=b123_crops[1][1][1],\n",
    "    y1=b123_crops[1][1][2],\n",
    "    y2=b123_crops[1][1][3],\n",
    ")\n",
    "\n",
    "b123_top = b123[b123_top, :].copy()\n",
    "b123_bottom = b123[b123_bottom, :].copy()"
   ]
  },
  {
   "cell_type": "markdown",
   "id": "761063ba-4001-41e4-b274-8d3dd9188d9e",
   "metadata": {},
   "source": [
    "#### B42"
   ]
  },
  {
   "cell_type": "code",
   "execution_count": null,
   "id": "d82e2858-01d8-4d3f-83e8-91d855d3768a",
   "metadata": {},
   "outputs": [],
   "source": [
    "sns.set_theme(style=\"white\", rc=PLOTTING_PARAMS)\n",
    "fig, axes = plt.subplots(2, 2, figsize=(6, 6))\n",
    "sc.pl.spatial(\n",
    "    b42_left,\n",
    "    color=None,\n",
    "    size=1.5,\n",
    "    title=\"B42 left\",\n",
    "    show=False,\n",
    "    ax=axes[0, 0],\n",
    "    frameon=False,\n",
    ")\n",
    "sc.pl.spatial(\n",
    "    b42_left,\n",
    "    color=\"E2F3\",\n",
    "    size=1.5,\n",
    "    vmax=1.4,\n",
    "    show=False,\n",
    "    ax=axes[0, 1],\n",
    "    frameon=False,\n",
    "    cmap=\"viridis\",\n",
    ")\n",
    "sc.pl.spatial(\n",
    "    b42_right,\n",
    "    color=None,\n",
    "    size=1.5,\n",
    "    title=\"B42 right\",\n",
    "    show=False,\n",
    "    ax=axes[1, 0],\n",
    "    frameon=False,\n",
    ")\n",
    "sc.pl.spatial(\n",
    "    b42_right,\n",
    "    color=\"E2F3\",\n",
    "    size=1.5,\n",
    "    vmax=1.4,\n",
    "    show=False,\n",
    "    ax=axes[1, 1],\n",
    "    frameon=False,\n",
    "    cmap=\"viridis\",\n",
    ")\n",
    "\n",
    "plt.tight_layout()\n",
    "\n",
    "plt.savefig(\"suppfig7A_spatial_FISH_E2F3_B42.svg\", dpi=300)"
   ]
  },
  {
   "cell_type": "code",
   "execution_count": null,
   "id": "7425b9c7-ce22-443c-8039-5b458ec8cf81",
   "metadata": {},
   "outputs": [],
   "source": [
    "b42_left_df = sc.get.obs_df(b42_left, keys=[\"E2F3\"])\n",
    "b42_left_df[\"Area\"] = \"Left\"\n",
    "b42_right_df = sc.get.obs_df(b42_right, keys=[\"E2F3\"])\n",
    "b42_right_df[\"Area\"] = \"Right\"\n",
    "\n",
    "b42_joint = pd.concat([b42_left_df, b42_right_df])\n",
    "\n",
    "plt.figure(figsize=(6, 4))\n",
    "sns.boxplot(b42_joint, x=\"Area\", y=\"E2F3\")\n",
    "sns.despine(top=True, right=True, left=False, bottom=False)\n",
    "\n",
    "plt.savefig(\"suppfig_7C_boxplot_E2F3_exp_B42.svg\", dpi=300, bbox_inches=\"tight\")"
   ]
  },
  {
   "cell_type": "code",
   "execution_count": null,
   "id": "a509d1fe-2efd-4a5e-8af4-1370e8e636cc",
   "metadata": {},
   "outputs": [],
   "source": [
    "mannwhitneyu(\n",
    "    b42_joint[b42_joint[\"Area\"] == \"Left\"][\"E2F3\"],\n",
    "    b42_joint[b42_joint[\"Area\"] == \"Right\"][\"E2F3\"],\n",
    ")"
   ]
  },
  {
   "cell_type": "markdown",
   "id": "afd66da3-7f15-42da-9e8e-d4271523ce09",
   "metadata": {},
   "source": [
    "#### B123"
   ]
  },
  {
   "cell_type": "code",
   "execution_count": null,
   "id": "cbac9dfe-95a3-4eb0-80f4-75657288bbd6",
   "metadata": {},
   "outputs": [],
   "source": [
    "fig, axes = plt.subplots(2, 2, figsize=(6, 6))\n",
    "sc.pl.spatial(\n",
    "    b123_top,\n",
    "    color=None,\n",
    "    size=1.5,\n",
    "    title=\"B123 top\",\n",
    "    show=False,\n",
    "    ax=axes[0, 0],\n",
    "    frameon=False,\n",
    ")\n",
    "sc.pl.spatial(\n",
    "    b123_top,\n",
    "    color=\"E2F3\",\n",
    "    size=1.5,\n",
    "    vmax=1.4,\n",
    "    show=False,\n",
    "    ax=axes[0, 1],\n",
    "    frameon=False,\n",
    "    cmap=\"viridis\",\n",
    ")\n",
    "sc.pl.spatial(\n",
    "    b123_bottom,\n",
    "    color=None,\n",
    "    size=1.5,\n",
    "    title=\"B123 bottom\",\n",
    "    show=False,\n",
    "    ax=axes[1, 0],\n",
    "    frameon=False,\n",
    ")\n",
    "sc.pl.spatial(\n",
    "    b123_bottom,\n",
    "    color=\"E2F3\",\n",
    "    size=1.5,\n",
    "    vmax=1.4,\n",
    "    show=False,\n",
    "    ax=axes[1, 1],\n",
    "    frameon=False,\n",
    "    cmap=\"viridis\",\n",
    ")\n",
    "\n",
    "plt.tight_layout()\n",
    "\n",
    "plt.savefig(\"suppfig_7D_spatial_FISH_E2F3_B123.svg\", dpi=300)"
   ]
  },
  {
   "cell_type": "code",
   "execution_count": null,
   "id": "b7488ce2-f6b7-44e4-be03-3589618156ca",
   "metadata": {},
   "outputs": [],
   "source": [
    "b123_top_df = sc.get.obs_df(b123_top, keys=[\"E2F3\"])\n",
    "b123_top_df[\"Area\"] = \"Top\"\n",
    "b123_bottom_df = sc.get.obs_df(b123_bottom, keys=[\"E2F3\"])\n",
    "b123_bottom_df[\"Area\"] = \"Bottom\"\n",
    "\n",
    "b123_joint = pd.concat([b123_top_df, b123_bottom_df])\n",
    "\n",
    "plt.figure(figsize=(6, 4))\n",
    "sns.boxplot(b123_joint, x=\"Area\", y=\"E2F3\")\n",
    "sns.despine(top=True, right=True, left=False, bottom=False)\n",
    "\n",
    "plt.savefig(\"suppfig_7F_boxplot_E2F3_exp_B123.svg\", dpi=300, bbox_inches=\"tight\")"
   ]
  },
  {
   "cell_type": "code",
   "execution_count": null,
   "id": "dc607864-df43-46bb-b0eb-b23f014084f7",
   "metadata": {},
   "outputs": [],
   "source": [
    "mannwhitneyu(\n",
    "    b123_joint[b123_joint[\"Area\"] == \"Top\"][\"E2F3\"],\n",
    "    b123_joint[b123_joint[\"Area\"] == \"Bottom\"][\"E2F3\"],\n",
    ")"
   ]
  },
  {
   "cell_type": "markdown",
   "id": "d5695195-99c8-4142-9d10-0f0617059671",
   "metadata": {},
   "source": [
    "## FISH"
   ]
  },
  {
   "cell_type": "markdown",
   "id": "c3a1afc8-ea8d-4bc6-ad3e-124c34f150eb",
   "metadata": {},
   "source": [
    "#### Just HLA + 8 signals"
   ]
  },
  {
   "cell_type": "code",
   "execution_count": null,
   "id": "352a6b07-77f9-4d5b-8849-ed4380b80171",
   "metadata": {},
   "outputs": [],
   "source": [
    "b123_table = np.array([[50, 51], [41, 60]])\n",
    "b42_table = np.array([[66, 44], [67, 33]])"
   ]
  },
  {
   "cell_type": "code",
   "execution_count": null,
   "id": "434c099b-87ab-42e9-8bb1-6e61bc0859bd",
   "metadata": {},
   "outputs": [],
   "source": [
    "chi2_contingency(b123_table)"
   ]
  },
  {
   "cell_type": "code",
   "execution_count": null,
   "id": "243a8be9-a22a-44f3-9ae7-af9d1b59906b",
   "metadata": {},
   "outputs": [],
   "source": [
    "chi2_contingency(b42_table)"
   ]
  },
  {
   "cell_type": "code",
   "execution_count": null,
   "id": "e84a06d2-2fcf-4913-97fe-165a666a8460",
   "metadata": {},
   "outputs": [],
   "source": [
    "weight_counts = {\n",
    "    \"E2F3 high-level\\namplification\": np.array([50 / 101, 41 / 101]),\n",
    "    \"E2F3 non-high-level\\namplification\": np.array([51 / 101, 60 / 101]),\n",
    "}\n",
    "df = pd.DataFrame.from_dict(weight_counts, orient=\"index\", columns=[\"Top\", \"Bottom\"]).T\n",
    "# df = df[[\"non-HLA\", \"HLA\"]]\n",
    "ax = df.plot.bar(\n",
    "    stacked=True, width=0.9, figsize=(6, 4), color=sns.color_palette(\"colorblind\")[5:]\n",
    ")\n",
    "ax.spines[\"top\"].set_visible(False)\n",
    "ax.spines[\"right\"].set_visible(False)\n",
    "plt.title(\"B123\")\n",
    "plt.xticks(rotation=0)\n",
    "plt.xlabel(\"Area\")\n",
    "plt.ylabel(\"Fraction of cells\")\n",
    "plt.legend(loc=\"center left\", bbox_to_anchor=(1, 0.5))\n",
    "\n",
    "plt.savefig(\"suppfig_7E_barplot_FISH_E2F3_B123.svg\", dpi=300, bbox_inches=\"tight\")"
   ]
  },
  {
   "cell_type": "code",
   "execution_count": null,
   "id": "cdfec243-17e2-4122-af56-eefb46b730ea",
   "metadata": {},
   "outputs": [],
   "source": [
    "weight_counts = {\n",
    "    \"E2F3 high-level\\namplification\": np.array([66 / 110, 67 / 100]),\n",
    "    \"E2F3 non-high-level\\namplification\": np.array([44 / 110, 33 / 100]),\n",
    "}\n",
    "df = pd.DataFrame.from_dict(weight_counts, orient=\"index\", columns=[\"Left\", \"Right\"]).T\n",
    "# df = df[[\"non-HLA\", \"HLA\"]]\n",
    "ax = df.plot.bar(\n",
    "    stacked=True, width=0.9, figsize=(6, 4), color=sns.color_palette(\"colorblind\")[5:]\n",
    ")\n",
    "ax.spines[\"top\"].set_visible(False)\n",
    "ax.spines[\"right\"].set_visible(False)\n",
    "plt.title(\"B42\")\n",
    "plt.xlabel(\"Area\")\n",
    "plt.xticks(rotation=0)\n",
    "plt.ylabel(\"Fraction of cells\")\n",
    "plt.legend(loc=\"center left\", bbox_to_anchor=(1, 0.5))\n",
    "\n",
    "plt.savefig(\"suppfig_7B_barplot_FISH_E2F3_B42.svg\", dpi=300, bbox_inches=\"tight\")"
   ]
  },
  {
   "cell_type": "code",
   "execution_count": null,
   "id": "fe7ff619-bb7c-49b6-9aac-462c314f3446",
   "metadata": {},
   "outputs": [],
   "source": []
  }
 ],
 "metadata": {
  "kernelspec": {
   "display_name": "muon",
   "language": "python",
   "name": "muon"
  },
  "language_info": {
   "codemirror_mode": {
    "name": "ipython",
    "version": 3
   },
   "file_extension": ".py",
   "mimetype": "text/x-python",
   "name": "python",
   "nbconvert_exporter": "python",
   "pygments_lexer": "ipython3",
   "version": "3.10.16"
  }
 },
 "nbformat": 4,
 "nbformat_minor": 5
}
