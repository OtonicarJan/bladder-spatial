{
 "cells": [
  {
   "cell_type": "markdown",
   "id": "61e9cde1-c25b-4a70-b6f5-7f715c314668",
   "metadata": {},
   "source": [
    "# 3. Analysis of ecDNA regions for the sample B4"
   ]
  },
  {
   "cell_type": "code",
   "execution_count": null,
   "id": "de7fabac-673f-4d4f-93bc-cb59da154cbb",
   "metadata": {},
   "outputs": [],
   "source": [
    "import sys\n",
    "import warnings\n",
    "\n",
    "import decoupler as dc\n",
    "import gseapy as gp\n",
    "import matplotlib.pyplot as plt\n",
    "import numpy as np\n",
    "import pandas as pd\n",
    "import scanpy as sc\n",
    "import scikit_posthocs as sp\n",
    "import seaborn as sns\n",
    "import statsmodels.api as sm\n",
    "from adjustText import adjust_text\n",
    "from gseapy import Msigdb, dotplot\n",
    "from helper_functions import select_slide\n",
    "from matplotlib.patches import Patch\n",
    "from plotting_settings import PLOTTING_PARAMS\n",
    "from scipy.stats import fisher_exact, kruskal, mannwhitneyu, pearsonr\n",
    "from sklearn.mixture import GaussianMixture as GMM\n",
    "from statannotations.Annotator import Annotator\n",
    "from statsmodels.stats.multitest import multipletests\n",
    "\n",
    "warnings.filterwarnings(\"ignore\")\n",
    "sys.path.insert(1, \"../../helper_functions\")"
   ]
  },
  {
   "cell_type": "code",
   "execution_count": null,
   "id": "c132529c-76d6-4a65-af6d-c38b14c5f3d8",
   "metadata": {},
   "outputs": [],
   "source": [
    "def read_genes(sample):\n",
    "    genes = []\n",
    "    with open(f\"../../data/{sample}_ecDNA_genes.txt\", \"r\") as fin:\n",
    "        for line in fin:\n",
    "            genes.append(line.rstrip())\n",
    "    return genes"
   ]
  },
  {
   "cell_type": "code",
   "execution_count": null,
   "id": "a1a7e671-136f-4a0c-8a0a-a2981cc3e5a0",
   "metadata": {},
   "outputs": [],
   "source": [
    "def highly_expressed_genes(genes, target_sample, adata):\n",
    "    samples = adata.obs[\"sample\"].unique()\n",
    "\n",
    "    median_expr = pd.DataFrame(index=list(genes), columns=samples)\n",
    "\n",
    "    for sample in samples:\n",
    "        sample_mask = adata.obs[\"sample\"] == sample\n",
    "        sample_expr = adata[sample_mask, list(genes)].X\n",
    "        median_vals = np.array(sample_expr.mean(axis=0)).flatten()\n",
    "        median_expr.loc[:, sample] = median_vals\n",
    "\n",
    "    genes_highest_in_x = median_expr.idxmax(axis=1) == target_sample\n",
    "    selected_genes = median_expr.index[genes_highest_in_x].tolist()\n",
    "\n",
    "    return sorted(selected_genes)"
   ]
  },
  {
   "cell_type": "code",
   "execution_count": null,
   "id": "4173b855-972e-499b-8e90-1d7a1942ecb6",
   "metadata": {},
   "outputs": [],
   "source": [
    "adata = sc.read_h5ad(\"../../data/merged_samples.h5ad\")\n",
    "metadata = pd.read_csv(\n",
    "    \"../../../spatial_transcriptomics/CNVs/copykat/metadata_all.csv\", index_col=0\n",
    ")\n",
    "\n",
    "adata.obs = adata.obs.join(metadata)\n",
    "adata = adata[adata.obs[\"copykat.pred\"] == \"aneuploid\", :].copy()"
   ]
  },
  {
   "cell_type": "code",
   "execution_count": null,
   "id": "23b0b10d-5e35-4dd3-8e7b-0f3ffb73aa0b",
   "metadata": {},
   "outputs": [],
   "source": [
    "ecDNA_samples = [\"B4\", \"B42\", \"B123\"]"
   ]
  },
  {
   "cell_type": "code",
   "execution_count": null,
   "id": "05a78773-52be-427b-a8da-a142a9e79f42",
   "metadata": {},
   "outputs": [],
   "source": [
    "b42_signature = read_genes(\"B42\")\n",
    "b4_signature = read_genes(\"B4\")\n",
    "b123_signature = read_genes(\"B123\")"
   ]
  },
  {
   "cell_type": "code",
   "execution_count": null,
   "id": "ed5b7221-73d7-4c64-b57f-71c0f3ec6f58",
   "metadata": {},
   "outputs": [],
   "source": [
    "b42_signature = set(b42_signature).intersection(adata.var.index)\n",
    "b4_signature = set(b4_signature).intersection(adata.var.index)\n",
    "b123_signature = set(b123_signature).intersection(adata.var.index)"
   ]
  },
  {
   "cell_type": "code",
   "execution_count": null,
   "id": "f02f77af-3eb6-4572-a1d9-4b3ccdf750e2",
   "metadata": {},
   "outputs": [],
   "source": [
    "B42_genes = highly_expressed_genes(b42_signature, \"B42\", adata)\n",
    "B4_genes = highly_expressed_genes(b4_signature, \"B4\", adata)\n",
    "B123_genes = highly_expressed_genes(b123_signature, \"B123\", adata)"
   ]
  },
  {
   "cell_type": "code",
   "execution_count": null,
   "id": "71fb1af0-8167-4f8a-bd73-9f148ffadadf",
   "metadata": {},
   "outputs": [],
   "source": [
    "net = pd.DataFrame({\"genesymbol\": B42_genes + B4_genes + B123_genes})\n",
    "net[\"collection\"] = \"custom\"\n",
    "net[\"geneset\"] = (\n",
    "    [\"B42\"] * len(B42_genes) + [\"B4\"] * len(B4_genes) + [\"B123\"] * len(B123_genes)\n",
    ")\n",
    "net"
   ]
  },
  {
   "cell_type": "code",
   "execution_count": null,
   "id": "60ecc5cc-133c-442f-beaf-426f915ed2c3",
   "metadata": {},
   "outputs": [],
   "source": [
    "dc.run_aucell(adata, net=net, source=\"geneset\", target=\"genesymbol\")"
   ]
  },
  {
   "cell_type": "code",
   "execution_count": null,
   "id": "e67e1c15-50d4-421c-a0e9-87d65140b0bd",
   "metadata": {},
   "outputs": [],
   "source": [
    "adata.obs = adata.obs.join(adata.obsm[\"aucell_estimate\"])"
   ]
  },
  {
   "cell_type": "code",
   "execution_count": null,
   "id": "aeb5a6a7-f32a-485d-9fd9-fb02e3f94ca2",
   "metadata": {},
   "outputs": [],
   "source": [
    "adata.write_h5ad(\"../../aucell_adata.h5ad\", compression=\"gzip\", compression_opts=9)"
   ]
  },
  {
   "cell_type": "markdown",
   "id": "143726f3-5cf6-40a3-b81c-7f92f0db8786",
   "metadata": {},
   "source": [
    "## Sample B4"
   ]
  },
  {
   "cell_type": "code",
   "execution_count": null,
   "id": "8026fe67-d42e-4a60-99a8-8ce79d114771",
   "metadata": {},
   "outputs": [],
   "source": [
    "adata = sc.read_h5ad(\"../../aucell_adata.h5ad\")\n",
    "adata.obs[\"sample\"] = pd.Categorical(\n",
    "    adata.obs[\"sample\"],\n",
    "    categories=[\n",
    "        \"B22\",\n",
    "        \"B24\",\n",
    "        \"B60\",\n",
    "        \"B154\",\n",
    "        \"B156\",\n",
    "        \"B175\",\n",
    "        \"B178\",\n",
    "        \"B4\",\n",
    "        \"B42\",\n",
    "        \"B123\",\n",
    "    ],\n",
    "    ordered=True,\n",
    ")\n",
    "b4 = select_slide(adata, \"B4\")\n",
    "\n",
    "spatial = sc.read_h5ad(\"../../../spatial_transcriptomics/SpatialDE/h5ad/B4.h5ad\")\n",
    "b4.obs = b4.obs.join(spatial.obs[[\"segmentation_labels\"]])\n",
    "\n",
    "cnv_scores = pd.read_csv(\n",
    "    \"../../../spatial_transcriptomics/CNVs/copykat/CNV_scores.csv\", index_col=0\n",
    ")\n",
    "b4.obs = b4.obs.join(cnv_scores)"
   ]
  },
  {
   "cell_type": "code",
   "execution_count": null,
   "id": "2f4bc900-cfc1-4a8b-807d-2ce663621a58",
   "metadata": {},
   "outputs": [],
   "source": [
    "data = [\n",
    "    adata.obs.loc[ids, \"B4\"].values\n",
    "    for ids in adata.obs.groupby(\"sample\").groups.values()\n",
    "]"
   ]
  },
  {
   "cell_type": "code",
   "execution_count": null,
   "id": "edb958e0-7e7e-4449-97ce-99ccdb91ddf0",
   "metadata": {},
   "outputs": [],
   "source": [
    "H, p = kruskal(*data)\n",
    "p"
   ]
  },
  {
   "cell_type": "code",
   "execution_count": null,
   "id": "8afec19e-7a66-42b3-b950-ada6dee0b6d5",
   "metadata": {},
   "outputs": [],
   "source": [
    "sp.posthoc_dunn(adata.obs, val_col=\"B4\", group_col=\"sample\", p_adjust=\"fdr_bh\")"
   ]
  },
  {
   "cell_type": "code",
   "execution_count": null,
   "id": "f3cbc366-1982-4d01-a221-d91841cbedf1",
   "metadata": {},
   "outputs": [],
   "source": [
    "sns.set_theme(style=\"white\", rc=PLOTTING_PARAMS)\n",
    "\n",
    "x = \"sample\"\n",
    "y = \"B4\"\n",
    "order = adata.obs[\"sample\"].unique().categories\n",
    "pairs = [(\"B4\", s) for s in adata.obs[\"sample\"].unique() if s != \"B4\"]\n",
    "\n",
    "ax = sns.boxplot(adata.obs, x=\"sample\", y=\"B4\")\n",
    "sns.despine(top=True, right=True, left=False, bottom=False)\n",
    "plt.xlabel(\"Sample\")\n",
    "plt.ylabel(\"Enrichment of B4-specific\\nsignature (AUC)\")\n",
    "\n",
    "annotator = Annotator(ax, pairs, data=adata.obs, x=x, y=y, order=order)\n",
    "# only used to plot significance\n",
    "annotator.configure(\n",
    "    test=\"Mann-Whitney\", text_format=\"star\", loc=\"inside\", comparisons_correction=\"BH\"\n",
    ")\n",
    "annotator.apply_and_annotate()\n",
    "\n",
    "\n",
    "plt.savefig(\"fig4A_boxplot_B4_signature_cohort.svg\", dpi=300, bbox_inches=\"tight\")\n",
    "plt.show()\n",
    "plt.close()"
   ]
  },
  {
   "cell_type": "code",
   "execution_count": null,
   "id": "7b0b8ca5-78fb-4696-af8a-86cdcc329c80",
   "metadata": {},
   "outputs": [],
   "source": [
    "df = pd.read_csv(\n",
    "    \"../../../spatial_transcriptomics/CNVs/copykat/B4_filtered/B4_copykat_bins.csv\",\n",
    "    index_col=0,\n",
    ")\n",
    "df"
   ]
  },
  {
   "cell_type": "code",
   "execution_count": null,
   "id": "7e9a1826-f19f-4df5-9c34-d1a69edb5e34",
   "metadata": {},
   "outputs": [],
   "source": [
    "gmm = GMM(n_components=3, max_iter=1000, random_state=10, covariance_type=\"full\")\n",
    "# fit GMM to the entire dataset of copykat smoothed expressions\n",
    "gmm.fit(df.to_numpy().flatten().reshape(-1, 1))"
   ]
  },
  {
   "cell_type": "code",
   "execution_count": null,
   "id": "eeedb3eb-0b1e-4c43-8576-72f032dc044d",
   "metadata": {},
   "outputs": [],
   "source": [
    "mean = gmm.means_\n",
    "covs = gmm.covariances_\n",
    "weights = gmm.weights_"
   ]
  },
  {
   "cell_type": "code",
   "execution_count": null,
   "id": "0e7a63cf-0785-4bdc-93d9-e2fa406aef19",
   "metadata": {},
   "outputs": [],
   "source": [
    "mean"
   ]
  },
  {
   "cell_type": "code",
   "execution_count": null,
   "id": "ddb92091-3f33-4a9b-93a8-ef09a39ef5b8",
   "metadata": {},
   "outputs": [],
   "source": [
    "# extract positions with ecDNA\n",
    "# chr12: 63920267-69690820\n",
    "# also part of the amplicon: chr19: 19412515-20369480, chr19: 20374358-22958358, chr19: 22959124-23734013\n",
    "# but driver genes are on chr12\n",
    "\n",
    "ecDNA = df.loc[:, df.columns.str.startswith(\"chr12:6\")]\n",
    "# capturing a bit less than entire chr12 amplicon, just to be sure\n",
    "sub = ecDNA.loc[:, ecDNA.columns[60:]]"
   ]
  },
  {
   "cell_type": "code",
   "execution_count": null,
   "id": "ea70a911-b734-4ba2-8f90-36790d9a8d26",
   "metadata": {},
   "outputs": [],
   "source": [
    "sub"
   ]
  },
  {
   "cell_type": "code",
   "execution_count": null,
   "id": "702b239b-f99b-48c8-98ce-d12c99eb00d8",
   "metadata": {},
   "outputs": [],
   "source": [
    "sub.columns"
   ]
  },
  {
   "cell_type": "code",
   "execution_count": null,
   "id": "fce758d7-e32f-4659-a7c3-bdd64742a57e",
   "metadata": {},
   "outputs": [],
   "source": [
    "# just to be careful, we define amplification if log ratio is over the mean of the highest component (the one for gain)\n",
    "amplifications = sub[sub.mean(axis=1) > mean[2][0]].index\n",
    "amplifications"
   ]
  },
  {
   "cell_type": "code",
   "execution_count": null,
   "id": "a31fcdbb-1cdf-4757-87d2-f7e354541ab8",
   "metadata": {},
   "outputs": [],
   "source": [
    "amplifications = [f\"{code}_B4\" for code in amplifications]\n",
    "b4.obs[\"amplification\"] = b4.obs.index.isin(amplifications)"
   ]
  },
  {
   "cell_type": "markdown",
   "id": "2433a18f-6222-4b98-8b04-6e6d1cf6fdf8",
   "metadata": {},
   "source": [
    "#### Run `../../scripts/spatial/plot_heatmap_chr12_B4.R` to plot the amplification from figure 4A"
   ]
  },
  {
   "cell_type": "code",
   "execution_count": null,
   "id": "39cadc3c-8c21-4e39-a48f-f360be1e49c8",
   "metadata": {},
   "outputs": [],
   "source": [
    "clones = pd.read_csv(\n",
    "    \"../../../spatial_transcriptomics/CNVs/copykat/B4_filtered/B4_leiden_subclones.csv\",\n",
    "    index_col=0,\n",
    ")\n",
    "clones.index = clones.index + \"_B4\"\n",
    "clones"
   ]
  },
  {
   "cell_type": "code",
   "execution_count": null,
   "id": "0eaa00de-3f7b-4279-8bdd-62c1b1319e67",
   "metadata": {},
   "outputs": [],
   "source": [
    "b4.obs = b4.obs.join(clones)\n",
    "# removing spots that were classified as diploid with copykat\n",
    "b4 = b4[b4.obs[\"subclones\"] != \"diploid\", :]"
   ]
  },
  {
   "cell_type": "code",
   "execution_count": null,
   "id": "6dcfdd80-a165-4ef2-85db-950bec601009",
   "metadata": {},
   "outputs": [],
   "source": [
    "sc.pl.spatial(b4, color=[\"amplification\", \"subclones\", \"segmentation_labels\"], size=1.5)"
   ]
  },
  {
   "cell_type": "code",
   "execution_count": null,
   "id": "0f5c2399-58db-438b-89a6-16311bf36142",
   "metadata": {},
   "outputs": [],
   "source": [
    "# Regressing out CNV score, which is inversely correlated to ESTIMATE score\n",
    "X = sm.add_constant(b4.obs[\"cnv_score\"])\n",
    "model = sm.OLS(b4.obs[\"B4\"], X).fit()\n",
    "\n",
    "residuals = model.resid\n",
    "\n",
    "b4.obs[\"B4_regressed\"] = residuals"
   ]
  },
  {
   "cell_type": "code",
   "execution_count": null,
   "id": "7eda73f4-2581-4148-9485-2eca63e2b066",
   "metadata": {
    "scrolled": true
   },
   "outputs": [],
   "source": [
    "sns.set_style(style=\"white\", rc=PLOTTING_PARAMS)\n",
    "fig, axes = plt.subplots(2, 1, figsize=(6, 8), sharex=True)\n",
    "sns.scatterplot(b4.obs, x=\"cnv_score\", y=\"B4\", ax=axes[0])\n",
    "sns.despine(top=True, right=True, left=False, bottom=False)\n",
    "sns.scatterplot(b4.obs, x=\"cnv_score\", y=\"B4_regressed\", ax=axes[1])\n",
    "sns.despine(top=True, right=True, left=False, bottom=False)\n",
    "axes[0].set_xlabel(\"CNV score\")\n",
    "axes[1].set_xlabel(\"CNV score\")\n",
    "axes[0].set_ylabel(\"Enrichment of B4\\necDNA signature\")\n",
    "axes[1].set_ylabel(\"Regressed enrichment of\\nB4 ecDNA signature\")\n",
    "\n",
    "plt.tight_layout()\n",
    "plt.savefig(\"suppfigure_11A_B4_ecDNA_signature.svg\", dpi=300)\n",
    "plt.show()\n",
    "plt.close()"
   ]
  },
  {
   "cell_type": "code",
   "execution_count": null,
   "id": "12d51e19-e4ab-434a-8886-ebe953560a8c",
   "metadata": {},
   "outputs": [],
   "source": [
    "print(pearsonr(b4.obs[\"cnv_score\"], b4.obs[\"B4\"]))\n",
    "print(pearsonr(b4.obs[\"cnv_score\"], b4.obs[\"B4_regressed\"]))"
   ]
  },
  {
   "cell_type": "code",
   "execution_count": null,
   "id": "af450bdc-ef76-46aa-9c64-3ba6ace73b10",
   "metadata": {},
   "outputs": [],
   "source": [
    "fig, axes = plt.subplots(2, 1, figsize=(6, 8), sharex=True)\n",
    "sns.boxplot(\n",
    "    b4.obs,\n",
    "    x=\"amplification\",\n",
    "    y=\"B4\",\n",
    "    ax=axes[0],\n",
    "    hue=\"amplification\",\n",
    "    palette=[\"#949494\", \"#78D3D3\"],\n",
    "    legend=False,\n",
    ")\n",
    "sns.despine(top=True, right=True, left=False, bottom=False)\n",
    "sns.boxplot(\n",
    "    b4.obs,\n",
    "    x=\"amplification\",\n",
    "    y=\"B4_regressed\",\n",
    "    ax=axes[1],\n",
    "    hue=\"amplification\",\n",
    "    palette=[\"#949494\", \"#78D3D3\"],\n",
    "    legend=False,\n",
    ")\n",
    "sns.despine(top=True, right=True, left=False, bottom=False)\n",
    "axes[0].set_xlabel(\"Amplification\")\n",
    "axes[1].set_xlabel(\"Amplification\")\n",
    "axes[0].set_ylabel(\"Enrichment of B4\\necDNA signature\")\n",
    "axes[1].set_ylabel(\"Regressed enrichment of\\nB4 ecDNA signature\")\n",
    "\n",
    "plt.tight_layout()\n",
    "# plt.savefig(\"suppfigure_11B_B4_ecDNA_signature_amplification.svg\", dpi=300)\n",
    "plt.show()\n",
    "plt.close()"
   ]
  },
  {
   "cell_type": "code",
   "execution_count": null,
   "id": "c6d3b7dd-b5f7-4665-9492-209ff012bdcc",
   "metadata": {},
   "outputs": [],
   "source": [
    "print(\n",
    "    mannwhitneyu(\n",
    "        b4.obs[b4.obs[\"amplification\"] == True][\"B4\"],\n",
    "        b4.obs[b4.obs[\"amplification\"] == False][\"B4\"],\n",
    "        alternative=\"greater\",\n",
    "    )\n",
    ")\n",
    "print(\n",
    "    mannwhitneyu(\n",
    "        b4.obs[b4.obs[\"amplification\"] == True][\"B4_regressed\"],\n",
    "        b4.obs[b4.obs[\"amplification\"] == False][\"B4_regressed\"],\n",
    "        alternative=\"greater\",\n",
    "    )\n",
    ")"
   ]
  },
  {
   "cell_type": "code",
   "execution_count": null,
   "id": "9084f8f3-c8d0-4fad-ab2d-af8f5af457ef",
   "metadata": {},
   "outputs": [],
   "source": [
    "# let's split regressed B4 signature into high and low\n",
    "b4.obs[\"B4_bin\"] = pd.qcut(\n",
    "    b4.obs[\"B4_regressed\"], [0, 0.5, 1.0], labels=[\"low\", \"high\"]\n",
    ")\n",
    "# annotate ecDNA status only if regressed B4 signature is high and amplification was detected for the genomic bins used above\n",
    "b4.obs[\"ecDNA_status\"] = (b4.obs[\"B4_bin\"] == \"high\") & (\n",
    "    b4.obs[\"amplification\"] == True\n",
    ")\n",
    "b4.obs[\"ecDNA_status\"] = np.where(\n",
    "    b4.obs[\"ecDNA_status\"] == True, \"ecDNA-positive\", \"ecDNA-negative\"\n",
    ")"
   ]
  },
  {
   "cell_type": "code",
   "execution_count": null,
   "id": "d80bfbf7-eb01-42cb-ba70-7e730cd7020b",
   "metadata": {},
   "outputs": [],
   "source": [
    "# sns.reset_defaults()\n",
    "sc.pl.spatial(\n",
    "    b4,\n",
    "    color=[\"B4_regressed\", \"amplification\", \"B4_bin\", \"ecDNA_status\"],\n",
    "    title=[\n",
    "        \"B4 regressed\",\n",
    "        \"Amplification\",\n",
    "        \"Binarized B4 signature\",\n",
    "        \"Final ecDNA status\",\n",
    "    ],\n",
    "    palette=[\"#949494\", \"#78D3D3\"],\n",
    "    cmap=\"viridis\",\n",
    "    size=1.5,\n",
    "    ncols=2,\n",
    "    vmax=\"p99\",\n",
    "    show=False,\n",
    ")\n",
    "plt.savefig(\"suppfigure_11C_B4sig_amplification.svg\", dpi=300)\n",
    "plt.show()\n",
    "plt.close()"
   ]
  },
  {
   "cell_type": "markdown",
   "id": "cf0fb323-5187-4e18-ab7b-274883d91e6e",
   "metadata": {},
   "source": [
    "We see that two distinct regions are ecDNA positive. Because we cannot be sure if ecDNA positive and ecDNA negative regions have comparable tumor content, we will try to compare these two distinct regions."
   ]
  },
  {
   "cell_type": "code",
   "execution_count": null,
   "id": "eda2013b-9f1f-4748-8d87-ca80ec65e990",
   "metadata": {},
   "outputs": [],
   "source": [
    "# Segmentation labels from SpatialDE2\n",
    "b4.obs[\"segmentation_labels\"].value_counts()"
   ]
  },
  {
   "cell_type": "markdown",
   "id": "dfab2ba9-15e9-4c6e-8314-f6fb307d24db",
   "metadata": {},
   "source": [
    "### Fisher's exact test to find spatialDE clusters enriched with ecDNA"
   ]
  },
  {
   "cell_type": "code",
   "execution_count": null,
   "id": "3a155bdb-7e46-453d-a07a-9029684ac5f1",
   "metadata": {},
   "outputs": [],
   "source": [
    "# Removing clusters with less than 5 observations\n",
    "data = (\n",
    "    b4[~b4.obs[\"segmentation_labels\"].isin([8, 10, 11]), :]\n",
    "    .obs.groupby(\"ecDNA_status\")[\"segmentation_labels\"]\n",
    "    .value_counts()\n",
    "    .reset_index()\n",
    ")\n",
    "\n",
    "results = []\n",
    "all_true = (\n",
    "    data[data[\"ecDNA_status\"] == \"ecDNA-positive\"]\n",
    "    .groupby(\"segmentation_labels\")[\"count\"]\n",
    "    .sum()\n",
    ")\n",
    "all_false = (\n",
    "    data[data[\"ecDNA_status\"] == \"ecDNA-negative\"]\n",
    "    .groupby(\"segmentation_labels\")[\"count\"]\n",
    "    .sum()\n",
    ")\n",
    "total_true = data[data[\"ecDNA_status\"] == \"ecDNA-positive\"][\"count\"].sum()\n",
    "total_false = data[data[\"ecDNA_status\"] == \"ecDNA-negative\"][\"count\"].sum()\n",
    "\n",
    "for cl in data[\"segmentation_labels\"].unique():\n",
    "    a = all_true.get(cl, 0)\n",
    "    b = all_false.get(cl, 0)\n",
    "    c = total_true - a\n",
    "    d = total_false - b\n",
    "    table = [[a, b], [c, d]]\n",
    "    oddsratio, pvalue = fisher_exact(table, alternative=\"greater\")\n",
    "    results.append({\"segmentation_labels\": cl, \"pvalue\": pvalue, \"a\": a, \"b\": b})\n",
    "\n",
    "results_df = pd.DataFrame(results)\n",
    "results_df[\"padj\"] = multipletests(results_df[\"pvalue\"], method=\"fdr_bh\")[1]\n",
    "\n",
    "results_df.sort_values(\"padj\")"
   ]
  },
  {
   "cell_type": "code",
   "execution_count": null,
   "id": "c4db8edf-0154-4081-917a-81cac036c997",
   "metadata": {},
   "outputs": [],
   "source": [
    "sc.pl.spatial(\n",
    "    b4[~b4.obs[\"segmentation_labels\"].isin([8, 10, 11]), :],\n",
    "    color=[\"segmentation_labels\"],\n",
    "    title=[\"SpatialDE2 cluster\"],\n",
    "    size=1.5,\n",
    "    show=False,\n",
    "    palette=sns.color_palette(\"colorblind\"),\n",
    ")\n",
    "plt.savefig(\"fig4C_spatial_spatialde2.svg\", dpi=300, bbox_inches=\"tight\")\n",
    "plt.show()\n",
    "plt.close()"
   ]
  },
  {
   "cell_type": "code",
   "execution_count": null,
   "id": "6747569a-f55a-44be-a96f-fc2808dfd240",
   "metadata": {},
   "outputs": [],
   "source": [
    "sc.pl.spatial(\n",
    "    b4[~b4.obs[\"segmentation_labels\"].isin([8, 10, 11]), :],\n",
    "    color=[\"ecDNA_status\"],\n",
    "    title=[\"ecDNA\"],\n",
    "    size=1.5,\n",
    "    show=False,\n",
    "    palette=[\"#949494\", \"#78D3D3\"],\n",
    ")\n",
    "plt.savefig(\"fig4D_spatial_spatialde2_ecDNA.svg\", dpi=300, bbox_inches=\"tight\")\n",
    "plt.show()\n",
    "plt.close()"
   ]
  },
  {
   "cell_type": "code",
   "execution_count": null,
   "id": "d02f13c2-c8ea-4fcf-b3dc-2d6bdd04f9eb",
   "metadata": {
    "scrolled": true
   },
   "outputs": [],
   "source": [
    "pivoted_df = data.pivot(\n",
    "    columns=\"ecDNA_status\", index=\"segmentation_labels\", values=\"count\"\n",
    ")\n",
    "ax = pivoted_df.div(pivoted_df.sum(axis=1), axis=0).plot.bar(\n",
    "    stacked=True, width=0.9, figsize=(6, 4), color=[\"#949494\", \"#78D3D3\"]\n",
    ")\n",
    "ax.spines[\"top\"].set_visible(False)\n",
    "ax.spines[\"right\"].set_visible(False)\n",
    "plt.xticks(rotation=0)\n",
    "plt.xlabel(\"SpatialDE2 cluster\", size=12)\n",
    "plt.ylabel(\"Fraction of spots\\nper cluster\", size=12)\n",
    "plt.legend(title=\"ecDNA status\", bbox_to_anchor=(1.05, 1), loc=\"upper left\")\n",
    "plt.tight_layout()\n",
    "plt.savefig(f\"fig4E_barplot_ecdna_spatialde_v2.svg\", dpi=300)\n",
    "plt.show()\n",
    "plt.close()"
   ]
  },
  {
   "cell_type": "markdown",
   "id": "b8f8f69a-f64f-45da-a209-f230fbc05bcb",
   "metadata": {},
   "source": [
    "We see that clusters 0 and 1 are enriched for ecDNA."
   ]
  },
  {
   "cell_type": "markdown",
   "id": "1fc15ae8-0c37-4e32-a31d-5026aa58a2b6",
   "metadata": {},
   "source": [
    "### Fisher's exact test to find subclones enriched with ecDNA"
   ]
  },
  {
   "cell_type": "code",
   "execution_count": null,
   "id": "4269e89b-d876-4127-9527-a67456fe6114",
   "metadata": {},
   "outputs": [],
   "source": [
    "# let's try the same for subclones\n",
    "data = b4.obs.groupby(\"ecDNA_status\")[\"subclones\"].value_counts().reset_index()\n",
    "\n",
    "results = []\n",
    "all_true = (\n",
    "    data[data[\"ecDNA_status\"] == \"ecDNA-positive\"].groupby(\"subclones\")[\"count\"].sum()\n",
    ")\n",
    "all_false = (\n",
    "    data[data[\"ecDNA_status\"] == \"ecDNA-negative\"].groupby(\"subclones\")[\"count\"].sum()\n",
    ")\n",
    "total_true = data[data[\"ecDNA_status\"] == \"ecDNA-positive\"][\"count\"].sum()\n",
    "total_false = data[data[\"ecDNA_status\"] == \"ecDNA-negative\"][\"count\"].sum()\n",
    "\n",
    "for subclone in data[\"subclones\"].unique():\n",
    "    a = all_true.get(subclone, 0)\n",
    "    b = all_false.get(subclone, 0)\n",
    "    c = total_true - a\n",
    "    d = total_false - b\n",
    "    table = [[a, b], [c, d]]\n",
    "    oddsratio, pvalue = fisher_exact(\n",
    "        table, alternative=\"greater\"\n",
    "    )  # Enrichment = greater\n",
    "    results.append({\"subclones\": subclone, \"pvalue\": pvalue, \"a\": a, \"b\": b})\n",
    "\n",
    "# Adjust p-values\n",
    "results_df = pd.DataFrame(results)\n",
    "results_df[\"padj\"] = multipletests(results_df[\"pvalue\"], method=\"fdr_bh\")[1]\n",
    "\n",
    "results_df.sort_values(\"padj\").reindex()"
   ]
  },
  {
   "cell_type": "code",
   "execution_count": null,
   "id": "294d2565-d39d-42f8-9ff2-be46e7657e62",
   "metadata": {},
   "outputs": [],
   "source": [
    "pivoted_df = data.pivot(columns=\"ecDNA_status\", index=\"subclones\", values=\"count\")\n",
    "ax = pivoted_df.div(pivoted_df.sum(axis=1), axis=0).plot.bar(\n",
    "    stacked=True, width=0.9, figsize=(6, 4), color=[\"#949494\", \"#78D3D3\"]\n",
    ")\n",
    "ax.spines[\"top\"].set_visible(False)\n",
    "ax.spines[\"right\"].set_visible(False)\n",
    "plt.xticks(rotation=0)\n",
    "plt.xlabel(\"Subclones\")\n",
    "plt.ylabel(\"Fraction of spots\\nper cluster\")\n",
    "plt.legend(title=\"ecDNA status\", bbox_to_anchor=(1.05, 1), loc=\"upper left\")\n",
    "plt.tight_layout()\n",
    "plt.savefig(f\"B4_filtered/figures/barplot_ecdna_subclones.svg\", dpi=300)\n",
    "plt.show()\n",
    "plt.close()"
   ]
  },
  {
   "cell_type": "code",
   "execution_count": null,
   "id": "e11ccb96-bafb-4fb3-8eb3-877508da25eb",
   "metadata": {},
   "outputs": [],
   "source": [
    "sc.pl.spatial(\n",
    "    b4,\n",
    "    color=[\"subclones\"],\n",
    "    title=[\"Subclones\"],\n",
    "    size=1.5,\n",
    "    show=False,\n",
    "    palette=sns.color_palette(\"colorblind\"),\n",
    ")\n",
    "plt.savefig(\"suppfig_11D_spatial_subclones.svg\", dpi=300)\n",
    "plt.show()\n",
    "plt.close()"
   ]
  },
  {
   "cell_type": "markdown",
   "id": "7e410a0c-63ff-4cf9-9d3d-b7b8d4332e39",
   "metadata": {},
   "source": [
    "Although we still see enrichment of two subclones with ecDNA, ecDNA status just visually doesn't correspond as good to subclones as to spatialDE segments. So we will focus on comparison of the segments."
   ]
  },
  {
   "cell_type": "code",
   "execution_count": null,
   "id": "1976af9d-940f-4070-a4a6-452d96f8d5c5",
   "metadata": {},
   "outputs": [],
   "source": [
    "# Assign spatial clusters 0 and 1 from spatialDE2 as ecDNA enriched\n",
    "b4.obs[\"ecDNA_enrichment\"] = b4.obs[\"segmentation_labels\"].isin([0, 1])"
   ]
  },
  {
   "cell_type": "markdown",
   "id": "847f2d72-2007-4885-99ac-e148500416d1",
   "metadata": {},
   "source": [
    "#### Compare cell type composition"
   ]
  },
  {
   "cell_type": "code",
   "execution_count": null,
   "id": "68fe01ed-2713-425f-ad2f-c06d6b501c34",
   "metadata": {},
   "outputs": [],
   "source": [
    "cellt = [\n",
    "    \"CDH12_Epithelial\",\n",
    "    \"Cycling_Epithelial\",\n",
    "    \"KRT6A_Epithelial\",\n",
    "    \"KRT13_Epithelial\",\n",
    "    \"UPK_Epithelial\",\n",
    "    \"ACTA2_Fibroblast\",\n",
    "    \"FAP_Fibroblast\",\n",
    "    \"PDGFRB_Fibroblast\",\n",
    "    \"PDPN_Fibroblast\",\n",
    "    \"Endothelial\",\n",
    "    \"Inflam_Macrophage\",\n",
    "    \"MHCII_Macrophage\",\n",
    "    \"Dendritic_cell\",\n",
    "    \"CD20_Bcell\",\n",
    "    \"Plasma_Bcell\",\n",
    "    \"CD8T\",\n",
    "    \"Naive_Tcell\",\n",
    "    \"Treg\",\n",
    "    \"Normal_Smooth_muscle\",\n",
    "]"
   ]
  },
  {
   "cell_type": "code",
   "execution_count": null,
   "id": "777246f4-4b34-41f6-bb57-ffae0bd22505",
   "metadata": {},
   "outputs": [],
   "source": [
    "cellt_newnames = {\n",
    "    \"CDH12_Epithelial\": \"Immune-inflitrated epithelial\",\n",
    "    \"Cycling_Epithelial\": \"Cycling epithelial\",\n",
    "    \"KRT6A_Epithelial\": \"Basal epithelial\",\n",
    "    \"KRT13_Epithelial\": \"Luminal epithelial (KRT13+)\",\n",
    "    \"UPK_Epithelial\": \"Luminal epithelial (UPK)\",\n",
    "    \"ACTA2_Fibroblast\": \"mCAF\",\n",
    "    \"FAP_Fibroblast\": \"iCAF (FAP+)\",\n",
    "    \"PDGFRB_Fibroblast\": \"General CAF\",\n",
    "    \"PDPN_Fibroblast\": \"iCAF (PDPN+)\",\n",
    "    \"Endothelial\": \"Endothelial\",\n",
    "    \"Inflam_Macrophage\": \"Inflammatory macrophage\",\n",
    "    \"MHCII_Macrophage\": \"Antigen-presenting macrophage\",\n",
    "    \"Dendritic_cell\": \"Dendritic cell\",\n",
    "    \"CD20_Bcell\": \"B cell\",\n",
    "    \"Plasma_Bcell\": \"Plasma cell\",\n",
    "    \"CD8T\": \"CD8+ T cell\",\n",
    "    \"Naive_Tcell\": \"Naive T cell\",\n",
    "    \"Treg\": \"Regulatory T cell\",\n",
    "    \"Normal_Smooth_muscle\": \"Normal smooth muscle\",\n",
    "}"
   ]
  },
  {
   "cell_type": "code",
   "execution_count": null,
   "id": "048158ca-9f03-4f76-abcf-915bf38c040e",
   "metadata": {},
   "outputs": [],
   "source": [
    "# add celltype abundance\n",
    "celltypes = sc.read_h5ad(\n",
    "    \"../../../spatial_transcriptomics/cell2location/visium_model_alpha20_N20_Gouin_muscle_merged/posteriors_adata.h5ad\"\n",
    ")\n",
    "s = select_slide(celltypes, \"B4\")\n",
    "b4.obs = b4.obs.join(s.obs[cellt])\n",
    "\n",
    "\n",
    "del celltypes"
   ]
  },
  {
   "cell_type": "code",
   "execution_count": null,
   "id": "e5aa9a59-532a-4812-a9b3-7facd67f1589",
   "metadata": {},
   "outputs": [],
   "source": [
    "df = b4.obs[cellt]\n",
    "df = df.div(df.sum(axis=1), axis=0)"
   ]
  },
  {
   "cell_type": "code",
   "execution_count": null,
   "id": "a6ec09c1-172d-47a0-8ec5-7f68f11e4e38",
   "metadata": {},
   "outputs": [],
   "source": [
    "df.rename(columns=cellt_newnames, inplace=True)"
   ]
  },
  {
   "cell_type": "code",
   "execution_count": null,
   "id": "598e886f-b909-4fd5-b7b8-9f69939291aa",
   "metadata": {},
   "outputs": [],
   "source": [
    "df = df.join(b4.obs[[\"ecDNA_enrichment\", \"segmentation_labels\"]]).melt(\n",
    "    id_vars=[\"ecDNA_enrichment\", \"segmentation_labels\"]\n",
    ")\n",
    "df"
   ]
  },
  {
   "cell_type": "code",
   "execution_count": null,
   "id": "da5ef3a2-40d3-4d83-991d-7f3723c39f92",
   "metadata": {},
   "outputs": [],
   "source": [
    "# let's only compare clusters 0 and 1\n",
    "df_sub = df[df[\"segmentation_labels\"].isin([0, 1])]\n",
    "df_sub[\"segmentation_labels\"] = pd.Categorical(\n",
    "    df_sub[\"segmentation_labels\"], categories=[0, 1]\n",
    ")\n",
    "df_sub[\"variable\"] = df_sub[\"variable\"].str.replace(\"_\", \" \")\n",
    "df_sub"
   ]
  },
  {
   "cell_type": "code",
   "execution_count": null,
   "id": "95fceec0-d562-44d8-8be7-18c985094686",
   "metadata": {},
   "outputs": [],
   "source": [
    "sns.boxplot(\n",
    "    df_sub,\n",
    "    x=\"variable\",\n",
    "    y=\"value\",\n",
    "    hue=\"segmentation_labels\",\n",
    "    palette=sns.color_palette(\"colorblind\"),\n",
    ")\n",
    "sns.despine(top=True, right=True, left=False, bottom=False)\n",
    "plt.xticks(rotation=90)\n",
    "plt.xlabel(\"Cell type\")\n",
    "plt.ylabel(\"Fraction of cell type\")\n",
    "plt.legend(title=\"SpatialDE cluster\")\n",
    "plt.savefig(\n",
    "    \"suppfig_12B_celltypes_spatialde_segments.svg\", dpi=300, bbox_inches=\"tight\"\n",
    ")\n",
    "plt.show()\n",
    "plt.close()"
   ]
  },
  {
   "cell_type": "code",
   "execution_count": null,
   "id": "047a854e-93cd-4b73-8501-8c27e3490685",
   "metadata": {},
   "outputs": [],
   "source": [
    "df_sub.groupby(\"variable\").apply(\n",
    "    lambda x: mannwhitneyu(\n",
    "        x.value[x.segmentation_labels == 0],\n",
    "        x.value[x.segmentation_labels == 1],\n",
    "        alternative=\"two-sided\",\n",
    "    ).pvalue\n",
    ").rename(\"pval\").reset_index().assign(\n",
    "    padj=lambda x: multipletests(x.pval, method=\"fdr_bh\")[1]\n",
    ").sort_values(\n",
    "    by=\"padj\"\n",
    ")"
   ]
  },
  {
   "cell_type": "markdown",
   "id": "925b26f0-27cf-408a-992f-c9839ac960b7",
   "metadata": {},
   "source": [
    "Let's focus just on epithelial cells, since stromal and immune cells are present in a minor fraction."
   ]
  },
  {
   "cell_type": "code",
   "execution_count": null,
   "id": "ab935a4a-60ec-481c-bf8e-898c22caafed",
   "metadata": {},
   "outputs": [],
   "source": [
    "plt.figure(figsize=(6, 6))\n",
    "sns.boxplot(\n",
    "    df_sub[\n",
    "        (df_sub[\"variable\"].str.contains(\"epithelial\"))\n",
    "        & (df_sub[\"variable\"] != \"Immune-inflitrated epithelial\")\n",
    "    ],\n",
    "    x=\"variable\",\n",
    "    y=\"value\",\n",
    "    hue=\"segmentation_labels\",\n",
    "    palette=sns.color_palette(\"colorblind\"),\n",
    ")\n",
    "sns.despine(top=True, right=True, left=False, bottom=False)\n",
    "plt.xticks(rotation=90)\n",
    "plt.xlabel(\"Cell type\")\n",
    "plt.ylabel(\"Fraction of epithelial subtype\")\n",
    "plt.legend(title=\"SpatialDE cluster\")\n",
    "plt.savefig(\"fig4I_epithelial_spatialde_segments.svg\", dpi=300, bbox_inches=\"tight\")\n",
    "plt.show()\n",
    "plt.close()"
   ]
  },
  {
   "cell_type": "code",
   "execution_count": null,
   "id": "5033e88e-d19c-43d8-8306-0b50e2242b21",
   "metadata": {},
   "outputs": [],
   "source": [
    "df_sub[df_sub[\"variable\"].str.contains(\"epithelial\")].groupby(\"variable\").apply(\n",
    "    lambda x: mannwhitneyu(\n",
    "        x.value[x.segmentation_labels == 0],\n",
    "        x.value[x.segmentation_labels == 1],\n",
    "        alternative=\"two-sided\",\n",
    "    ).pvalue\n",
    ").rename(\"pval\").reset_index().assign(\n",
    "    padj=lambda x: multipletests(x.pval, method=\"fdr_bh\")[1]\n",
    ").sort_values(\n",
    "    by=\"padj\"\n",
    ")"
   ]
  },
  {
   "cell_type": "code",
   "execution_count": null,
   "id": "86685b59-228a-4f4a-b1cb-e729e05f35cd",
   "metadata": {},
   "outputs": [],
   "source": [
    "b4_sub = b4[b4.obs[\"segmentation_labels\"].isin([0, 1]), :]\n",
    "epi = b4_sub.obs[cellt]\n",
    "# get fractional abundance per spot\n",
    "epi = epi.div(epi.sum(axis=1), axis=0)\n",
    "epi.columns = [f\"{ct}_fraction\" for ct in epi.columns]"
   ]
  },
  {
   "cell_type": "code",
   "execution_count": null,
   "id": "32b3f8ef-f617-4140-b341-d6d03960dc02",
   "metadata": {},
   "outputs": [],
   "source": [
    "# Let's check abundances of these subtypes in space\n",
    "b4_sub = b4[b4.obs[\"segmentation_labels\"].isin([0, 1]), :]\n",
    "b4_sub.obs = b4_sub.obs.join(epi)\n",
    "sc.pl.spatial(\n",
    "    b4_sub,\n",
    "    color=[\n",
    "        \"Cycling_Epithelial_fraction\",\n",
    "        \"KRT6A_Epithelial_fraction\",\n",
    "        \"KRT13_Epithelial_fraction\",\n",
    "        \"UPK_Epithelial_fraction\",\n",
    "        \"segmentation_labels\",\n",
    "    ],\n",
    "    title=[\n",
    "        \"Cycling Epithelial\",\n",
    "        \"Basal epithelial\",\n",
    "        \"Luminal epithelial (KRT13+)\",\n",
    "        \"Luminal epithelial (UPK)\",\n",
    "        \"SpatialDE2 cluster\",\n",
    "    ],\n",
    "    size=1.5,\n",
    "    vmax=\"p99\",\n",
    "    ncols=2,\n",
    "    show=False,\n",
    "    cmap=\"viridis\",\n",
    "    palette=sns.color_palette(\"colorblind\"),\n",
    ")\n",
    "plt.savefig(\"suppfig_12C_epithelial_spatialde_segments.svg\", dpi=300)\n",
    "plt.show()\n",
    "plt.close()"
   ]
  },
  {
   "cell_type": "markdown",
   "id": "37e5a3ef-7132-4993-b862-38028adf4a14",
   "metadata": {},
   "source": [
    "Now let's check which genes are differentially expressed between these two regions."
   ]
  },
  {
   "cell_type": "code",
   "execution_count": null,
   "id": "69363cb9-0010-4ac7-9def-fc03b39f53b4",
   "metadata": {},
   "outputs": [],
   "source": [
    "b4_sub.obs[\"segmentation_labels\"] = b4_sub.obs[\"segmentation_labels\"].astype(str)\n",
    "sc.tl.rank_genes_groups(b4_sub, \"segmentation_labels\", method=\"wilcoxon\")"
   ]
  },
  {
   "cell_type": "code",
   "execution_count": null,
   "id": "a7792e50-393f-4163-9f46-225deb6e95b3",
   "metadata": {},
   "outputs": [],
   "source": [
    "df = pd.DataFrame(\n",
    "    b4_sub.uns[\"rank_genes_groups\"][\"logfoldchanges\"],\n",
    "    index=pd.DataFrame(b4_sub.uns[\"rank_genes_groups\"][\"names\"])[\"0\"],\n",
    ")[[\"0\"]]\n",
    "df.columns = [\"logFC\"]\n",
    "g = pd.DataFrame(\n",
    "    b4_sub.uns[\"rank_genes_groups\"][\"pvals_adj\"],\n",
    "    index=pd.DataFrame(b4_sub.uns[\"rank_genes_groups\"][\"names\"])[\"0\"],\n",
    ")[[\"0\"]]\n",
    "f = pd.DataFrame(\n",
    "    b4_sub.uns[\"rank_genes_groups\"][\"scores\"],\n",
    "    index=pd.DataFrame(b4_sub.uns[\"rank_genes_groups\"][\"names\"])[\"0\"],\n",
    ")[[\"0\"]]\n",
    "df = df.join(g)\n",
    "df.columns = [\"logFC\", \"padj\"]\n",
    "df = df.join(f)\n",
    "df.columns = [\"logFC\", \"padj\", \"scores\"]\n",
    "df"
   ]
  },
  {
   "cell_type": "code",
   "execution_count": null,
   "id": "aa1057e1-4f9f-47c2-879f-c9d75434cfe0",
   "metadata": {},
   "outputs": [],
   "source": [
    "df[(df[\"padj\"] < 0.05) & (abs(df[\"logFC\"]) >= 1.5)]"
   ]
  },
  {
   "cell_type": "code",
   "execution_count": null,
   "id": "540ded36-3961-423b-8ac6-122bd95cece0",
   "metadata": {},
   "outputs": [],
   "source": [
    "df[df[\"logFC\"] > 6] = 6\n",
    "df[df[\"logFC\"] < -6] = -6\n",
    "plt.figure(figsize=(10, 8))\n",
    "plt.scatter(x=df[\"logFC\"], y=df[\"padj\"].apply(lambda x: -np.log10(x)), s=1)\n",
    "\n",
    "# highlight down- or up- regulated genes\n",
    "down = df[(df[\"logFC\"] <= -1.5) & (df[\"padj\"] <= 0.001)]\n",
    "up = df[(df[\"logFC\"] >= 1.5) & (df[\"padj\"] <= 0.001)]\n",
    "\n",
    "plt.scatter(\n",
    "    x=down[\"logFC\"],\n",
    "    y=down[\"padj\"].apply(lambda x: -np.log10(x)),\n",
    "    s=3,\n",
    "    label=\"Down-regulated\",\n",
    "    color=\"blue\",\n",
    ")\n",
    "plt.scatter(\n",
    "    x=up[\"logFC\"],\n",
    "    y=up[\"padj\"].apply(lambda x: -np.log10(x)),\n",
    "    s=3,\n",
    "    label=\"Up-regulated\",\n",
    "    color=\"red\",\n",
    ")\n",
    "texts = []\n",
    "for i, r in df[:10].iterrows():\n",
    "    if r[\"logFC\"] >= 1.5:\n",
    "        texts.append(plt.text(x=r[\"logFC\"], y=-np.log10(r[\"padj\"]), s=i, fontsize=16))\n",
    "for i, r in df[-10:].iterrows():\n",
    "    if r[\"logFC\"] <= -1.5:\n",
    "        texts.append(plt.text(x=r[\"logFC\"], y=-np.log10(r[\"padj\"]), s=i, fontsize=16))\n",
    "\n",
    "adjust_text(\n",
    "    texts,\n",
    "    arrowprops=dict(arrowstyle=\"-\", color=\"black\", lw=0.5),\n",
    "    expand_points=(1.4, 1.8),\n",
    "    expand_text=(1.3, 1.6),\n",
    "    force_points=0.2,\n",
    "    force_text=0.3,\n",
    "    lim=300,\n",
    "    only_move={\"points\": \"y\", \"texts\": \"y\"},\n",
    ")\n",
    "plt.xlabel(\"logFC\")\n",
    "plt.ylabel(\"-log10(FDR)\")\n",
    "plt.xlim(-5, 5)\n",
    "plt.axvline(-1.5, color=\"grey\", linestyle=\"--\")\n",
    "plt.axvline(1.5, color=\"grey\", linestyle=\"--\")\n",
    "plt.axhline(3, color=\"grey\", linestyle=\"--\")\n",
    "plt.savefig(\"fig4F_volcano_cl0_vs_cl1.svg\", dpi=300, bbox_inches=\"tight\")\n",
    "plt.show()\n",
    "plt.close()"
   ]
  },
  {
   "cell_type": "code",
   "execution_count": null,
   "id": "c3fc3a77-f610-4003-a396-9402998e52cd",
   "metadata": {},
   "outputs": [],
   "source": [
    "rnk = pd.DataFrame(\n",
    "    b4_sub.uns[\"rank_genes_groups\"][\"scores\"],\n",
    "    index=pd.DataFrame(b4_sub.uns[\"rank_genes_groups\"][\"names\"])[\"0\"],\n",
    ")[[\"0\"]]\n",
    "rnk.columns = [1]"
   ]
  },
  {
   "cell_type": "code",
   "execution_count": null,
   "id": "4d16b000-6e00-4cc3-8d67-33be80009f4d",
   "metadata": {
    "scrolled": true
   },
   "outputs": [],
   "source": [
    "msig = Msigdb()\n",
    "pre_res = gp.prerank(\n",
    "    rnk=rnk,  # or rnk = rnk,\n",
    "    gene_sets=msig.get_gmt(),\n",
    "    threads=4,\n",
    "    min_size=5,\n",
    "    max_size=1000,\n",
    "    permutation_num=1000,  # reduce number to speed up testing\n",
    "    outdir=None,  # don't write to disk\n",
    "    seed=6,\n",
    "    verbose=True,  # see what's going on behind the scenes\n",
    ")"
   ]
  },
  {
   "cell_type": "code",
   "execution_count": null,
   "id": "024b47bf-87d7-4307-ae1c-847863126ae1",
   "metadata": {},
   "outputs": [],
   "source": [
    "pre_res.res2d.to_csv(\"../../data/GSEA_GO_cl0_cl1.csv\")"
   ]
  },
  {
   "cell_type": "code",
   "execution_count": null,
   "id": "914fc9f1-569f-40c0-b3ef-c2c629355d24",
   "metadata": {},
   "outputs": [],
   "source": [
    "pre_res.res2d = pre_res.res2d[pre_res.res2d[\"FDR q-val\"] < 0.05]"
   ]
  },
  {
   "cell_type": "code",
   "execution_count": null,
   "id": "71813db6-cfe1-4b85-9683-053a45f48d85",
   "metadata": {},
   "outputs": [],
   "source": [
    "pre_res.res2d[\"Term\"] = (\n",
    "    pre_res.res2d[\"Term\"].str.replace(\"HALLMARK_\", \"\").str.replace(\"_\", \" \")\n",
    ")"
   ]
  },
  {
   "cell_type": "code",
   "execution_count": null,
   "id": "b2d36301-768f-4d1e-9f3f-96cd8984deb9",
   "metadata": {},
   "outputs": [],
   "source": [
    "color = \"#336E23\""
   ]
  },
  {
   "cell_type": "code",
   "execution_count": null,
   "id": "c83a828b-2aab-4658-9629-11f12715d665",
   "metadata": {},
   "outputs": [],
   "source": [
    "sns.reset_defaults()\n",
    "ax = dotplot(\n",
    "    pre_res.res2d,\n",
    "    column=\"FDR q-val\",\n",
    "    cmap=plt.cm.viridis,\n",
    "    size=6,\n",
    "    figsize=(6, 6),\n",
    "    cutoff=0.25,\n",
    "    show_ring=False,\n",
    ")\n",
    "plt.savefig(\"fig4H_volcano_cl0_vs_cl1.svg\", dpi=300, bbox_inches=\"tight\")\n",
    "plt.show()\n",
    "plt.close()"
   ]
  },
  {
   "cell_type": "code",
   "execution_count": null,
   "id": "35aac254-9534-4484-b4be-57a882026021",
   "metadata": {},
   "outputs": [],
   "source": [
    "toplot = pre_res.res2d[:10].sort_values(\"NES\").reset_index()"
   ]
  },
  {
   "cell_type": "code",
   "execution_count": null,
   "id": "f6ec8c43-8455-48a5-b87a-d4a44895601a",
   "metadata": {},
   "outputs": [],
   "source": [
    "toplot[\"significant\"] = toplot[\"FDR q-val\"] < 0.05\n",
    "colors = toplot[\"significant\"].map({True: \"#336E23\", False: \"#D59F3F\"})"
   ]
  },
  {
   "cell_type": "code",
   "execution_count": null,
   "id": "96ff672a-8a46-48e2-af80-69b20895fe86",
   "metadata": {},
   "outputs": [],
   "source": [
    "sns.reset_defaults()\n",
    "plt.figure(figsize=(6, 6))\n",
    "plt.barh(toplot[\"Term\"], toplot[\"NES\"], color=colors)\n",
    "plt.axvline(0, color=\"black\", linewidth=0.8, linestyle=\"dashed\")\n",
    "plt.xlabel(\n",
    "    \"Cluster 1 <-- NES --> Cluster 0\",\n",
    "    size=16,\n",
    ")\n",
    "plt.yticks(size=16)\n",
    "plt.xticks(size=16)\n",
    "plt.title(\"GSEA: Cluster 0 versus cluster 1\", size=16)\n",
    "\n",
    "legend_elements = [\n",
    "    Patch(facecolor=\"#D59F3F\", label=\"False\"),\n",
    "    Patch(facecolor=\"#336E23\", label=\"True\"),\n",
    "]\n",
    "plt.legend(\n",
    "    handles=legend_elements,\n",
    "    title=\"FDR q-value\\n< 0.05\",\n",
    "    loc=\"best\",\n",
    "    fontsize=12,\n",
    "    title_fontsize=14,\n",
    ")\n",
    "\n",
    "# plt.tight_layout()\n",
    "plt.savefig(\"fig4H_barplot_cl0_vs_cl1.svg\", dpi=300, bbox_inches=\"tight\")\n",
    "plt.savefig(\"fig4H_barplot_cl0_vs_cl1.png\", dpi=300, bbox_inches=\"tight\")\n",
    "plt.show()\n",
    "plt.close()"
   ]
  },
  {
   "cell_type": "code",
   "execution_count": null,
   "id": "3bd784dd-9262-4b0b-ac2e-66a1fdac496b",
   "metadata": {},
   "outputs": [],
   "source": [
    "expr = sc.get.obs_df(b4_sub, keys=[\"segmentation_labels\", \"APOBEC3B\", \"MDM2\", \"RAP1B\"])"
   ]
  },
  {
   "cell_type": "code",
   "execution_count": null,
   "id": "55bfd014-f8b6-4343-8b5e-93ca58e3e465",
   "metadata": {
    "scrolled": true
   },
   "outputs": [],
   "source": [
    "sns.set_theme(style=\"white\", rc=PLOTTING_PARAMS)\n",
    "sns.boxplot(\n",
    "    expr,\n",
    "    x=\"segmentation_labels\",\n",
    "    y=\"APOBEC3B\",\n",
    "    hue=\"segmentation_labels\",\n",
    "    palette=sns.color_palette(\"colorblind\"),\n",
    ")\n",
    "sns.despine(top=True, right=True, left=False, bottom=False)\n",
    "plt.xlabel(\"SpatialDE2 cluster\")\n",
    "plt.ylabel(\"Normalized APOBEC3B\\nexpression\")\n",
    "plt.ylim(0, 3.5)\n",
    "\n",
    "plt.savefig(\n",
    "    \"fig4G_boxplot_apobec3b_spatialde_clusters.svg\", dpi=300, bbox_inches=\"tight\"\n",
    ")\n",
    "plt.show()\n",
    "plt.close()"
   ]
  },
  {
   "cell_type": "code",
   "execution_count": null,
   "id": "230cd74f-581c-4c2f-8c38-75e235902a78",
   "metadata": {},
   "outputs": [],
   "source": [
    "mannwhitneyu(\n",
    "    expr[expr[\"segmentation_labels\"] == \"0\"][\"APOBEC3B\"],\n",
    "    expr[expr[\"segmentation_labels\"] == \"1\"][\"APOBEC3B\"],\n",
    ")"
   ]
  },
  {
   "cell_type": "markdown",
   "id": "8e988378-d8c9-46c7-8de8-fd0a871ae5b1",
   "metadata": {},
   "source": [
    "### General overview of expression"
   ]
  },
  {
   "cell_type": "code",
   "execution_count": null,
   "id": "f6110a57-c56f-4a05-83bf-dd34984b4ab8",
   "metadata": {},
   "outputs": [],
   "source": [
    "adata = sc.read_h5ad(\"../../data/merged_samples.h5ad\")\n",
    "adata.obs[\"sample\"] = pd.Categorical(\n",
    "    adata.obs[\"sample\"],\n",
    "    categories=[\n",
    "        \"B22\",\n",
    "        \"B24\",\n",
    "        \"B60\",\n",
    "        \"B154\",\n",
    "        \"B156\",\n",
    "        \"B175\",\n",
    "        \"B178\",\n",
    "        \"B4\",\n",
    "        \"B42\",\n",
    "        \"B123\",\n",
    "    ],\n",
    "    ordered=True,\n",
    ")\n",
    "expressions = sc.get.obs_df(adata, keys=[\"sample\", \"APOBEC3B\", \"MDM2\", \"RAP1B\"])"
   ]
  },
  {
   "cell_type": "code",
   "execution_count": null,
   "id": "148e18d7-44b1-47f7-944e-e38bfb988fbd",
   "metadata": {},
   "outputs": [],
   "source": [
    "for gene in [\"APOBEC3B\"]:\n",
    "    plt.figure(figsize=(6, 4))\n",
    "    sns.boxplot(expressions, x=\"sample\", y=gene)\n",
    "    sns.despine(top=True, right=True, left=False, bottom=False)\n",
    "    plt.xlabel(\"Sample\")\n",
    "    plt.ylabel(f\"Normalized {gene}\\nexpression\")\n",
    "    plt.xticks(rotation=45)\n",
    "    plt.savefig(\n",
    "        f\"suppfig_12E_boxplot_{gene}_expression_cohort.svg\",\n",
    "        dpi=300,\n",
    "        bbox_inches=\"tight\",\n",
    "    )\n",
    "    plt.close()"
   ]
  },
  {
   "cell_type": "markdown",
   "id": "09a2ae86-8937-41e7-b0e6-78679295f130",
   "metadata": {},
   "source": [
    "## ecDNA vs non-ecDNA"
   ]
  },
  {
   "cell_type": "code",
   "execution_count": null,
   "id": "cd1f66e4-c9ce-4730-81f3-fdb3bf88df35",
   "metadata": {},
   "outputs": [],
   "source": [
    "# quick check to see which clusters have the highest CNV score\n",
    "sns.boxplot(\n",
    "    b4[~b4.obs[\"segmentation_labels\"].isin([8, 10, 11]), :].obs,\n",
    "    x=\"segmentation_labels\",\n",
    "    y=\"cnv_score\",\n",
    ")\n",
    "sns.despine(top=True, right=True, left=False, bottom=False)\n",
    "plt.xlabel(\"SpatialDE2 cluster\")\n",
    "plt.ylabel(\"CNV score\")\n",
    "\n",
    "plt.tight_layout()\n",
    "\n",
    "plt.savefig(\n",
    "    \"suppfig_12A_boxplot_B4_cnv_score_spatialDE.svg\", dpi=300, bbox_inches=\"tight\"\n",
    ")\n",
    "plt.show()\n",
    "plt.close()"
   ]
  },
  {
   "cell_type": "code",
   "execution_count": null,
   "id": "c6fa12f1-ebf1-496d-b858-b5d77ccb15a8",
   "metadata": {},
   "outputs": [],
   "source": [
    "# Assign spatial clusters 0 and 1 from spatialDE2 as ecDNA enriched\n",
    "b4.obs[\"ecDNA_enrichment\"] = b4.obs[\"segmentation_labels\"].isin([0, 2])"
   ]
  },
  {
   "cell_type": "code",
   "execution_count": null,
   "id": "713e7c41-40d3-4ed9-9b44-43d939abc88f",
   "metadata": {},
   "outputs": [],
   "source": [
    "cellt = [\n",
    "    \"CDH12_Epithelial\",\n",
    "    \"Cycling_Epithelial\",\n",
    "    \"KRT6A_Epithelial\",\n",
    "    \"KRT13_Epithelial\",\n",
    "    \"UPK_Epithelial\",\n",
    "    \"ACTA2_Fibroblast\",\n",
    "    \"FAP_Fibroblast\",\n",
    "    \"PDGFRB_Fibroblast\",\n",
    "    \"PDPN_Fibroblast\",\n",
    "    \"Endothelial\",\n",
    "    \"Inflam_Macrophage\",\n",
    "    \"MHCII_Macrophage\",\n",
    "    \"Dendritic_cell\",\n",
    "    \"CD20_Bcell\",\n",
    "    \"Plasma_Bcell\",\n",
    "    \"CD8T\",\n",
    "    \"Naive_Tcell\",\n",
    "    \"Treg\",\n",
    "    \"Normal_Smooth_muscle\",\n",
    "]"
   ]
  },
  {
   "cell_type": "code",
   "execution_count": null,
   "id": "ce01683b-0df6-4c65-b57f-1363f73e25c0",
   "metadata": {},
   "outputs": [],
   "source": [
    "df = b4.obs[cellt]\n",
    "df = df.div(df.sum(axis=1), axis=0)\n",
    "df.rename(columns=cellt_newnames, inplace=True)"
   ]
  },
  {
   "cell_type": "code",
   "execution_count": null,
   "id": "a612fa04-66ab-4b01-8e2c-7d4ed93b421f",
   "metadata": {},
   "outputs": [],
   "source": [
    "df = df.join(b4.obs[[\"ecDNA_enrichment\", \"segmentation_labels\"]]).melt(\n",
    "    id_vars=[\"ecDNA_enrichment\", \"segmentation_labels\"]\n",
    ")\n",
    "df"
   ]
  },
  {
   "cell_type": "code",
   "execution_count": null,
   "id": "924b2613-9b70-49c6-9cd5-0167c11e75d7",
   "metadata": {},
   "outputs": [],
   "source": [
    "# let's only compare clusters 0 and 2\n",
    "df_sub = df[df[\"segmentation_labels\"].isin([0, 2])]\n",
    "df_sub[\"segmentation_labels\"] = pd.Categorical(\n",
    "    df_sub[\"segmentation_labels\"], categories=[0, 2]\n",
    ")\n",
    "df_sub[\"variable\"] = df_sub[\"variable\"].str.replace(\"_\", \" \")\n",
    "df_sub"
   ]
  },
  {
   "cell_type": "code",
   "execution_count": null,
   "id": "0bd806b0-4820-4c96-acc2-6b122cca4d7c",
   "metadata": {},
   "outputs": [],
   "source": [
    "sns.boxplot(\n",
    "    df_sub,\n",
    "    x=\"variable\",\n",
    "    y=\"value\",\n",
    "    hue=\"segmentation_labels\",\n",
    "    palette=[sns.color_palette(\"colorblind\")[0], sns.color_palette(\"colorblind\")[2]],\n",
    ")\n",
    "sns.despine(top=True, right=True, left=False, bottom=False)\n",
    "plt.xticks(rotation=90)\n",
    "plt.xlabel(\"Cell type\")\n",
    "plt.ylabel(\"Fraction of cell type\")\n",
    "plt.legend(title=\"SpatialDE cluster\")\n",
    "\n",
    "plt.savefig(\n",
    "    \"boxplot_celltypes_spatialde_segments_cl0_cl2.svg\", dpi=300, bbox_inches=\"tight\"\n",
    ")\n",
    "plt.show()\n",
    "plt.close()"
   ]
  },
  {
   "cell_type": "code",
   "execution_count": null,
   "id": "9e353644-c8d8-4489-95e3-55a646c89a44",
   "metadata": {},
   "outputs": [],
   "source": [
    "df_sub.groupby(\"variable\").apply(\n",
    "    lambda x: mannwhitneyu(\n",
    "        x.value[x.segmentation_labels == 0],\n",
    "        x.value[x.segmentation_labels == 2],\n",
    "        alternative=\"two-sided\",\n",
    "    ).pvalue\n",
    ").rename(\"pval\").reset_index().assign(\n",
    "    padj=lambda x: multipletests(x.pval, method=\"fdr_bh\")[1]\n",
    ").sort_values(\n",
    "    by=\"padj\"\n",
    ")"
   ]
  },
  {
   "cell_type": "markdown",
   "id": "0729cfeb-3290-4687-88cc-4691a489cede",
   "metadata": {},
   "source": [
    "Let's focus just on epithelial cells, since stromal and immune cells are almost not present."
   ]
  },
  {
   "cell_type": "code",
   "execution_count": null,
   "id": "bc20b6fa-3b90-40a3-a9ff-0b249652ea50",
   "metadata": {},
   "outputs": [],
   "source": [
    "plt.figure(figsize=(6, 6))\n",
    "sns.boxplot(\n",
    "    df_sub[\n",
    "        (df_sub[\"variable\"].str.contains(\"epithelial\"))\n",
    "        & (df_sub[\"variable\"] != \"Immune-inflitrated epithelial\")\n",
    "    ],\n",
    "    x=\"variable\",\n",
    "    y=\"value\",\n",
    "    hue=\"segmentation_labels\",\n",
    "    palette=[sns.color_palette(\"colorblind\")[0], sns.color_palette(\"colorblind\")[2]],\n",
    ")\n",
    "sns.despine(top=True, right=True, left=False, bottom=False)\n",
    "plt.xticks(rotation=90)\n",
    "plt.xlabel(\"Cell type\")\n",
    "plt.ylabel(\"Fraction of epithelial subtype\")\n",
    "plt.legend(title=\"SpatialDE cluster\")\n",
    "\n",
    "plt.savefig(\n",
    "    \"fig4L_boxplot_epithelial_spatialde_segments_cl0_cl2.svg\",\n",
    "    dpi=300,\n",
    "    bbox_inches=\"tight\",\n",
    ")\n",
    "plt.show()\n",
    "plt.close()"
   ]
  },
  {
   "cell_type": "code",
   "execution_count": null,
   "id": "c2250f92-1ee7-406a-864f-167b83c99c84",
   "metadata": {},
   "outputs": [],
   "source": [
    "df_sub[df_sub[\"variable\"].str.contains(\"epithelial\")].groupby(\"variable\").apply(\n",
    "    lambda x: mannwhitneyu(\n",
    "        x.value[x.segmentation_labels == 0],\n",
    "        x.value[x.segmentation_labels == 2],\n",
    "        alternative=\"two-sided\",\n",
    "    ).pvalue\n",
    ").rename(\"pval\").reset_index().assign(\n",
    "    padj=lambda x: multipletests(x.pval, method=\"fdr_bh\")[1]\n",
    ").sort_values(\n",
    "    by=\"padj\"\n",
    ")"
   ]
  },
  {
   "cell_type": "code",
   "execution_count": null,
   "id": "357076b2-e2a3-45bb-98cf-773765f1dc9f",
   "metadata": {},
   "outputs": [],
   "source": [
    "b4_sub = b4[b4.obs[\"segmentation_labels\"].isin([0, 2]), :]"
   ]
  },
  {
   "cell_type": "markdown",
   "id": "af774589-b296-4022-be98-2060ac272056",
   "metadata": {},
   "source": [
    "Now let's check which genes are differentially expressed between these two regions."
   ]
  },
  {
   "cell_type": "code",
   "execution_count": null,
   "id": "e8f97b39-6ea2-47dd-8ed9-13e1dae1bb86",
   "metadata": {},
   "outputs": [],
   "source": [
    "b4_sub.obs[\"segmentation_labels\"] = b4_sub.obs[\"segmentation_labels\"].astype(str)\n",
    "sc.tl.rank_genes_groups(b4_sub, \"segmentation_labels\", method=\"wilcoxon\")"
   ]
  },
  {
   "cell_type": "code",
   "execution_count": null,
   "id": "ffeea448-dde6-481b-8832-80c91b0d328c",
   "metadata": {},
   "outputs": [],
   "source": [
    "df = pd.DataFrame(\n",
    "    b4_sub.uns[\"rank_genes_groups\"][\"logfoldchanges\"],\n",
    "    index=pd.DataFrame(b4_sub.uns[\"rank_genes_groups\"][\"names\"])[\"0\"],\n",
    ")[[\"0\"]]\n",
    "df.columns = [\"logFC\"]\n",
    "g = pd.DataFrame(\n",
    "    b4_sub.uns[\"rank_genes_groups\"][\"pvals_adj\"],\n",
    "    index=pd.DataFrame(b4_sub.uns[\"rank_genes_groups\"][\"names\"])[\"0\"],\n",
    ")[[\"0\"]]\n",
    "f = pd.DataFrame(\n",
    "    b4_sub.uns[\"rank_genes_groups\"][\"scores\"],\n",
    "    index=pd.DataFrame(b4_sub.uns[\"rank_genes_groups\"][\"names\"])[\"0\"],\n",
    ")[[\"0\"]]\n",
    "df = df.join(g)\n",
    "df.columns = [\"logFC\", \"padj\"]\n",
    "df = df.join(f)\n",
    "df.columns = [\"logFC\", \"padj\", \"scores\"]\n",
    "df"
   ]
  },
  {
   "cell_type": "code",
   "execution_count": null,
   "id": "90c22ed3-efce-4f33-91e2-dd91fb9ee14d",
   "metadata": {},
   "outputs": [],
   "source": [
    "df[(df[\"padj\"] < 0.05) & (abs(df[\"logFC\"]) >= 1.5)]"
   ]
  },
  {
   "cell_type": "code",
   "execution_count": null,
   "id": "bea900fe-ea3a-42db-a763-41eee7e56cfc",
   "metadata": {},
   "outputs": [],
   "source": [
    "sns.set_theme(style=\"white\", rc=PLOTTING_PARAMS)\n",
    "df[df[\"logFC\"] > 6] = 6\n",
    "df[df[\"logFC\"] < -6] = -6\n",
    "plt.figure(figsize=(10, 8))\n",
    "plt.scatter(x=df[\"logFC\"], y=df[\"padj\"].apply(lambda x: -np.log10(x)), s=1)\n",
    "\n",
    "# highlight down- or up- regulated genes\n",
    "down = df[(df[\"logFC\"] <= -1.5) & (df[\"padj\"] <= 0.001)]\n",
    "up = df[(df[\"logFC\"] >= 1.5) & (df[\"padj\"] <= 0.001)]\n",
    "\n",
    "plt.scatter(\n",
    "    x=down[\"logFC\"],\n",
    "    y=down[\"padj\"].apply(lambda x: -np.log10(x)),\n",
    "    s=3,\n",
    "    label=\"Down-regulated\",\n",
    "    color=\"blue\",\n",
    ")\n",
    "plt.scatter(\n",
    "    x=up[\"logFC\"],\n",
    "    y=up[\"padj\"].apply(lambda x: -np.log10(x)),\n",
    "    s=3,\n",
    "    label=\"Up-regulated\",\n",
    "    color=\"red\",\n",
    ")\n",
    "texts = []\n",
    "for i, r in df[:20].iterrows():\n",
    "    if r[\"logFC\"] >= 1.5:\n",
    "        texts.append(plt.text(x=r[\"logFC\"], y=-np.log10(r[\"padj\"]), s=i, size=16))\n",
    "for i, r in df[-52:].iterrows():\n",
    "    if r[\"logFC\"] <= -1.5:\n",
    "        texts.append(plt.text(x=r[\"logFC\"], y=-np.log10(r[\"padj\"]), s=i, size=16))\n",
    "\n",
    "adjust_text(\n",
    "    texts,\n",
    "    arrowprops=dict(arrowstyle=\"-\", color=\"black\", lw=0.5),\n",
    "    expand_points=(1.4, 1.8),\n",
    "    expand_text=(1.3, 1.6),\n",
    "    force_points=0.2,\n",
    "    force_text=0.3,\n",
    "    lim=300,\n",
    "    only_move={\"points\": \"y\", \"texts\": \"y\"},\n",
    ")\n",
    "plt.xlabel(\"logFC\")\n",
    "plt.ylabel(\"-log10(FDR)\")\n",
    "plt.xlim(-5, 5)\n",
    "plt.axvline(-1.5, color=\"grey\", linestyle=\"--\")\n",
    "plt.axvline(1.5, color=\"grey\", linestyle=\"--\")\n",
    "plt.axhline(3, color=\"grey\", linestyle=\"--\")\n",
    "plt.savefig(\"fig4J_volcano_cl0_vs_cl2.svg\", dpi=300, bbox_inches=\"tight\")\n",
    "plt.show()\n",
    "plt.close()"
   ]
  },
  {
   "cell_type": "code",
   "execution_count": null,
   "id": "863702b2-c342-4366-a12b-2c6394adda69",
   "metadata": {},
   "outputs": [],
   "source": [
    "rnk = pd.DataFrame(\n",
    "    b4_sub.uns[\"rank_genes_groups\"][\"scores\"],\n",
    "    index=pd.DataFrame(b4_sub.uns[\"rank_genes_groups\"][\"names\"])[\"0\"],\n",
    ")[[\"0\"]]\n",
    "rnk.columns = [1]"
   ]
  },
  {
   "cell_type": "code",
   "execution_count": null,
   "id": "10b84503-bf62-4c39-bdfc-b78f1240dc40",
   "metadata": {},
   "outputs": [],
   "source": [
    "pre_res = gp.prerank(\n",
    "    rnk=rnk,\n",
    "    gene_sets=Msigdb.get_gmt(),\n",
    "    threads=4,\n",
    "    min_size=5,\n",
    "    max_size=1000,\n",
    "    permutation_num=1000,\n",
    "    outdir=None,\n",
    "    seed=6,\n",
    "    verbose=True,\n",
    ")"
   ]
  },
  {
   "cell_type": "code",
   "execution_count": null,
   "id": "24f353b9-e522-429f-8c97-56deaa977cea",
   "metadata": {},
   "outputs": [],
   "source": [
    "pre_res.res2d.to_csv(\"../../data/GSEA_GO_cl0_cl2.csv\")"
   ]
  },
  {
   "cell_type": "code",
   "execution_count": null,
   "id": "c3c6ac72-f463-4f74-9637-6149b1add829",
   "metadata": {},
   "outputs": [],
   "source": [
    "pre_res.res2d = pre_res.res2d[pre_res.res2d[\"FDR q-val\"] < 0.05]"
   ]
  },
  {
   "cell_type": "code",
   "execution_count": null,
   "id": "2f33f772-e05c-4a60-a53c-baf756664cbc",
   "metadata": {},
   "outputs": [],
   "source": [
    "pre_res.res2d[\"Term\"] = (\n",
    "    pre_res.res2d[\"Term\"].str.replace(\"HALLMARK_\", \"\").str.replace(\"_\", \" \")\n",
    ")"
   ]
  },
  {
   "cell_type": "code",
   "execution_count": null,
   "id": "9775936a-4969-400f-8bf6-2e190f673824",
   "metadata": {},
   "outputs": [],
   "source": [
    "sns.reset_defaults()\n",
    "ax = dotplot(\n",
    "    pre_res.res2d,\n",
    "    column=\"FDR q-val\",\n",
    "    cmap=plt.cm.viridis,\n",
    "    size=6,\n",
    "    figsize=(6, 6),\n",
    "    cutoff=0.25,\n",
    "    show_ring=False,\n",
    ")\n",
    "plt.show()\n",
    "plt.close()"
   ]
  },
  {
   "cell_type": "code",
   "execution_count": null,
   "id": "12d90152-b577-4cb6-868e-e29234a4d574",
   "metadata": {},
   "outputs": [],
   "source": [
    "toplot = pre_res.res2d[:10].sort_values(\"NES\").reset_index()"
   ]
  },
  {
   "cell_type": "code",
   "execution_count": null,
   "id": "0cbc8f44-3612-453f-a0bd-491424ac3b9c",
   "metadata": {},
   "outputs": [],
   "source": [
    "toplot[\"significant\"] = toplot[\"FDR q-val\"] < 0.05\n",
    "colors = toplot[\"significant\"].map({True: \"#336E23\", False: \"#D59F3F\"})"
   ]
  },
  {
   "cell_type": "code",
   "execution_count": null,
   "id": "1b40600b-df6e-484f-bd6a-ca91dcb8dbcd",
   "metadata": {},
   "outputs": [],
   "source": [
    "sns.reset_defaults()\n",
    "plt.figure(figsize=(6, 6))\n",
    "plt.barh(toplot[\"Term\"], toplot[\"NES\"], color=colors)\n",
    "plt.axvline(0, color=\"black\", linewidth=0.8, linestyle=\"dashed\")\n",
    "plt.xlabel(\n",
    "    \"Cluster 2 <-- NES --> Cluster 0\",\n",
    "    size=16,\n",
    ")\n",
    "plt.yticks(size=16)\n",
    "plt.xticks(size=16)\n",
    "plt.title(\"GSEA: Cluster 0 versus cluster 2\", size=16)\n",
    "\n",
    "# Custom legend\n",
    "legend_elements = [\n",
    "    Patch(facecolor=\"#D59F3F\", label=\"False\"),\n",
    "    Patch(facecolor=\"#336E23\", label=\"True\"),\n",
    "]\n",
    "plt.legend(\n",
    "    handles=legend_elements,\n",
    "    title=\"FDR q-value\\n< 0.05\",\n",
    "    loc=\"best\",\n",
    "    fontsize=12,\n",
    "    title_fontsize=14,\n",
    ")\n",
    "\n",
    "# plt.tight_layout()\n",
    "plt.savefig(\"fig4K_barplot_cl0_vs_cl2.svg\", dpi=300, bbox_inches=\"tight\")\n",
    "plt.savefig(\"fig4K_barplot_cl0_vs_cl2.png\", dpi=300, bbox_inches=\"tight\")\n",
    "plt.show()\n",
    "plt.close()"
   ]
  },
  {
   "cell_type": "markdown",
   "id": "c6d5cf48-b689-4876-b437-426f3e0a0a8a",
   "metadata": {},
   "source": [
    "## General sample-specific signatures"
   ]
  },
  {
   "cell_type": "code",
   "execution_count": null,
   "id": "7dee4f0d-291d-4818-985d-c465200f095c",
   "metadata": {},
   "outputs": [],
   "source": [
    "adata.obs[\"sample\"] = pd.Categorical(\n",
    "    adata.obs[\"sample\"],\n",
    "    categories=[\n",
    "        \"B22\",\n",
    "        \"B24\",\n",
    "        \"B60\",\n",
    "        \"B154\",\n",
    "        \"B156\",\n",
    "        \"B175\",\n",
    "        \"B178\",\n",
    "        \"B4\",\n",
    "        \"B42\",\n",
    "        \"B123\",\n",
    "    ],\n",
    "    ordered=True,\n",
    ")\n",
    "expressions = sc.get.obs_df(adata, keys=[\"sample\", \"APOBEC3B\", \"MDM2\", \"RAP1B\"])"
   ]
  },
  {
   "cell_type": "code",
   "execution_count": null,
   "id": "5cf02b94-be12-4cff-827b-25f80b96694c",
   "metadata": {},
   "outputs": [],
   "source": [
    "data = [\n",
    "    expressions.loc[ids, \"APOBEC3B\"].values\n",
    "    for ids in expressions.groupby(\"sample\").groups.values()\n",
    "]"
   ]
  },
  {
   "cell_type": "code",
   "execution_count": null,
   "id": "3ac48e19-8400-4abb-a6eb-e8892a83d6cd",
   "metadata": {},
   "outputs": [],
   "source": [
    "H, p = kruskal(*data)\n",
    "p"
   ]
  },
  {
   "cell_type": "code",
   "execution_count": null,
   "id": "262906e6-45af-48b0-9f70-96f073dace26",
   "metadata": {},
   "outputs": [],
   "source": [
    "sp.posthoc_dunn(expressions, val_col=\"APOBEC3B\", group_col=\"sample\", p_adjust=\"fdr_bh\")"
   ]
  },
  {
   "cell_type": "code",
   "execution_count": null,
   "id": "f8b2c67d-a910-49f3-8ba2-1a30cfc075ca",
   "metadata": {},
   "outputs": [],
   "source": [
    "x = \"sample\"\n",
    "y = \"APOBEC3B\"\n",
    "order = expressions[\"sample\"].unique().categories\n",
    "pairs = [(\"B4\", s) for s in expressions[\"sample\"].unique() if s != \"B4\"]\n",
    "\n",
    "ax = sns.boxplot(expressions, x=\"sample\", y=y)\n",
    "sns.despine(top=True, right=True, left=False, bottom=False)\n",
    "plt.xlabel(\"Sample\")\n",
    "plt.ylabel(f\"Normalized APOBEC3B\\nexpression\")\n",
    "plt.xticks(rotation=45)\n",
    "\n",
    "\n",
    "annotator = Annotator(ax, pairs, data=expressions, x=x, y=y, order=order)\n",
    "annotator.configure(\n",
    "    test=\"Mann-Whitney\", text_format=\"star\", loc=\"inside\", comparisons_correction=\"BH\"\n",
    ")\n",
    "annotator.apply_and_annotate()\n",
    "\n",
    "plt.ylim(0, 5)\n",
    "\n",
    "\n",
    "plt.savefig(\n",
    "    \"suppfigure_12E_boxplot_APOBEC3B_signature_cohort.svg\", dpi=300, bbox_inches=\"tight\"\n",
    ")\n",
    "plt.show()\n",
    "plt.close()"
   ]
  }
 ],
 "metadata": {
  "kernelspec": {
   "display_name": "muon",
   "language": "python",
   "name": "muon"
  },
  "language_info": {
   "codemirror_mode": {
    "name": "ipython",
    "version": 3
   },
   "file_extension": ".py",
   "mimetype": "text/x-python",
   "name": "python",
   "nbconvert_exporter": "python",
   "pygments_lexer": "ipython3",
   "version": "3.10.16"
  }
 },
 "nbformat": 4,
 "nbformat_minor": 5
}
